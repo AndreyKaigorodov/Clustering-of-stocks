{
 "cells": [
  {
   "cell_type": "code",
   "execution_count": 43,
   "id": "7a5ae3bf",
   "metadata": {},
   "outputs": [],
   "source": [
    "#Importing necessary libraries\n",
    "import pandas as pd\n",
    "import numpy as np\n",
    "import yfinance as yf\n",
    "import seaborn as sns\n",
    "import matplotlib.pyplot as plt\n",
    "import plotly\n",
    "import plotly.graph_objs as go\n",
    "from sklearn.preprocessing import MinMaxScaler\n",
    "from sklearn.preprocessing import LabelEncoder\n",
    "from plotly.offline import download_plotlyjs, init_notebook_mode, iplot, plot\n",
    "from sklearn.cluster import KMeans\n",
    "from yellowbrick.cluster import KElbowVisualizer\n",
    "from sklearn.cluster import AgglomerativeClustering\n",
    "from sklearn.metrics import silhouette_score\n",
    "import warnings\n",
    "warnings.filterwarnings(\"ignore\")"
   ]
  },
  {
   "cell_type": "markdown",
   "id": "fd2896d3",
   "metadata": {},
   "source": [
    "#  Clustering a stock portfolio for the diversification problem"
   ]
  },
  {
   "cell_type": "markdown",
   "id": "78e369fa",
   "metadata": {},
   "source": [
    "### Objectives"
   ]
  },
  {
   "cell_type": "markdown",
   "id": "db8c1c74",
   "metadata": {},
   "source": [
    "The **goal** of this work is: to **cluster stocks using unsupervised machine learning algorithms** such as **KMeans** and **Aglomerative Hierarchical Clustering**. Stock clustering can be useful for a variety of financial and investment purposes: \n",
    "\n",
    "\n",
    "1. **Portfolio diversification**. **Diversification** helps reduce risks due to the fact that the investor doesn't invest money in any one asset, but collects a portfolio of many different assets that have little relationship with each other. Then, even if one of the investor’s securities falls in price, others are likely to rise - and the profitability on them will eventually cover the losses that have arisen.\n",
    "\n",
    "\n",
    "2. **Risk and return analysis**. Understanding which stocks are clustered together can help investors assess the expected level of risk and return for each cluster. This can be useful for making decisions about how to allocate capital in a portfolio.\n",
    "\n",
    "\n",
    "3. **Trend forecasting**. Clustering can identify stocks that exhibit similar behavior in the market. This can help investors identify trends and make decisions based on expected market movements.\n",
    "\n",
    "\n",
    "4. **Financial market analysis**: Clustering can serve as a tool for analyzing the structure of the financial market, identifying groups of stocks with common characteristics.\n",
    "\n",
    " \n"
   ]
  },
  {
   "cell_type": "markdown",
   "id": "c1281d12",
   "metadata": {},
   "source": [
    "### Dataset"
   ]
  },
  {
   "cell_type": "markdown",
   "id": "8f45cb07",
   "metadata": {},
   "source": [
    "First of all, I obtained data with information about the companies included in the S&P 500 index, taken from the specified web page.\n",
    "\n",
    "[S&P 500](https://en.wikipedia.org/wiki/List_of_S%26P_500_companies) - it is a stock index consisting of shares of the 500 largest public companies in the United States"
   ]
  },
  {
   "cell_type": "code",
   "execution_count": 3,
   "id": "67c3d3e2",
   "metadata": {
    "scrolled": false
   },
   "outputs": [
    {
     "data": {
      "text/html": [
       "<div>\n",
       "<style scoped>\n",
       "    .dataframe tbody tr th:only-of-type {\n",
       "        vertical-align: middle;\n",
       "    }\n",
       "\n",
       "    .dataframe tbody tr th {\n",
       "        vertical-align: top;\n",
       "    }\n",
       "\n",
       "    .dataframe thead th {\n",
       "        text-align: right;\n",
       "    }\n",
       "</style>\n",
       "<table border=\"1\" class=\"dataframe\">\n",
       "  <thead>\n",
       "    <tr style=\"text-align: right;\">\n",
       "      <th></th>\n",
       "      <th>Symbol</th>\n",
       "      <th>Security</th>\n",
       "      <th>GICS Sector</th>\n",
       "      <th>GICS Sub-Industry</th>\n",
       "      <th>Headquarters Location</th>\n",
       "      <th>Date added</th>\n",
       "      <th>CIK</th>\n",
       "      <th>Founded</th>\n",
       "    </tr>\n",
       "  </thead>\n",
       "  <tbody>\n",
       "    <tr>\n",
       "      <th>0</th>\n",
       "      <td>MMM</td>\n",
       "      <td>3M</td>\n",
       "      <td>Industrials</td>\n",
       "      <td>Industrial Conglomerates</td>\n",
       "      <td>Saint Paul, Minnesota</td>\n",
       "      <td>1957-03-04</td>\n",
       "      <td>66740</td>\n",
       "      <td>1902</td>\n",
       "    </tr>\n",
       "    <tr>\n",
       "      <th>1</th>\n",
       "      <td>AOS</td>\n",
       "      <td>A. O. Smith</td>\n",
       "      <td>Industrials</td>\n",
       "      <td>Building Products</td>\n",
       "      <td>Milwaukee, Wisconsin</td>\n",
       "      <td>2017-07-26</td>\n",
       "      <td>91142</td>\n",
       "      <td>1916</td>\n",
       "    </tr>\n",
       "    <tr>\n",
       "      <th>2</th>\n",
       "      <td>ABT</td>\n",
       "      <td>Abbott</td>\n",
       "      <td>Health Care</td>\n",
       "      <td>Health Care Equipment</td>\n",
       "      <td>North Chicago, Illinois</td>\n",
       "      <td>1957-03-04</td>\n",
       "      <td>1800</td>\n",
       "      <td>1888</td>\n",
       "    </tr>\n",
       "    <tr>\n",
       "      <th>3</th>\n",
       "      <td>ABBV</td>\n",
       "      <td>AbbVie</td>\n",
       "      <td>Health Care</td>\n",
       "      <td>Biotechnology</td>\n",
       "      <td>North Chicago, Illinois</td>\n",
       "      <td>2012-12-31</td>\n",
       "      <td>1551152</td>\n",
       "      <td>2013 (1888)</td>\n",
       "    </tr>\n",
       "    <tr>\n",
       "      <th>4</th>\n",
       "      <td>ACN</td>\n",
       "      <td>Accenture</td>\n",
       "      <td>Information Technology</td>\n",
       "      <td>IT Consulting &amp; Other Services</td>\n",
       "      <td>Dublin, Ireland</td>\n",
       "      <td>2011-07-06</td>\n",
       "      <td>1467373</td>\n",
       "      <td>1989</td>\n",
       "    </tr>\n",
       "  </tbody>\n",
       "</table>\n",
       "</div>"
      ],
      "text/plain": [
       "  Symbol     Security             GICS Sector               GICS Sub-Industry  \\\n",
       "0    MMM           3M             Industrials        Industrial Conglomerates   \n",
       "1    AOS  A. O. Smith             Industrials               Building Products   \n",
       "2    ABT       Abbott             Health Care           Health Care Equipment   \n",
       "3   ABBV       AbbVie             Health Care                   Biotechnology   \n",
       "4    ACN    Accenture  Information Technology  IT Consulting & Other Services   \n",
       "\n",
       "     Headquarters Location  Date added      CIK      Founded  \n",
       "0    Saint Paul, Minnesota  1957-03-04    66740         1902  \n",
       "1     Milwaukee, Wisconsin  2017-07-26    91142         1916  \n",
       "2  North Chicago, Illinois  1957-03-04     1800         1888  \n",
       "3  North Chicago, Illinois  2012-12-31  1551152  2013 (1888)  \n",
       "4          Dublin, Ireland  2011-07-06  1467373         1989  "
      ]
     },
     "execution_count": 3,
     "metadata": {},
     "output_type": "execute_result"
    }
   ],
   "source": [
    "table=pd.read_html('https://en.wikipedia.org/wiki/List_of_S%26P_500_companies')[0]\n",
    "table.head()"
   ]
  },
  {
   "cell_type": "markdown",
   "id": "6ae8ee41",
   "metadata": {},
   "source": [
    "Then, I took  data from [Finance Yahoo](https://finance.yahoo.com/) for 2023, related to stock prices in the financial market."
   ]
  },
  {
   "cell_type": "code",
   "execution_count": 4,
   "id": "f12a1ce1",
   "metadata": {
    "scrolled": false
   },
   "outputs": [
    {
     "name": "stdout",
     "output_type": "stream",
     "text": [
      "[*********************100%%**********************]  503 of 503 completed"
     ]
    },
    {
     "name": "stderr",
     "output_type": "stream",
     "text": [
      "\n",
      "2 Failed downloads:\n",
      "['BRK.B']: Exception('%ticker%: No timezone found, symbol may be delisted')\n",
      "['BF.B']: Exception('%ticker%: No price data found, symbol may be delisted (1d 2023-01-01 -> 2023-12-31)')\n"
     ]
    },
    {
     "name": "stdout",
     "output_type": "stream",
     "text": [
      "\n"
     ]
    },
    {
     "data": {
      "text/html": [
       "<div>\n",
       "<style scoped>\n",
       "    .dataframe tbody tr th:only-of-type {\n",
       "        vertical-align: middle;\n",
       "    }\n",
       "\n",
       "    .dataframe tbody tr th {\n",
       "        vertical-align: top;\n",
       "    }\n",
       "\n",
       "    .dataframe thead tr th {\n",
       "        text-align: left;\n",
       "    }\n",
       "\n",
       "    .dataframe thead tr:last-of-type th {\n",
       "        text-align: right;\n",
       "    }\n",
       "</style>\n",
       "<table border=\"1\" class=\"dataframe\">\n",
       "  <thead>\n",
       "    <tr>\n",
       "      <th></th>\n",
       "      <th colspan=\"10\" halign=\"left\">Adj Close</th>\n",
       "      <th>...</th>\n",
       "      <th colspan=\"10\" halign=\"left\">Volume</th>\n",
       "    </tr>\n",
       "    <tr>\n",
       "      <th></th>\n",
       "      <th>A</th>\n",
       "      <th>AAL</th>\n",
       "      <th>AAPL</th>\n",
       "      <th>ABBV</th>\n",
       "      <th>ABNB</th>\n",
       "      <th>ABT</th>\n",
       "      <th>ACGL</th>\n",
       "      <th>ACN</th>\n",
       "      <th>ADBE</th>\n",
       "      <th>ADI</th>\n",
       "      <th>...</th>\n",
       "      <th>WYNN</th>\n",
       "      <th>XEL</th>\n",
       "      <th>XOM</th>\n",
       "      <th>XRAY</th>\n",
       "      <th>XYL</th>\n",
       "      <th>YUM</th>\n",
       "      <th>ZBH</th>\n",
       "      <th>ZBRA</th>\n",
       "      <th>ZION</th>\n",
       "      <th>ZTS</th>\n",
       "    </tr>\n",
       "    <tr>\n",
       "      <th>Date</th>\n",
       "      <th></th>\n",
       "      <th></th>\n",
       "      <th></th>\n",
       "      <th></th>\n",
       "      <th></th>\n",
       "      <th></th>\n",
       "      <th></th>\n",
       "      <th></th>\n",
       "      <th></th>\n",
       "      <th></th>\n",
       "      <th></th>\n",
       "      <th></th>\n",
       "      <th></th>\n",
       "      <th></th>\n",
       "      <th></th>\n",
       "      <th></th>\n",
       "      <th></th>\n",
       "      <th></th>\n",
       "      <th></th>\n",
       "      <th></th>\n",
       "      <th></th>\n",
       "    </tr>\n",
       "  </thead>\n",
       "  <tbody>\n",
       "    <tr>\n",
       "      <th>2023-01-03 00:00:00</th>\n",
       "      <td>148.957672</td>\n",
       "      <td>12.74</td>\n",
       "      <td>124.374802</td>\n",
       "      <td>154.597809</td>\n",
       "      <td>84.900002</td>\n",
       "      <td>106.914352</td>\n",
       "      <td>62.459999</td>\n",
       "      <td>265.065399</td>\n",
       "      <td>336.920013</td>\n",
       "      <td>159.414200</td>\n",
       "      <td>...</td>\n",
       "      <td>3318600</td>\n",
       "      <td>2684500</td>\n",
       "      <td>15146200</td>\n",
       "      <td>1653800</td>\n",
       "      <td>812400</td>\n",
       "      <td>2307100</td>\n",
       "      <td>921100</td>\n",
       "      <td>295400</td>\n",
       "      <td>1175800</td>\n",
       "      <td>1840600</td>\n",
       "    </tr>\n",
       "    <tr>\n",
       "      <th>2023-01-04 00:00:00</th>\n",
       "      <td>150.575928</td>\n",
       "      <td>13.59</td>\n",
       "      <td>125.657639</td>\n",
       "      <td>155.845016</td>\n",
       "      <td>88.720001</td>\n",
       "      <td>108.504700</td>\n",
       "      <td>62.770000</td>\n",
       "      <td>264.163055</td>\n",
       "      <td>341.410004</td>\n",
       "      <td>162.809555</td>\n",
       "      <td>...</td>\n",
       "      <td>5743600</td>\n",
       "      <td>2265900</td>\n",
       "      <td>18058400</td>\n",
       "      <td>3697800</td>\n",
       "      <td>905900</td>\n",
       "      <td>1139400</td>\n",
       "      <td>1389400</td>\n",
       "      <td>311600</td>\n",
       "      <td>1689000</td>\n",
       "      <td>1796100</td>\n",
       "    </tr>\n",
       "    <tr>\n",
       "      <th>2023-01-05 00:00:00</th>\n",
       "      <td>151.012756</td>\n",
       "      <td>13.99</td>\n",
       "      <td>124.325081</td>\n",
       "      <td>155.654617</td>\n",
       "      <td>87.709999</td>\n",
       "      <td>108.104683</td>\n",
       "      <td>62.939999</td>\n",
       "      <td>257.925323</td>\n",
       "      <td>328.440002</td>\n",
       "      <td>156.705780</td>\n",
       "      <td>...</td>\n",
       "      <td>2983000</td>\n",
       "      <td>2104500</td>\n",
       "      <td>15946600</td>\n",
       "      <td>4455700</td>\n",
       "      <td>1295700</td>\n",
       "      <td>1078200</td>\n",
       "      <td>2238300</td>\n",
       "      <td>368200</td>\n",
       "      <td>867800</td>\n",
       "      <td>1560900</td>\n",
       "    </tr>\n",
       "    <tr>\n",
       "      <th>2023-01-06 00:00:00</th>\n",
       "      <td>146.604782</td>\n",
       "      <td>14.18</td>\n",
       "      <td>128.899521</td>\n",
       "      <td>158.567963</td>\n",
       "      <td>88.519997</td>\n",
       "      <td>109.597458</td>\n",
       "      <td>63.900002</td>\n",
       "      <td>264.035583</td>\n",
       "      <td>332.750000</td>\n",
       "      <td>162.426834</td>\n",
       "      <td>...</td>\n",
       "      <td>2901900</td>\n",
       "      <td>2976200</td>\n",
       "      <td>16348100</td>\n",
       "      <td>2058700</td>\n",
       "      <td>636200</td>\n",
       "      <td>1559400</td>\n",
       "      <td>2348900</td>\n",
       "      <td>552700</td>\n",
       "      <td>1363700</td>\n",
       "      <td>1761200</td>\n",
       "    </tr>\n",
       "    <tr>\n",
       "      <th>2023-01-09 00:00:00</th>\n",
       "      <td>146.406219</td>\n",
       "      <td>14.61</td>\n",
       "      <td>129.426575</td>\n",
       "      <td>153.912308</td>\n",
       "      <td>89.239998</td>\n",
       "      <td>109.421844</td>\n",
       "      <td>62.669998</td>\n",
       "      <td>268.488312</td>\n",
       "      <td>341.980011</td>\n",
       "      <td>163.977325</td>\n",
       "      <td>...</td>\n",
       "      <td>2751000</td>\n",
       "      <td>2707800</td>\n",
       "      <td>17964600</td>\n",
       "      <td>1468900</td>\n",
       "      <td>1224700</td>\n",
       "      <td>1211200</td>\n",
       "      <td>1423600</td>\n",
       "      <td>535400</td>\n",
       "      <td>902700</td>\n",
       "      <td>1700500</td>\n",
       "    </tr>\n",
       "  </tbody>\n",
       "</table>\n",
       "<p>5 rows × 3018 columns</p>\n",
       "</div>"
      ],
      "text/plain": [
       "                      Adj Close                                            \\\n",
       "                              A    AAL        AAPL        ABBV       ABNB   \n",
       "Date                                                                        \n",
       "2023-01-03 00:00:00  148.957672  12.74  124.374802  154.597809  84.900002   \n",
       "2023-01-04 00:00:00  150.575928  13.59  125.657639  155.845016  88.720001   \n",
       "2023-01-05 00:00:00  151.012756  13.99  124.325081  155.654617  87.709999   \n",
       "2023-01-06 00:00:00  146.604782  14.18  128.899521  158.567963  88.519997   \n",
       "2023-01-09 00:00:00  146.406219  14.61  129.426575  153.912308  89.239998   \n",
       "\n",
       "                                                                    \\\n",
       "                            ABT       ACGL         ACN        ADBE   \n",
       "Date                                                                 \n",
       "2023-01-03 00:00:00  106.914352  62.459999  265.065399  336.920013   \n",
       "2023-01-04 00:00:00  108.504700  62.770000  264.163055  341.410004   \n",
       "2023-01-05 00:00:00  108.104683  62.939999  257.925323  328.440002   \n",
       "2023-01-06 00:00:00  109.597458  63.900002  264.035583  332.750000   \n",
       "2023-01-09 00:00:00  109.421844  62.669998  268.488312  341.980011   \n",
       "\n",
       "                                 ...   Volume                              \\\n",
       "                            ADI  ...     WYNN      XEL       XOM     XRAY   \n",
       "Date                             ...                                        \n",
       "2023-01-03 00:00:00  159.414200  ...  3318600  2684500  15146200  1653800   \n",
       "2023-01-04 00:00:00  162.809555  ...  5743600  2265900  18058400  3697800   \n",
       "2023-01-05 00:00:00  156.705780  ...  2983000  2104500  15946600  4455700   \n",
       "2023-01-06 00:00:00  162.426834  ...  2901900  2976200  16348100  2058700   \n",
       "2023-01-09 00:00:00  163.977325  ...  2751000  2707800  17964600  1468900   \n",
       "\n",
       "                                                                          \n",
       "                         XYL      YUM      ZBH    ZBRA     ZION      ZTS  \n",
       "Date                                                                      \n",
       "2023-01-03 00:00:00   812400  2307100   921100  295400  1175800  1840600  \n",
       "2023-01-04 00:00:00   905900  1139400  1389400  311600  1689000  1796100  \n",
       "2023-01-05 00:00:00  1295700  1078200  2238300  368200   867800  1560900  \n",
       "2023-01-06 00:00:00   636200  1559400  2348900  552700  1363700  1761200  \n",
       "2023-01-09 00:00:00  1224700  1211200  1423600  535400   902700  1700500  \n",
       "\n",
       "[5 rows x 3018 columns]"
      ]
     },
     "execution_count": 4,
     "metadata": {},
     "output_type": "execute_result"
    }
   ],
   "source": [
    "df =yf.download(table['Symbol'].to_list(),  start = \"2023-01-01\" , end = \"2023-12-31\")\n",
    "df.head() "
   ]
  },
  {
   "cell_type": "markdown",
   "id": "40e42ebc",
   "metadata": {},
   "source": [
    "The **final dataset** contains the following data:\n",
    "\n",
    "1.  **Symbol** - ticker of comapny; short name for a financial asset, an identifier that is unique for a particular exchange.\n",
    "\n",
    "\n",
    "2.  **Returns %** - measurement of the percentage change in a stock's value over a specified period of time. **A higher returns may mean higher potential income, but also comes with a higher risk of loss.**\n",
    "\n",
    "\n",
    "3. **Std (Standard Deviation)** - Standard deviation measures the degree to which a stock's price varies relative to its average. **A higher standard deviation indicates higher volatility and therefore a higher level of risk.**\n",
    "\n",
    "\n",
    "4. **Range:** -  The range represents the difference between the highest and lowest price of a stock over a certain period of time. **A large range may indicate high volatility and potentially higher risk.**\n",
    "\n",
    "\n",
    "5. **Volume** - stock trading volume, number of shares that were bought or sold during a certain period of time (year)\n",
    "\n",
    "\n",
    "6. **GICS Sector** - classification of companies based on their activities and industry.\n",
    " "
   ]
  },
  {
   "cell_type": "code",
   "execution_count": 66,
   "id": "c4d364c0",
   "metadata": {
    "scrolled": false
   },
   "outputs": [
    {
     "data": {
      "text/html": [
       "<div>\n",
       "<style scoped>\n",
       "    .dataframe tbody tr th:only-of-type {\n",
       "        vertical-align: middle;\n",
       "    }\n",
       "\n",
       "    .dataframe tbody tr th {\n",
       "        vertical-align: top;\n",
       "    }\n",
       "\n",
       "    .dataframe thead th {\n",
       "        text-align: right;\n",
       "    }\n",
       "</style>\n",
       "<table border=\"1\" class=\"dataframe\">\n",
       "  <thead>\n",
       "    <tr style=\"text-align: right;\">\n",
       "      <th></th>\n",
       "      <th>Symbol</th>\n",
       "      <th>Returns %</th>\n",
       "      <th>Std</th>\n",
       "      <th>Range</th>\n",
       "      <th>Volume</th>\n",
       "      <th>GICS Sector</th>\n",
       "    </tr>\n",
       "  </thead>\n",
       "  <tbody>\n",
       "    <tr>\n",
       "      <th>0</th>\n",
       "      <td>A</td>\n",
       "      <td>-8.0</td>\n",
       "      <td>13.98</td>\n",
       "      <td>2.80</td>\n",
       "      <td>1845002.0</td>\n",
       "      <td>Health Care</td>\n",
       "    </tr>\n",
       "    <tr>\n",
       "      <th>1</th>\n",
       "      <td>AAL</td>\n",
       "      <td>1.0</td>\n",
       "      <td>1.85</td>\n",
       "      <td>0.42</td>\n",
       "      <td>27740516.8</td>\n",
       "      <td>Industrials</td>\n",
       "    </tr>\n",
       "    <tr>\n",
       "      <th>2</th>\n",
       "      <td>AAPL</td>\n",
       "      <td>53.0</td>\n",
       "      <td>17.50</td>\n",
       "      <td>2.88</td>\n",
       "      <td>59217028.8</td>\n",
       "      <td>Information Technology</td>\n",
       "    </tr>\n",
       "    <tr>\n",
       "      <th>3</th>\n",
       "      <td>ABBV</td>\n",
       "      <td>-2.0</td>\n",
       "      <td>7.10</td>\n",
       "      <td>2.47</td>\n",
       "      <td>5503482.0</td>\n",
       "      <td>Health Care</td>\n",
       "    </tr>\n",
       "    <tr>\n",
       "      <th>4</th>\n",
       "      <td>ABNB</td>\n",
       "      <td>53.0</td>\n",
       "      <td>13.42</td>\n",
       "      <td>4.02</td>\n",
       "      <td>6177357.2</td>\n",
       "      <td>Consumer Discretionary</td>\n",
       "    </tr>\n",
       "  </tbody>\n",
       "</table>\n",
       "</div>"
      ],
      "text/plain": [
       "  Symbol  Returns %    Std  Range      Volume             GICS Sector\n",
       "0      A       -8.0  13.98   2.80   1845002.0             Health Care\n",
       "1    AAL        1.0   1.85   0.42  27740516.8             Industrials\n",
       "2   AAPL       53.0  17.50   2.88  59217028.8  Information Technology\n",
       "3   ABBV       -2.0   7.10   2.47   5503482.0             Health Care\n",
       "4   ABNB       53.0  13.42   4.02   6177357.2  Consumer Discretionary"
      ]
     },
     "execution_count": 66,
     "metadata": {},
     "output_type": "execute_result"
    }
   ],
   "source": [
    "returns = round(((df['Adj Close'].iloc[-1,:] - df['Adj Close'].iloc[1,:]) / df['Adj Close'].iloc[1,:]), 2) * 100\n",
    "df2 = pd.DataFrame(returns)\n",
    "df2.rename(columns = {0 : 'Returns %'}, inplace = True)\n",
    "\n",
    "df2['Std'] = df['Adj Close'].std().round(2)\n",
    "df2['Range'] = (df['High'] - df['Low']).mean().round(2)\n",
    "\n",
    "df2['Volume'] = df['Volume'].mean()\n",
    "\n",
    "df2.reset_index(inplace=True)\n",
    "\n",
    "\n",
    "df2.rename(columns = {\"index\": \"Symbol\", \n",
    "                      0 : 'Returns %'}, inplace = True)\n",
    "\n",
    "df2 = pd.merge(df2, table , on='Symbol', how='left')\n",
    "\n",
    "df2.drop(columns=['Security', \"GICS Sub-Industry\", 'Headquarters Location', 'Date added', 'CIK',\n",
    "       'Founded',], inplace=True)\n",
    "\n",
    "df2.head()"
   ]
  },
  {
   "cell_type": "markdown",
   "id": "8b5b98b5",
   "metadata": {},
   "source": [
    "### Exploratory data analysis"
   ]
  },
  {
   "cell_type": "markdown",
   "id": "3978f8e6",
   "metadata": {},
   "source": [
    "First, let's look at the dimension of the dataset and the number of duplicates"
   ]
  },
  {
   "cell_type": "code",
   "execution_count": 67,
   "id": "cd669e40",
   "metadata": {},
   "outputs": [
    {
     "data": {
      "text/plain": [
       "(503, 6)"
      ]
     },
     "execution_count": 67,
     "metadata": {},
     "output_type": "execute_result"
    }
   ],
   "source": [
    "df2.shape"
   ]
  },
  {
   "cell_type": "code",
   "execution_count": 68,
   "id": "277d0abd",
   "metadata": {},
   "outputs": [
    {
     "name": "stdout",
     "output_type": "stream",
     "text": [
      "Number of duplicates 0\n"
     ]
    }
   ],
   "source": [
    "print(f'Number of duplicates {df2.duplicated().sum()}')"
   ]
  },
  {
   "cell_type": "markdown",
   "id": "48785529",
   "metadata": {},
   "source": [
    "Next, let's examine the null value"
   ]
  },
  {
   "cell_type": "code",
   "execution_count": 69,
   "id": "7b8372d9",
   "metadata": {},
   "outputs": [
    {
     "name": "stdout",
     "output_type": "stream",
     "text": [
      "Returns %      4\n",
      "Std            2\n",
      "Range          2\n",
      "Volume         2\n",
      "Symbol         0\n",
      "GICS Sector    0\n",
      "dtype: int64\n"
     ]
    },
    {
     "data": {
      "text/html": [
       "<div>\n",
       "<style scoped>\n",
       "    .dataframe tbody tr th:only-of-type {\n",
       "        vertical-align: middle;\n",
       "    }\n",
       "\n",
       "    .dataframe tbody tr th {\n",
       "        vertical-align: top;\n",
       "    }\n",
       "\n",
       "    .dataframe thead th {\n",
       "        text-align: right;\n",
       "    }\n",
       "</style>\n",
       "<table border=\"1\" class=\"dataframe\">\n",
       "  <thead>\n",
       "    <tr style=\"text-align: right;\">\n",
       "      <th></th>\n",
       "      <th>Symbol</th>\n",
       "      <th>Returns %</th>\n",
       "      <th>Std</th>\n",
       "      <th>Range</th>\n",
       "      <th>Volume</th>\n",
       "      <th>GICS Sector</th>\n",
       "    </tr>\n",
       "  </thead>\n",
       "  <tbody>\n",
       "    <tr>\n",
       "      <th>58</th>\n",
       "      <td>BF.B</td>\n",
       "      <td>NaN</td>\n",
       "      <td>NaN</td>\n",
       "      <td>NaN</td>\n",
       "      <td>NaN</td>\n",
       "      <td>Consumer Staples</td>\n",
       "    </tr>\n",
       "    <tr>\n",
       "      <th>69</th>\n",
       "      <td>BRK.B</td>\n",
       "      <td>NaN</td>\n",
       "      <td>NaN</td>\n",
       "      <td>NaN</td>\n",
       "      <td>NaN</td>\n",
       "      <td>Financials</td>\n",
       "    </tr>\n",
       "    <tr>\n",
       "      <th>273</th>\n",
       "      <td>KVUE</td>\n",
       "      <td>NaN</td>\n",
       "      <td>2.46</td>\n",
       "      <td>0.59</td>\n",
       "      <td>2.490841e+07</td>\n",
       "      <td>Consumer Staples</td>\n",
       "    </tr>\n",
       "    <tr>\n",
       "      <th>468</th>\n",
       "      <td>VLTO</td>\n",
       "      <td>NaN</td>\n",
       "      <td>4.26</td>\n",
       "      <td>2.30</td>\n",
       "      <td>3.118305e+06</td>\n",
       "      <td>Industrials</td>\n",
       "    </tr>\n",
       "  </tbody>\n",
       "</table>\n",
       "</div>"
      ],
      "text/plain": [
       "    Symbol  Returns %   Std  Range        Volume       GICS Sector\n",
       "58    BF.B        NaN   NaN    NaN           NaN  Consumer Staples\n",
       "69   BRK.B        NaN   NaN    NaN           NaN        Financials\n",
       "273   KVUE        NaN  2.46   0.59  2.490841e+07  Consumer Staples\n",
       "468   VLTO        NaN  4.26   2.30  3.118305e+06       Industrials"
      ]
     },
     "execution_count": 69,
     "metadata": {},
     "output_type": "execute_result"
    }
   ],
   "source": [
    "print(df2.isnull().sum().sort_values(ascending = False))\n",
    "df2[df2['Returns %'].isnull()]"
   ]
  },
  {
   "cell_type": "markdown",
   "id": "8ba22c12",
   "metadata": {},
   "source": [
    "As we can see we have 4 null entries. Here I decided to look into the reasons for missing data. And I found the following reasons: two companies (BF.B, BRK.B) were probably excluded from S&P 500 index.\n",
    "\n",
    "Whereas 'KVUE' and 'VLTO' began trading later. So let's deal null values"
   ]
  },
  {
   "cell_type": "code",
   "execution_count": 70,
   "id": "035d3712",
   "metadata": {},
   "outputs": [],
   "source": [
    "df2.drop(index= [58, 69], inplace=True)\n",
    "\n",
    "df2.at[273, 'Returns %'] = round(((df['Adj Close'].iloc[-1,:]['KVUE'] - df['Adj Close'].loc[df['Adj Close']['KVUE'].first_valid_index()]['KVUE']) / \n",
    "                                                   df['Adj Close'].loc[df['Adj Close']['KVUE'].first_valid_index()]['KVUE']), 2) * 100\n",
    "\n",
    "df2.at[468, 'Returns %'] = round(((df['Adj Close'].iloc[-1,:]['VLTO'] - df['Adj Close'].loc[df['Adj Close']['VLTO'].first_valid_index()]['VLTO']) / \n",
    "                                                   df['Adj Close'].loc[df['Adj Close']['VLTO'].first_valid_index()]['VLTO']), 2) * 100\n",
    "df2.reset_index(drop=True, inplace=True)"
   ]
  },
  {
   "cell_type": "markdown",
   "id": "1cd55cba",
   "metadata": {},
   "source": [
    "Now, we have dealt with null values"
   ]
  },
  {
   "cell_type": "code",
   "execution_count": 71,
   "id": "6c359598",
   "metadata": {
    "scrolled": false
   },
   "outputs": [
    {
     "name": "stdout",
     "output_type": "stream",
     "text": [
      "<class 'pandas.core.frame.DataFrame'>\n",
      "RangeIndex: 501 entries, 0 to 500\n",
      "Data columns (total 6 columns):\n",
      " #   Column       Non-Null Count  Dtype  \n",
      "---  ------       --------------  -----  \n",
      " 0   Symbol       501 non-null    object \n",
      " 1   Returns %    501 non-null    float64\n",
      " 2   Std          501 non-null    float64\n",
      " 3   Range        501 non-null    float64\n",
      " 4   Volume       501 non-null    float64\n",
      " 5   GICS Sector  501 non-null    object \n",
      "dtypes: float64(4), object(2)\n",
      "memory usage: 23.6+ KB\n"
     ]
    }
   ],
   "source": [
    "df2.info()"
   ]
  },
  {
   "cell_type": "markdown",
   "id": "278a3ca7",
   "metadata": {},
   "source": [
    "From the pie chart we can see the dominant sectors in the S&P 500 Index"
   ]
  },
  {
   "cell_type": "code",
   "execution_count": 72,
   "id": "c8479a2b",
   "metadata": {},
   "outputs": [
    {
     "data": {
      "image/png": "[encoded data removed]",
      "text/plain": [
       "<Figure size 576x576 with 1 Axes>"
      ]
     },
     "metadata": {},
     "output_type": "display_data"
    }
   ],
   "source": [
    "sector = df2['GICS Sector'].value_counts()\n",
    "plt.figure(figsize=(8, 8))\n",
    "plt.pie(sector, labels=sector.index, autopct='%1.1f%%', startangle=140)\n",
    "plt.title('Distribution of Stocks by Sector')\n",
    "plt.show()"
   ]
  },
  {
   "cell_type": "markdown",
   "id": "4b9cb953",
   "metadata": {},
   "source": [
    "From the following graph we can see insights:\n",
    "    \n",
    "  1. The **most profitable sector** is the information technology sector, the median yield is 32%. I think this is due to the boom of artificial intelligence in 2023, and its active integration into the business processes of companies.\n",
    "  \n",
    "    \n",
    "  2. **Unprofitable sectors** - healthcare sector, consumer Staples, utilities."
   ]
  },
  {
   "cell_type": "code",
   "execution_count": 73,
   "id": "1ac20d9b",
   "metadata": {},
   "outputs": [
    {
     "data": {
      "image/png": "[encoded data removed]",
      "text/plain": [
       "<Figure size 864x432 with 1 Axes>"
      ]
     },
     "metadata": {},
     "output_type": "display_data"
    }
   ],
   "source": [
    "median_returns_by_sector = df2[['GICS Sector', 'Returns %']].groupby(['GICS Sector'], as_index=False).median().sort_values(by='Returns %', ascending=False)\n",
    "plt.figure(figsize=(12, 6))\n",
    "ax = sns.barplot(x='GICS Sector', y='Returns %', data=median_returns_by_sector, ci=None, palette='viridis')  \n",
    "plt.title('Median Returns % by GICS Sector')\n",
    "plt.xlabel('GICS Sector')\n",
    "plt.ylabel('Median Returns %')\n",
    "plt.xticks(rotation=45, ha='right')\n",
    "for index, value in enumerate(median_returns_by_sector['Returns %']):\n",
    "    ax.text(index, value + 0.2, str(round(value, 2)), ha='center', va='bottom', fontsize=8, color='black')\n",
    "plt.show()"
   ]
  },
  {
   "cell_type": "markdown",
   "id": "84f96b65",
   "metadata": {},
   "source": [
    "Here we can see that **the most volatile** sector is information technology"
   ]
  },
  {
   "cell_type": "code",
   "execution_count": 74,
   "id": "f272fb9c",
   "metadata": {
    "scrolled": false
   },
   "outputs": [
    {
     "data": {
      "image/png": "[encoded data removed]",
      "text/plain": [
       "<Figure size 864x432 with 1 Axes>"
      ]
     },
     "metadata": {},
     "output_type": "display_data"
    }
   ],
   "source": [
    "median_std_by_sector = df2[['GICS Sector', 'Std']].groupby(['GICS Sector'], as_index=False).median().sort_values(by='Std', ascending=False)\n",
    "plt.figure(figsize=(12, 6))\n",
    "ax = sns.barplot(x='GICS Sector', y='Std', data=median_std_by_sector, ci=None, palette='viridis')\n",
    "plt.title('Median Std by GICS Sector')\n",
    "plt.xlabel('GICS Sector')\n",
    "plt.ylabel('Median Std %')\n",
    "plt.xticks(rotation=45, ha='right')\n",
    "\n",
    "for index, value in enumerate(median_std_by_sector['Std']):\n",
    "    ax.text(index, value + 0.2, str(round(value, 2)), ha='center', va='bottom', fontsize=8, color='black')\n",
    "\n",
    "plt.show()"
   ]
  },
  {
   "cell_type": "markdown",
   "id": "7bb7f19b",
   "metadata": {},
   "source": [
    "Next, let's look at the most profitable companies in 2023. **NVIDIA** is the most profitable company - 236%"
   ]
  },
  {
   "cell_type": "code",
   "execution_count": 75,
   "id": "d25cbc70",
   "metadata": {
    "scrolled": true
   },
   "outputs": [
    {
     "data": {
      "text/html": [
       "<div>\n",
       "<style scoped>\n",
       "    .dataframe tbody tr th:only-of-type {\n",
       "        vertical-align: middle;\n",
       "    }\n",
       "\n",
       "    .dataframe tbody tr th {\n",
       "        vertical-align: top;\n",
       "    }\n",
       "\n",
       "    .dataframe thead th {\n",
       "        text-align: right;\n",
       "    }\n",
       "</style>\n",
       "<table border=\"1\" class=\"dataframe\">\n",
       "  <thead>\n",
       "    <tr style=\"text-align: right;\">\n",
       "      <th></th>\n",
       "      <th>Symbol</th>\n",
       "      <th>Returns %</th>\n",
       "      <th>Std</th>\n",
       "      <th>Range</th>\n",
       "      <th>Volume</th>\n",
       "      <th>GICS Sector</th>\n",
       "    </tr>\n",
       "  </thead>\n",
       "  <tbody>\n",
       "    <tr>\n",
       "      <th>341</th>\n",
       "      <td>NVDA</td>\n",
       "      <td>236.0</td>\n",
       "      <td>107.58</td>\n",
       "      <td>11.97</td>\n",
       "      <td>47348212.8</td>\n",
       "      <td>Information Technology</td>\n",
       "    </tr>\n",
       "    <tr>\n",
       "      <th>301</th>\n",
       "      <td>META</td>\n",
       "      <td>178.0</td>\n",
       "      <td>63.12</td>\n",
       "      <td>7.01</td>\n",
       "      <td>24213850.0</td>\n",
       "      <td>Communication Services</td>\n",
       "    </tr>\n",
       "    <tr>\n",
       "      <th>64</th>\n",
       "      <td>BLDR</td>\n",
       "      <td>150.0</td>\n",
       "      <td>26.65</td>\n",
       "      <td>3.67</td>\n",
       "      <td>1953779.2</td>\n",
       "      <td>Industrials</td>\n",
       "    </tr>\n",
       "    <tr>\n",
       "      <th>389</th>\n",
       "      <td>RCL</td>\n",
       "      <td>146.0</td>\n",
       "      <td>18.76</td>\n",
       "      <td>2.52</td>\n",
       "      <td>3401294.4</td>\n",
       "      <td>Consumer Discretionary</td>\n",
       "    </tr>\n",
       "    <tr>\n",
       "      <th>453</th>\n",
       "      <td>UBER</td>\n",
       "      <td>138.0</td>\n",
       "      <td>9.17</td>\n",
       "      <td>1.27</td>\n",
       "      <td>24506541.2</td>\n",
       "      <td>Industrials</td>\n",
       "    </tr>\n",
       "    <tr>\n",
       "      <th>27</th>\n",
       "      <td>AMD</td>\n",
       "      <td>128.0</td>\n",
       "      <td>17.77</td>\n",
       "      <td>3.84</td>\n",
       "      <td>61597344.4</td>\n",
       "      <td>Information Technology</td>\n",
       "    </tr>\n",
       "    <tr>\n",
       "      <th>369</th>\n",
       "      <td>PHM</td>\n",
       "      <td>120.0</td>\n",
       "      <td>13.84</td>\n",
       "      <td>1.71</td>\n",
       "      <td>2560153.2</td>\n",
       "      <td>Consumer Discretionary</td>\n",
       "    </tr>\n",
       "    <tr>\n",
       "      <th>445</th>\n",
       "      <td>TSLA</td>\n",
       "      <td>119.0</td>\n",
       "      <td>41.92</td>\n",
       "      <td>8.96</td>\n",
       "      <td>137322225.2</td>\n",
       "      <td>Consumer Discretionary</td>\n",
       "    </tr>\n",
       "    <tr>\n",
       "      <th>355</th>\n",
       "      <td>PANW</td>\n",
       "      <td>113.0</td>\n",
       "      <td>41.72</td>\n",
       "      <td>5.85</td>\n",
       "      <td>4571174.0</td>\n",
       "      <td>Information Technology</td>\n",
       "    </tr>\n",
       "    <tr>\n",
       "      <th>82</th>\n",
       "      <td>CCL</td>\n",
       "      <td>112.0</td>\n",
       "      <td>3.20</td>\n",
       "      <td>0.53</td>\n",
       "      <td>35315070.4</td>\n",
       "      <td>Consumer Discretionary</td>\n",
       "    </tr>\n",
       "  </tbody>\n",
       "</table>\n",
       "</div>"
      ],
      "text/plain": [
       "    Symbol  Returns %     Std  Range       Volume             GICS Sector\n",
       "341   NVDA      236.0  107.58  11.97   47348212.8  Information Technology\n",
       "301   META      178.0   63.12   7.01   24213850.0  Communication Services\n",
       "64    BLDR      150.0   26.65   3.67    1953779.2             Industrials\n",
       "389    RCL      146.0   18.76   2.52    3401294.4  Consumer Discretionary\n",
       "453   UBER      138.0    9.17   1.27   24506541.2             Industrials\n",
       "27     AMD      128.0   17.77   3.84   61597344.4  Information Technology\n",
       "369    PHM      120.0   13.84   1.71    2560153.2  Consumer Discretionary\n",
       "445   TSLA      119.0   41.92   8.96  137322225.2  Consumer Discretionary\n",
       "355   PANW      113.0   41.72   5.85    4571174.0  Information Technology\n",
       "82     CCL      112.0    3.20   0.53   35315070.4  Consumer Discretionary"
      ]
     },
     "execution_count": 75,
     "metadata": {},
     "output_type": "execute_result"
    }
   ],
   "source": [
    "df2.sort_values(by = 'Returns %', ascending=False)[:10]"
   ]
  },
  {
   "cell_type": "code",
   "execution_count": 76,
   "id": "d3235672",
   "metadata": {},
   "outputs": [],
   "source": [
    "def draw_graph(dataframe, ticker):\n",
    "    symbol = dataframe.xs(ticker, level=1, axis=1)\n",
    "    symbol['Date'] = symbol.index\n",
    "    symbol = symbol[[\"Date\", \"Open\", \"High\", \"Low\", \"Close\", \"Adj Close\", \"Volume\"]]\n",
    "    symbol.reset_index(drop = True, inplace=True)\n",
    "    \n",
    "    figure = go.Figure(data=[go.Candlestick(x=symbol[\"Date\"],\n",
    "                                        open=symbol[\"Open\"], \n",
    "                                        high=symbol[\"High\"],\n",
    "                                        low=symbol[\"Low\"], \n",
    "                                        close=symbol[\"Close\"])])\n",
    "\n",
    "    figure.update_layout(title = f'{ticker} chart price', \n",
    "                         xaxis_rangeslider_visible=False)\n",
    "    figure.show()"
   ]
  },
  {
   "cell_type": "code",
   "execution_count": 77,
   "id": "59b71bff",
   "metadata": {
    "scrolled": false
   },
   "outputs": [
    {
     "data": {
      "application/vnd.plotly.v1+json": {
       "config": {
        "plotlyServerURL": "https://plot.ly"
       },
       "data": [
        {
         "close": [
          143.14999389648438,
          147.49000549316406,
          142.64999389648438,
          148.58999633789062,
          156.27999877929688,
          159.08999633789062,
          160.00999450683594,
          165.11000061035156,
          168.99000549316406,
          177.02000427246094,
          173.77000427246094,
          167.64999389648438,
          178.38999938964844,
          191.92999267578125,
          192.64999389648438,
          193.22999572753906,
          198.02000427246094,
          203.64999389648438,
          191.6199951171875,
          195.3699951171875,
          209.42999267578125,
          217.08999633789062,
          211,
          210.88999938964844,
          221.72999572753906,
          222.0500030517578,
          223.3699951171875,
          212.64999389648438,
          217.8800048828125,
          229.7100067138672,
          227.63999938964844,
          220.02000427246094,
          213.8800048828125,
          206.5500030517578,
          207.5399932861328,
          236.63999938964844,
          232.86000061035156,
          235.00999450683594,
          232.16000366210938,
          226.97999572753906,
          233.13999938964844,
          238.89999389648438,
          235.5399932861328,
          232.8800048828125,
          241.80999755859375,
          234.36000061035156,
          229.64999389648438,
          229.66000366210938,
          240.6300048828125,
          242.27999877929688,
          255.41000366210938,
          257.25,
          259,
          261.989990234375,
          264.67999267578125,
          271.9100036621094,
          267.7900085449219,
          265.30999755859375,
          264.1000061035156,
          269.8399963378906,
          273.8299865722656,
          277.7699890136719,
          279.6499938964844,
          274.5299987792969,
          268.80999755859375,
          270.3699951171875,
          275.7900085449219,
          271.69000244140625,
          264.95001220703125,
          264.6300048828125,
          267.5799865722656,
          270.0199890136719,
          276.6700134277344,
          279.30999755859375,
          271.0400085449219,
          271.19000244140625,
          270.4200134277344,
          262.4100036621094,
          269.55999755859375,
          272.260009765625,
          277.489990234375,
          289.1000061035156,
          282.1000061035156,
          278.0199890136719,
          275.6199951171875,
          286.79998779296875,
          291.510009765625,
          285.7099914550781,
          288.8500061035156,
          285.7799987792969,
          283.3999938964844,
          289.5299987792969,
          292.1300048828125,
          301.7799987792969,
          316.7799987792969,
          312.6400146484375,
          311.760009765625,
          306.8800048828125,
          305.3800048828125,
          379.79998779296875,
          389.4599914550781,
          401.1099853515625,
          378.3399963378906,
          397.70001220703125,
          393.2699890136719,
          391.7099914550781,
          386.5400085449219,
          374.75,
          385.1000061035156,
          387.70001220703125,
          394.82000732421875,
          410.2200012207031,
          429.9700012207031,
          426.5299987792969,
          426.9200134277344,
          438.0799865722656,
          430.45001220703125,
          430.25,
          422.0899963378906,
          406.32000732421875,
          418.760009765625,
          411.1700134277344,
          408.2200012207031,
          423.0199890136719,
          424.1300048828125,
          423.1700134277344,
          421.0299987792969,
          425.0299987792969,
          421.79998779296875,
          424.04998779296875,
          439.0199890136719,
          459.7699890136719,
          454.69000244140625,
          464.6099853515625,
          474.94000244140625,
          470.7699890136719,
          455.20001220703125,
          443.0899963378906,
          446.1199951171875,
          456.7900085449219,
          454.5199890136719,
          459,
          467.5,
          467.2900085449219,
          465.07000732421875,
          442.69000244140625,
          445.1499938964844,
          446.79998779296875,
          454.1700134277344,
          446.6400146484375,
          425.5400085449219,
          423.8800048828125,
          408.54998779296875,
          437.5299987792969,
          439.3999938964844,
          434.8599853515625,
          433.44000244140625,
          432.989990234375,
          469.6700134277344,
          456.67999267578125,
          471.1600036621094,
          471.6300048828125,
          460.17999267578125,
          468.3500061035156,
          487.8399963378906,
          492.6400146484375,
          493.54998779296875,
          485.0899963378906,
          485.4800109863281,
          470.6099853515625,
          462.4100036621094,
          455.7200012207031,
          451.7799987792969,
          448.70001220703125,
          454.8500061035156,
          455.80999755859375,
          439,
          439.6600036621094,
          435.20001220703125,
          422.3900146484375,
          410.1700134277344,
          416.1000061035156,
          422.2200012207031,
          419.1099853515625,
          424.67999267578125,
          430.8900146484375,
          434.989990234375,
          447.82000732421875,
          435.1700134277344,
          440.4100036621094,
          446.8800048828125,
          457.6199951171875,
          452.7300109863281,
          457.9800109863281,
          468.05999755859375,
          469.45001220703125,
          454.6099853515625,
          460.95001220703125,
          439.3800048828125,
          421.9599914550781,
          421.010009765625,
          413.8699951171875,
          429.75,
          436.6300048828125,
          417.7900085449219,
          403.260009765625,
          405,
          411.6099853515625,
          407.79998779296875,
          423.25,
          435.05999755859375,
          450.04998779296875,
          457.510009765625,
          459.54998779296875,
          465.739990234375,
          469.5,
          483.3500061035156,
          486.20001220703125,
          496.55999755859375,
          488.8800048828125,
          494.79998779296875,
          492.9800109863281,
          504.0899963378906,
          499.44000244140625,
          487.1600036621094,
          477.760009765625,
          482.4200134277344,
          478.2099914550781,
          481.3999938964844,
          467.70001220703125,
          467.6499938964844,
          455.1000061035156,
          465.6600036621094,
          455.0299987792969,
          465.9599914550781,
          475.05999755859375,
          466.2699890136719,
          476.57000732421875,
          480.8800048828125,
          483.5,
          488.8999938964844,
          500.7699890136719,
          496.0400085449219,
          481.1099853515625,
          489.8999938964844,
          488.29998779296875,
          492.7900085449219,
          494.1700134277344,
          495.2200012207031,
          495.2200012207031
         ],
         "high": [
          149.9600067138672,
          148.52999877929688,
          145.63999938964844,
          150.10000610351562,
          160.55999755859375,
          159.6199951171875,
          160.27999877929688,
          166.3699951171875,
          169.22000122070312,
          177.27999877929688,
          178.72999572753906,
          171.97000122070312,
          178.55999755859375,
          192.4499969482422,
          194.9499969482422,
          193.6999969482422,
          201.66000366210938,
          206.27999877929688,
          201.39999389648438,
          196.8699951171875,
          211.9199981689453,
          219.49000549316406,
          217.4499969482422,
          215.6999969482422,
          222.58999633789062,
          228.77999877929688,
          230.1999969482422,
          220.77999877929688,
          220.47999572753906,
          230.49000549316406,
          228.5500030517578,
          225.5,
          217.39999389648438,
          214.94000244140625,
          211.0399932861328,
          238.8800048828125,
          234.74000549316406,
          238.8000030517578,
          238.25,
          232.55999755859375,
          233.8000030517578,
          239,
          242.47999572753906,
          241.25,
          242,
          244.5399932861328,
          236.27000427246094,
          232.97999572753906,
          242.19000244140625,
          242.86000061035156,
          255.8800048828125,
          263.989990234375,
          260.239990234375,
          263.9200134277344,
          275.8900146484375,
          274.989990234375,
          271.6700134277344,
          270,
          265.1300048828125,
          270.7799987792969,
          274.989990234375,
          278.3399963378906,
          280,
          280,
          269.9800109863281,
          270.79998779296875,
          276.2099914550781,
          277.8999938964844,
          274.67999267578125,
          268.8699951171875,
          268.8299865722656,
          270.05999755859375,
          281.1000061035156,
          280,
          280.29998779296875,
          271.8299865722656,
          273.6600036621094,
          272.4700012207031,
          273.29998779296875,
          274.95001220703125,
          277.5799865722656,
          290.5799865722656,
          288.3599853515625,
          283.6700134277344,
          278.5899963378906,
          287.54998779296875,
          292.20001220703125,
          289.7300109863281,
          291.1300048828125,
          289.5,
          287.79998779296875,
          289.69000244140625,
          298.70001220703125,
          301.989990234375,
          318.2799987792969,
          315.79998779296875,
          315.20001220703125,
          312.8800048828125,
          306.07000732421875,
          394.79998779296875,
          391.70001220703125,
          419.3800048828125,
          402.95001220703125,
          400.5,
          405,
          395.6499938964844,
          391.6000061035156,
          394.989990234375,
          388.6400146484375,
          397.1099853515625,
          395.29998779296875,
          411.010009765625,
          430,
          432.8900146484375,
          437.2099914550781,
          439.8999938964844,
          436.1499938964844,
          434.260009765625,
          428.0899963378906,
          427.6400146484375,
          419.3999938964844,
          418.45001220703125,
          416,
          425.5,
          428.9800109863281,
          431.7699890136719,
          421.7900085449219,
          432.1400146484375,
          428.1099853515625,
          427.5799865722656,
          439.3500061035156,
          461.54998779296875,
          480.8800048828125,
          464.9599914550781,
          478.9599914550781,
          478.17999267578125,
          470.8699951171875,
          458.6600036621094,
          451.0899963378906,
          461.8299865722656,
          460.5299987792969,
          473.95001220703125,
          470.2699890136719,
          471.29998779296875,
          469,
          458.3999938964844,
          451.17999267578125,
          456.4200134277344,
          455.3999938964844,
          452.4200134277344,
          443.1199951171875,
          435.739990234375,
          420.17999267578125,
          438,
          452.67999267578125,
          446.75,
          440.6199951171875,
          435.7799987792969,
          470.6499938964844,
          481.8699951171875,
          472,
          502.6600036621094,
          478.04998779296875,
          469.79998779296875,
          490.80999755859375,
          499.2699890136719,
          497.44000244140625,
          498,
          488.510009765625,
          485.489990234375,
          463.44000244140625,
          466.05999755859375,
          461.6300048828125,
          456.7300109863281,
          459.29998779296875,
          459.8699951171875,
          455.989990234375,
          442.4200134277344,
          439.6600036621094,
          439.0299987792969,
          421,
          421.1499938964844,
          425.3599853515625,
          428.20001220703125,
          428.7200012207031,
          434.4599914550781,
          441.44000244140625,
          451.75,
          451.29998779296875,
          441.42999267578125,
          449,
          457.8900146484375,
          456.04998779296875,
          462.5899963378906,
          468.5899963378906,
          476.0899963378906,
          471.1600036621094,
          462.25,
          447.5400085449219,
          432.19000244140625,
          432.9700012207031,
          424.70001220703125,
          432.4800109863281,
          436.9700012207031,
          436.5,
          422.55999755859375,
          412.05999755859375,
          417.6600036621094,
          408.7900085449219,
          423.80999755859375,
          438.8399963378906,
          453.0899963378906,
          459.3500061035156,
          462.17999267578125,
          468.6700134277344,
          482.29998779296875,
          484.7200012207031,
          491.1600036621094,
          498.3399963378906,
          499.6000061035156,
          495.25,
          497.1700134277344,
          505.4800109863281,
          505.1700134277344,
          503.3500061035156,
          489.2099914550781,
          485.29998779296875,
          483.2300109863281,
          487.6199951171875,
          481.1000061035156,
          472,
          460.7699890136719,
          466,
          473.8699951171875,
          466.2900085449219,
          477.4100036621094,
          475.30999755859375,
          476.6600036621094,
          485.94000244140625,
          486.70001220703125,
          494.0400085449219,
          504.3299865722656,
          497,
          499.989990234375,
          490.95001220703125,
          493.8299865722656,
          496,
          496.79998779296875,
          498.8399963378906,
          499.9700012207031
         ],
         "low": [
          140.9600067138672,
          142.41000366210938,
          141.47999572753906,
          140.33999633789062,
          151.41000366210938,
          154.72000122070312,
          155.6300048828125,
          154.9199981689453,
          161.64999389648438,
          168.99000549316406,
          172.82000732421875,
          167.30999755859375,
          168.25,
          178.17999267578125,
          188.1999969482422,
          185.8000030517578,
          192.77999877929688,
          194.0500030517578,
          191.5,
          189.5,
          196.11000061035156,
          207,
          207.88999938964844,
          207.86000061035156,
          211.5,
          220.0800018310547,
          221.1999969482422,
          208.11000061035156,
          209.6199951171875,
          213.66000366210938,
          221.05999755859375,
          219.27000427246094,
          209.75,
          206.17999267578125,
          204.2100067138672,
          230.25,
          229.47000122070312,
          234.5399932861328,
          232.05999755859375,
          225.0800018310547,
          224.32000732421875,
          231.3000030517578,
          234.8699951171875,
          232.41000366210938,
          234.24000549316406,
          233.8300018310547,
          227.25999450683594,
          222.97000122070312,
          234.60000610351562,
          233.60000610351562,
          238.94000244140625,
          256.67999267578125,
          251.3000030517578,
          253.80999755859375,
          262.3699951171875,
          266.8999938964844,
          263.54998779296875,
          263.6499938964844,
          258.5,
          265.9700012207031,
          271.0199890136719,
          271.04998779296875,
          273.3599853515625,
          273.07000732421875,
          263.95001220703125,
          264.2699890136719,
          266.69000244140625,
          271.260009765625,
          264.4800109863281,
          263.2900085449219,
          262.20001220703125,
          264.3299865722656,
          273.57000732421875,
          272.32000732421875,
          270,
          267.2200012207031,
          266.7099914550781,
          262.25,
          267.04998779296875,
          266.25,
          270.7099914550781,
          277.79998779296875,
          280.8299865722656,
          274.7200012207031,
          272.3999938964844,
          277.30999755859375,
          283.5,
          284.5,
          284.6099853515625,
          282.4599914550781,
          280.4599914550781,
          281.5199890136719,
          288.32000732421875,
          294.29998779296875,
          303.20001220703125,
          309.1600036621094,
          306.79998779296875,
          306.30999755859375,
          298.05999755859375,
          366.3500061035156,
          375.5,
          399.489990234375,
          378.2200012207031,
          383.3999938964844,
          390.5799865722656,
          387.07000732421875,
          381.4800109863281,
          373.55999755859375,
          375.04998779296875,
          385.6700134277344,
          386.17999267578125,
          397.3999938964844,
          405.5199890136719,
          421.4700012207031,
          426.6099853515625,
          426.739990234375,
          420.79998779296875,
          422.3399963378906,
          420.1499938964844,
          401,
          404.4800109863281,
          405.17999267578125,
          406,
          415.010009765625,
          422.0199890136719,
          420.8500061035156,
          413.4599914550781,
          421.79998779296875,
          416.489990234375,
          420.6700134277344,
          427.7699890136719,
          444.9200134277344,
          450.6000061035156,
          452.6199951171875,
          457.3399963378906,
          467.4200134277344,
          450.6199951171875,
          441,
          440.3999938964844,
          449.2300109863281,
          446.29998779296875,
          457.5,
          463.80999755859375,
          465.05999755859375,
          460.2699890136719,
          433.8699951171875,
          438,
          443.92999267578125,
          445.6300048828125,
          440.55999755859375,
          421.3399963378906,
          418.3500061035156,
          406.3900146484375,
          403.1099853515625,
          437.1000061035156,
          434.05999755859375,
          430.010009765625,
          416.6000061035156,
          442.2200012207031,
          453.3299865722656,
          452.0799865722656,
          471.5899963378906,
          450.239990234375,
          448.8800048828125,
          463.9100036621094,
          484.25,
          489.5799865722656,
          481.4200134277344,
          478.6000061035156,
          465.79998779296875,
          451.5199890136719,
          452.7099914550781,
          443.1199951171875,
          445.30999755859375,
          445.0299987792969,
          451.30999755859375,
          438.0799865722656,
          420,
          430.0199890136719,
          422.2300109863281,
          409.79998779296875,
          412.30999755859375,
          411.7699890136719,
          416.54998779296875,
          416.2900085449219,
          421.1499938964844,
          433.07000732421875,
          438.6099853515625,
          432.4599914550781,
          432.9200134277344,
          438.8800048828125,
          440.260009765625,
          443.67999267578125,
          450.8800048828125,
          460.5,
          463.29998779296875,
          452.79998779296875,
          449.1199951171875,
          424.79998779296875,
          418.25,
          418.82000732421875,
          410.7799987792969,
          409.45001220703125,
          426.9100036621094,
          415.54998779296875,
          398.79998779296875,
          400.1499938964844,
          404.80999755859375,
          392.29998779296875,
          408.69000244140625,
          428.94000244140625,
          437.2300109863281,
          448.989990234375,
          451.5799865722656,
          459.67999267578125,
          467.5,
          472.8299865722656,
          480.989990234375,
          490.3999938964844,
          482,
          483.29998779296875,
          490.07000732421875,
          491.80999755859375,
          492.2200012207031,
          476.8999938964844,
          477.45001220703125,
          476.5199890136719,
          474.7300109863281,
          478.6000061035156,
          464.2200012207031,
          461.8699951171875,
          450.1000061035156,
          452.7099914550781,
          454.1199951171875,
          456.0400085449219,
          465.5,
          458.29998779296875,
          460.4599914550781,
          476.0799865722656,
          474.2200012207031,
          481.20001220703125,
          491.5,
          488.95001220703125,
          480.9800109863281,
          484.19000244140625,
          484.6700134277344,
          489.6000061035156,
          490.8500061035156,
          494.1199951171875,
          487.510009765625
         ],
         "open": [
          148.50999450683594,
          145.6699981689453,
          144.91000366210938,
          144.74000549316406,
          152.83999633789062,
          155.07000732421875,
          158.39999389648438,
          161,
          162.77999877929688,
          168.99000549316406,
          176.6699981689453,
          170.36000061035156,
          170.11000061035156,
          180.63999938964844,
          188.27000427246094,
          189.1300048828125,
          197.00999450683594,
          194.6199951171875,
          199.5,
          191.6999969482422,
          196.91000366210938,
          210,
          210,
          208.05999755859375,
          213.82000732421875,
          223.8699951171875,
          226.05999755859375,
          216.89999389648438,
          215.3800048828125,
          215.77999877929688,
          225.49000549316406,
          221.3300018310547,
          216.30999755859375,
          210,
          207.07000732421875,
          234.39999389648438,
          232.25,
          236.6999969482422,
          233.72000122070312,
          231.9199981689453,
          224.8800048828125,
          233.1999969482422,
          238.91000366210938,
          236,
          234.8699951171875,
          241.75,
          234.08999633789062,
          227.52000427246094,
          234.9600067138672,
          237.61000061035156,
          240.27000427246094,
          259.82000732421875,
          256.1499938964844,
          261.79998779296875,
          264.25,
          271.1499938964844,
          270.30999755859375,
          268.3699951171875,
          264.4700012207031,
          268.25,
          272.2900085449219,
          271.3999938964844,
          275.0899963378906,
          279.6600036621094,
          268.2900085449219,
          265.8399963378906,
          268.2300109863281,
          277.239990234375,
          273.70001220703125,
          267.3399963378906,
          265.0400085449219,
          265.6499938964844,
          275.3299865722656,
          273.6099853515625,
          276.7099914550781,
          269.5199890136719,
          270.1300048828125,
          270.7799987792969,
          270.0199890136719,
          273.6300048828125,
          272.25,
          278.3999938964844,
          286.79998779296875,
          278.3999938964844,
          276.510009765625,
          278.260009765625,
          285.2200012207031,
          288.989990234375,
          290.04998779296875,
          288.9599914550781,
          285.2900085449219,
          285.0799865722656,
          288.4100036621094,
          295.8399963378906,
          304.1000061035156,
          315.3599853515625,
          309.010009765625,
          310,
          302.1000061035156,
          385.2300109863281,
          378.8999938964844,
          405.95001220703125,
          394.8800048828125,
          384.8900146484375,
          400.9700012207031,
          389.0899963378906,
          388.29998779296875,
          389.1499938964844,
          377.239990234375,
          390.3699951171875,
          392,
          401.8599853515625,
          408.239990234375,
          426.0199890136719,
          434.5,
          429.9800109863281,
          435.010009765625,
          422.5299987792969,
          424.6400146484375,
          424.6099853515625,
          407.989990234375,
          406.6000061035156,
          415.5799865722656,
          416.79998779296875,
          425.1700134277344,
          421.3500061035156,
          418.44000244140625,
          423.2200012207031,
          426.57000732421875,
          424.80999755859375,
          430.3299865722656,
          445.17999267578125,
          465.8299865722656,
          462.8900146484375,
          467.010009765625,
          474.6400146484375,
          465.07000732421875,
          457.8800048828125,
          447.30999755859375,
          449.4100036621094,
          460.2099914550781,
          465.19000244140625,
          466.67999267578125,
          467.5400085449219,
          464.6000061035156,
          458.30999755859375,
          438,
          449.8500061035156,
          451.1099853515625,
          448.5299987792969,
          442.739990234375,
          421.6000061035156,
          417.510009765625,
          404.8599853515625,
          445.6000061035156,
          445.20001220703125,
          439.70001220703125,
          426.3500061035156,
          444.94000244140625,
          481.3500061035156,
          458.6600036621094,
          502.1600036621094,
          470.1199951171875,
          464.82000732421875,
          466.6600036621094,
          490.44000244140625,
          493.79998779296875,
          497.6199951171875,
          482.2300109863281,
          484.4100036621094,
          455.25,
          459.4200134277344,
          461.4800109863281,
          447.3800048828125,
          446,
          459.5,
          453.4100036621094,
          427.4800109863281,
          438.3299865722656,
          436,
          415.8299865722656,
          415.7200012207031,
          415.9100036621094,
          420.010009765625,
          423.29998779296875,
          424.6000061035156,
          438.2699890136719,
          440.29998779296875,
          448.0799865722656,
          437.4200134277344,
          440.5,
          441.92999267578125,
          448.4200134277344,
          453.1000061035156,
          461.9599914550781,
          467.7699890136719,
          469.6000061035156,
          450.6300048828125,
          440,
          425.9100036621094,
          428.1099853515625,
          418.8999938964844,
          412.2900085449219,
          430.7699890136719,
          433.9800109863281,
          418.5299987792969,
          411.29998779296875,
          410.8699951171875,
          404.5,
          408.8399963378906,
          433.2799987792969,
          440.20001220703125,
          452.8500061035156,
          457.19000244140625,
          461,
          474.6700134277344,
          475,
          483.20001220703125,
          496.79998779296875,
          499.3500061035156,
          486.7900085449219,
          495.239990234375,
          493.1199951171875,
          501.260009765625,
          498.5199890136719,
          484.70001220703125,
          478,
          482.3599853515625,
          483.7900085449219,
          480.239990234375,
          465.25,
          460.7699890136719,
          454.6600036621094,
          472.1499938964844,
          457,
          465.95001220703125,
          474.9100036621094,
          460.4599914550781,
          476.2900085449219,
          483.8999938964844,
          481.94000244140625,
          494,
          494.239990234375,
          496.54998779296875,
          488.1099853515625,
          491.95001220703125,
          489.67999267578125,
          495.1099853515625,
          496.42999267578125,
          498.1300048828125
         ],
         "type": "candlestick",
         "x": [
          "2023-01-03T00:00:00",
          "2023-01-04T00:00:00",
          "2023-01-05T00:00:00",
          "2023-01-06T00:00:00",
          "2023-01-09T00:00:00",
          "2023-01-10T00:00:00",
          "2023-01-11T00:00:00",
          "2023-01-12T00:00:00",
          "2023-01-13T00:00:00",
          "2023-01-17T00:00:00",
          "2023-01-18T00:00:00",
          "2023-01-19T00:00:00",
          "2023-01-20T00:00:00",
          "2023-01-23T00:00:00",
          "2023-01-24T00:00:00",
          "2023-01-25T00:00:00",
          "2023-01-26T00:00:00",
          "2023-01-27T00:00:00",
          "2023-01-30T00:00:00",
          "2023-01-31T00:00:00",
          "2023-02-01T00:00:00",
          "2023-02-02T00:00:00",
          "2023-02-03T00:00:00",
          "2023-02-06T00:00:00",
          "2023-02-07T00:00:00",
          "2023-02-08T00:00:00",
          "2023-02-09T00:00:00",
          "2023-02-10T00:00:00",
          "2023-02-13T00:00:00",
          "2023-02-14T00:00:00",
          "2023-02-15T00:00:00",
          "2023-02-16T00:00:00",
          "2023-02-17T00:00:00",
          "2023-02-21T00:00:00",
          "2023-02-22T00:00:00",
          "2023-02-23T00:00:00",
          "2023-02-24T00:00:00",
          "2023-02-27T00:00:00",
          "2023-02-28T00:00:00",
          "2023-03-01T00:00:00",
          "2023-03-02T00:00:00",
          "2023-03-03T00:00:00",
          "2023-03-06T00:00:00",
          "2023-03-07T00:00:00",
          "2023-03-08T00:00:00",
          "2023-03-09T00:00:00",
          "2023-03-10T00:00:00",
          "2023-03-13T00:00:00",
          "2023-03-14T00:00:00",
          "2023-03-15T00:00:00",
          "2023-03-16T00:00:00",
          "2023-03-17T00:00:00",
          "2023-03-20T00:00:00",
          "2023-03-21T00:00:00",
          "2023-03-22T00:00:00",
          "2023-03-23T00:00:00",
          "2023-03-24T00:00:00",
          "2023-03-27T00:00:00",
          "2023-03-28T00:00:00",
          "2023-03-29T00:00:00",
          "2023-03-30T00:00:00",
          "2023-03-31T00:00:00",
          "2023-04-03T00:00:00",
          "2023-04-04T00:00:00",
          "2023-04-05T00:00:00",
          "2023-04-06T00:00:00",
          "2023-04-10T00:00:00",
          "2023-04-11T00:00:00",
          "2023-04-12T00:00:00",
          "2023-04-13T00:00:00",
          "2023-04-14T00:00:00",
          "2023-04-17T00:00:00",
          "2023-04-18T00:00:00",
          "2023-04-19T00:00:00",
          "2023-04-20T00:00:00",
          "2023-04-21T00:00:00",
          "2023-04-24T00:00:00",
          "2023-04-25T00:00:00",
          "2023-04-26T00:00:00",
          "2023-04-27T00:00:00",
          "2023-04-28T00:00:00",
          "2023-05-01T00:00:00",
          "2023-05-02T00:00:00",
          "2023-05-03T00:00:00",
          "2023-05-04T00:00:00",
          "2023-05-05T00:00:00",
          "2023-05-08T00:00:00",
          "2023-05-09T00:00:00",
          "2023-05-10T00:00:00",
          "2023-05-11T00:00:00",
          "2023-05-12T00:00:00",
          "2023-05-15T00:00:00",
          "2023-05-16T00:00:00",
          "2023-05-17T00:00:00",
          "2023-05-18T00:00:00",
          "2023-05-19T00:00:00",
          "2023-05-22T00:00:00",
          "2023-05-23T00:00:00",
          "2023-05-24T00:00:00",
          "2023-05-25T00:00:00",
          "2023-05-26T00:00:00",
          "2023-05-30T00:00:00",
          "2023-05-31T00:00:00",
          "2023-06-01T00:00:00",
          "2023-06-02T00:00:00",
          "2023-06-05T00:00:00",
          "2023-06-06T00:00:00",
          "2023-06-07T00:00:00",
          "2023-06-08T00:00:00",
          "2023-06-09T00:00:00",
          "2023-06-12T00:00:00",
          "2023-06-13T00:00:00",
          "2023-06-14T00:00:00",
          "2023-06-15T00:00:00",
          "2023-06-16T00:00:00",
          "2023-06-20T00:00:00",
          "2023-06-21T00:00:00",
          "2023-06-22T00:00:00",
          "2023-06-23T00:00:00",
          "2023-06-26T00:00:00",
          "2023-06-27T00:00:00",
          "2023-06-28T00:00:00",
          "2023-06-29T00:00:00",
          "2023-06-30T00:00:00",
          "2023-07-03T00:00:00",
          "2023-07-05T00:00:00",
          "2023-07-06T00:00:00",
          "2023-07-07T00:00:00",
          "2023-07-10T00:00:00",
          "2023-07-11T00:00:00",
          "2023-07-12T00:00:00",
          "2023-07-13T00:00:00",
          "2023-07-14T00:00:00",
          "2023-07-17T00:00:00",
          "2023-07-18T00:00:00",
          "2023-07-19T00:00:00",
          "2023-07-20T00:00:00",
          "2023-07-21T00:00:00",
          "2023-07-24T00:00:00",
          "2023-07-25T00:00:00",
          "2023-07-26T00:00:00",
          "2023-07-27T00:00:00",
          "2023-07-28T00:00:00",
          "2023-07-31T00:00:00",
          "2023-08-01T00:00:00",
          "2023-08-02T00:00:00",
          "2023-08-03T00:00:00",
          "2023-08-04T00:00:00",
          "2023-08-07T00:00:00",
          "2023-08-08T00:00:00",
          "2023-08-09T00:00:00",
          "2023-08-10T00:00:00",
          "2023-08-11T00:00:00",
          "2023-08-14T00:00:00",
          "2023-08-15T00:00:00",
          "2023-08-16T00:00:00",
          "2023-08-17T00:00:00",
          "2023-08-18T00:00:00",
          "2023-08-21T00:00:00",
          "2023-08-22T00:00:00",
          "2023-08-23T00:00:00",
          "2023-08-24T00:00:00",
          "2023-08-25T00:00:00",
          "2023-08-28T00:00:00",
          "2023-08-29T00:00:00",
          "2023-08-30T00:00:00",
          "2023-08-31T00:00:00",
          "2023-09-01T00:00:00",
          "2023-09-05T00:00:00",
          "2023-09-06T00:00:00",
          "2023-09-07T00:00:00",
          "2023-09-08T00:00:00",
          "2023-09-11T00:00:00",
          "2023-09-12T00:00:00",
          "2023-09-13T00:00:00",
          "2023-09-14T00:00:00",
          "2023-09-15T00:00:00",
          "2023-09-18T00:00:00",
          "2023-09-19T00:00:00",
          "2023-09-20T00:00:00",
          "2023-09-21T00:00:00",
          "2023-09-22T00:00:00",
          "2023-09-25T00:00:00",
          "2023-09-26T00:00:00",
          "2023-09-27T00:00:00",
          "2023-09-28T00:00:00",
          "2023-09-29T00:00:00",
          "2023-10-02T00:00:00",
          "2023-10-03T00:00:00",
          "2023-10-04T00:00:00",
          "2023-10-05T00:00:00",
          "2023-10-06T00:00:00",
          "2023-10-09T00:00:00",
          "2023-10-10T00:00:00",
          "2023-10-11T00:00:00",
          "2023-10-12T00:00:00",
          "2023-10-13T00:00:00",
          "2023-10-16T00:00:00",
          "2023-10-17T00:00:00",
          "2023-10-18T00:00:00",
          "2023-10-19T00:00:00",
          "2023-10-20T00:00:00",
          "2023-10-23T00:00:00",
          "2023-10-24T00:00:00",
          "2023-10-25T00:00:00",
          "2023-10-26T00:00:00",
          "2023-10-27T00:00:00",
          "2023-10-30T00:00:00",
          "2023-10-31T00:00:00",
          "2023-11-01T00:00:00",
          "2023-11-02T00:00:00",
          "2023-11-03T00:00:00",
          "2023-11-06T00:00:00",
          "2023-11-07T00:00:00",
          "2023-11-08T00:00:00",
          "2023-11-09T00:00:00",
          "2023-11-10T00:00:00",
          "2023-11-13T00:00:00",
          "2023-11-14T00:00:00",
          "2023-11-15T00:00:00",
          "2023-11-16T00:00:00",
          "2023-11-17T00:00:00",
          "2023-11-20T00:00:00",
          "2023-11-21T00:00:00",
          "2023-11-22T00:00:00",
          "2023-11-24T00:00:00",
          "2023-11-27T00:00:00",
          "2023-11-28T00:00:00",
          "2023-11-29T00:00:00",
          "2023-11-30T00:00:00",
          "2023-12-01T00:00:00",
          "2023-12-04T00:00:00",
          "2023-12-05T00:00:00",
          "2023-12-06T00:00:00",
          "2023-12-07T00:00:00",
          "2023-12-08T00:00:00",
          "2023-12-11T00:00:00",
          "2023-12-12T00:00:00",
          "2023-12-13T00:00:00",
          "2023-12-14T00:00:00",
          "2023-12-15T00:00:00",
          "2023-12-18T00:00:00",
          "2023-12-19T00:00:00",
          "2023-12-20T00:00:00",
          "2023-12-21T00:00:00",
          "2023-12-22T00:00:00",
          "2023-12-26T00:00:00",
          "2023-12-27T00:00:00",
          "2023-12-28T00:00:00",
          "2023-12-29T00:00:00"
         ]
        }
       ],
       "layout": {
        "template": {
         "data": {
          "bar": [
           {
            "error_x": {
             "color": "#2a3f5f"
            },
            "error_y": {
             "color": "#2a3f5f"
            },
            "marker": {
             "line": {
              "color": "#E5ECF6",
              "width": 0.5
             },
             "pattern": {
              "fillmode": "overlay",
              "size": 10,
              "solidity": 0.2
             }
            },
            "type": "bar"
           }
          ],
          "barpolar": [
           {
            "marker": {
             "line": {
              "color": "#E5ECF6",
              "width": 0.5
             },
             "pattern": {
              "fillmode": "overlay",
              "size": 10,
              "solidity": 0.2
             }
            },
            "type": "barpolar"
           }
          ],
          "carpet": [
           {
            "aaxis": {
             "endlinecolor": "#2a3f5f",
             "gridcolor": "white",
             "linecolor": "white",
             "minorgridcolor": "white",
             "startlinecolor": "#2a3f5f"
            },
            "baxis": {
             "endlinecolor": "#2a3f5f",
             "gridcolor": "white",
             "linecolor": "white",
             "minorgridcolor": "white",
             "startlinecolor": "#2a3f5f"
            },
            "type": "carpet"
           }
          ],
          "choropleth": [
           {
            "colorbar": {
             "outlinewidth": 0,
             "ticks": ""
            },
            "type": "choropleth"
           }
          ],
          "contour": [
           {
            "colorbar": {
             "outlinewidth": 0,
             "ticks": ""
            },
            "colorscale": [
             [
              0,
              "#0d0887"
             ],
             [
              0.1111111111111111,
              "#46039f"
             ],
             [
              0.2222222222222222,
              "#7201a8"
             ],
             [
              0.3333333333333333,
              "#9c179e"
             ],
             [
              0.4444444444444444,
              "#bd3786"
             ],
             [
              0.5555555555555556,
              "#d8576b"
             ],
             [
              0.6666666666666666,
              "#ed7953"
             ],
             [
              0.7777777777777778,
              "#fb9f3a"
             ],
             [
              0.8888888888888888,
              "#fdca26"
             ],
             [
              1,
              "#f0f921"
             ]
            ],
            "type": "contour"
           }
          ],
          "contourcarpet": [
           {
            "colorbar": {
             "outlinewidth": 0,
             "ticks": ""
            },
            "type": "contourcarpet"
           }
          ],
          "heatmap": [
           {
            "colorbar": {
             "outlinewidth": 0,
             "ticks": ""
            },
            "colorscale": [
             [
              0,
              "#0d0887"
             ],
             [
              0.1111111111111111,
              "#46039f"
             ],
             [
              0.2222222222222222,
              "#7201a8"
             ],
             [
              0.3333333333333333,
              "#9c179e"
             ],
             [
              0.4444444444444444,
              "#bd3786"
             ],
             [
              0.5555555555555556,
              "#d8576b"
             ],
             [
              0.6666666666666666,
              "#ed7953"
             ],
             [
              0.7777777777777778,
              "#fb9f3a"
             ],
             [
              0.8888888888888888,
              "#fdca26"
             ],
             [
              1,
              "#f0f921"
             ]
            ],
            "type": "heatmap"
           }
          ],
          "heatmapgl": [
           {
            "colorbar": {
             "outlinewidth": 0,
             "ticks": ""
            },
            "colorscale": [
             [
              0,
              "#0d0887"
             ],
             [
              0.1111111111111111,
              "#46039f"
             ],
             [
              0.2222222222222222,
              "#7201a8"
             ],
             [
              0.3333333333333333,
              "#9c179e"
             ],
             [
              0.4444444444444444,
              "#bd3786"
             ],
             [
              0.5555555555555556,
              "#d8576b"
             ],
             [
              0.6666666666666666,
              "#ed7953"
             ],
             [
              0.7777777777777778,
              "#fb9f3a"
             ],
             [
              0.8888888888888888,
              "#fdca26"
             ],
             [
              1,
              "#f0f921"
             ]
            ],
            "type": "heatmapgl"
           }
          ],
          "histogram": [
           {
            "marker": {
             "pattern": {
              "fillmode": "overlay",
              "size": 10,
              "solidity": 0.2
             }
            },
            "type": "histogram"
           }
          ],
          "histogram2d": [
           {
            "colorbar": {
             "outlinewidth": 0,
             "ticks": ""
            },
            "colorscale": [
             [
              0,
              "#0d0887"
             ],
             [
              0.1111111111111111,
              "#46039f"
             ],
             [
              0.2222222222222222,
              "#7201a8"
             ],
             [
              0.3333333333333333,
              "#9c179e"
             ],
             [
              0.4444444444444444,
              "#bd3786"
             ],
             [
              0.5555555555555556,
              "#d8576b"
             ],
             [
              0.6666666666666666,
              "#ed7953"
             ],
             [
              0.7777777777777778,
              "#fb9f3a"
             ],
             [
              0.8888888888888888,
              "#fdca26"
             ],
             [
              1,
              "#f0f921"
             ]
            ],
            "type": "histogram2d"
           }
          ],
          "histogram2dcontour": [
           {
            "colorbar": {
             "outlinewidth": 0,
             "ticks": ""
            },
            "colorscale": [
             [
              0,
              "#0d0887"
             ],
             [
              0.1111111111111111,
              "#46039f"
             ],
             [
              0.2222222222222222,
              "#7201a8"
             ],
             [
              0.3333333333333333,
              "#9c179e"
             ],
             [
              0.4444444444444444,
              "#bd3786"
             ],
             [
              0.5555555555555556,
              "#d8576b"
             ],
             [
              0.6666666666666666,
              "#ed7953"
             ],
             [
              0.7777777777777778,
              "#fb9f3a"
             ],
             [
              0.8888888888888888,
              "#fdca26"
             ],
             [
              1,
              "#f0f921"
             ]
            ],
            "type": "histogram2dcontour"
           }
          ],
          "mesh3d": [
           {
            "colorbar": {
             "outlinewidth": 0,
             "ticks": ""
            },
            "type": "mesh3d"
           }
          ],
          "parcoords": [
           {
            "line": {
             "colorbar": {
              "outlinewidth": 0,
              "ticks": ""
             }
            },
            "type": "parcoords"
           }
          ],
          "pie": [
           {
            "automargin": true,
            "type": "pie"
           }
          ],
          "scatter": [
           {
            "marker": {
             "colorbar": {
              "outlinewidth": 0,
              "ticks": ""
             }
            },
            "type": "scatter"
           }
          ],
          "scatter3d": [
           {
            "line": {
             "colorbar": {
              "outlinewidth": 0,
              "ticks": ""
             }
            },
            "marker": {
             "colorbar": {
              "outlinewidth": 0,
              "ticks": ""
             }
            },
            "type": "scatter3d"
           }
          ],
          "scattercarpet": [
           {
            "marker": {
             "colorbar": {
              "outlinewidth": 0,
              "ticks": ""
             }
            },
            "type": "scattercarpet"
           }
          ],
          "scattergeo": [
           {
            "marker": {
             "colorbar": {
              "outlinewidth": 0,
              "ticks": ""
             }
            },
            "type": "scattergeo"
           }
          ],
          "scattergl": [
           {
            "marker": {
             "colorbar": {
              "outlinewidth": 0,
              "ticks": ""
             }
            },
            "type": "scattergl"
           }
          ],
          "scattermapbox": [
           {
            "marker": {
             "colorbar": {
              "outlinewidth": 0,
              "ticks": ""
             }
            },
            "type": "scattermapbox"
           }
          ],
          "scatterpolar": [
           {
            "marker": {
             "colorbar": {
              "outlinewidth": 0,
              "ticks": ""
             }
            },
            "type": "scatterpolar"
           }
          ],
          "scatterpolargl": [
           {
            "marker": {
             "colorbar": {
              "outlinewidth": 0,
              "ticks": ""
             }
            },
            "type": "scatterpolargl"
           }
          ],
          "scatterternary": [
           {
            "marker": {
             "colorbar": {
              "outlinewidth": 0,
              "ticks": ""
             }
            },
            "type": "scatterternary"
           }
          ],
          "surface": [
           {
            "colorbar": {
             "outlinewidth": 0,
             "ticks": ""
            },
            "colorscale": [
             [
              0,
              "#0d0887"
             ],
             [
              0.1111111111111111,
              "#46039f"
             ],
             [
              0.2222222222222222,
              "#7201a8"
             ],
             [
              0.3333333333333333,
              "#9c179e"
             ],
             [
              0.4444444444444444,
              "#bd3786"
             ],
             [
              0.5555555555555556,
              "#d8576b"
             ],
             [
              0.6666666666666666,
              "#ed7953"
             ],
             [
              0.7777777777777778,
              "#fb9f3a"
             ],
             [
              0.8888888888888888,
              "#fdca26"
             ],
             [
              1,
              "#f0f921"
             ]
            ],
            "type": "surface"
           }
          ],
          "table": [
           {
            "cells": {
             "fill": {
              "color": "#EBF0F8"
             },
             "line": {
              "color": "white"
             }
            },
            "header": {
             "fill": {
              "color": "#C8D4E3"
             },
             "line": {
              "color": "white"
             }
            },
            "type": "table"
           }
          ]
         },
         "layout": {
          "annotationdefaults": {
           "arrowcolor": "#2a3f5f",
           "arrowhead": 0,
           "arrowwidth": 1
          },
          "autotypenumbers": "strict",
          "coloraxis": {
           "colorbar": {
            "outlinewidth": 0,
            "ticks": ""
           }
          },
          "colorscale": {
           "diverging": [
            [
             0,
             "#8e0152"
            ],
            [
             0.1,
             "#c51b7d"
            ],
            [
             0.2,
             "#de77ae"
            ],
            [
             0.3,
             "#f1b6da"
            ],
            [
             0.4,
             "#fde0ef"
            ],
            [
             0.5,
             "#f7f7f7"
            ],
            [
             0.6,
             "#e6f5d0"
            ],
            [
             0.7,
             "#b8e186"
            ],
            [
             0.8,
             "#7fbc41"
            ],
            [
             0.9,
             "#4d9221"
            ],
            [
             1,
             "#276419"
            ]
           ],
           "sequential": [
            [
             0,
             "#0d0887"
            ],
            [
             0.1111111111111111,
             "#46039f"
            ],
            [
             0.2222222222222222,
             "#7201a8"
            ],
            [
             0.3333333333333333,
             "#9c179e"
            ],
            [
             0.4444444444444444,
             "#bd3786"
            ],
            [
             0.5555555555555556,
             "#d8576b"
            ],
            [
             0.6666666666666666,
             "#ed7953"
            ],
            [
             0.7777777777777778,
             "#fb9f3a"
            ],
            [
             0.8888888888888888,
             "#fdca26"
            ],
            [
             1,
             "#f0f921"
            ]
           ],
           "sequentialminus": [
            [
             0,
             "#0d0887"
            ],
            [
             0.1111111111111111,
             "#46039f"
            ],
            [
             0.2222222222222222,
             "#7201a8"
            ],
            [
             0.3333333333333333,
             "#9c179e"
            ],
            [
             0.4444444444444444,
             "#bd3786"
            ],
            [
             0.5555555555555556,
             "#d8576b"
            ],
            [
             0.6666666666666666,
             "#ed7953"
            ],
            [
             0.7777777777777778,
             "#fb9f3a"
            ],
            [
             0.8888888888888888,
             "#fdca26"
            ],
            [
             1,
             "#f0f921"
            ]
           ]
          },
          "colorway": [
           "#636efa",
           "#EF553B",
           "#00cc96",
           "#ab63fa",
           "#FFA15A",
           "#19d3f3",
           "#FF6692",
           "#B6E880",
           "#FF97FF",
           "#FECB52"
          ],
          "font": {
           "color": "#2a3f5f"
          },
          "geo": {
           "bgcolor": "white",
           "lakecolor": "white",
           "landcolor": "#E5ECF6",
           "showlakes": true,
           "showland": true,
           "subunitcolor": "white"
          },
          "hoverlabel": {
           "align": "left"
          },
          "hovermode": "closest",
          "mapbox": {
           "style": "light"
          },
          "paper_bgcolor": "white",
          "plot_bgcolor": "#E5ECF6",
          "polar": {
           "angularaxis": {
            "gridcolor": "white",
            "linecolor": "white",
            "ticks": ""
           },
           "bgcolor": "#E5ECF6",
           "radialaxis": {
            "gridcolor": "white",
            "linecolor": "white",
            "ticks": ""
           }
          },
          "scene": {
           "xaxis": {
            "backgroundcolor": "#E5ECF6",
            "gridcolor": "white",
            "gridwidth": 2,
            "linecolor": "white",
            "showbackground": true,
            "ticks": "",
            "zerolinecolor": "white"
           },
           "yaxis": {
            "backgroundcolor": "#E5ECF6",
            "gridcolor": "white",
            "gridwidth": 2,
            "linecolor": "white",
            "showbackground": true,
            "ticks": "",
            "zerolinecolor": "white"
           },
           "zaxis": {
            "backgroundcolor": "#E5ECF6",
            "gridcolor": "white",
            "gridwidth": 2,
            "linecolor": "white",
            "showbackground": true,
            "ticks": "",
            "zerolinecolor": "white"
           }
          },
          "shapedefaults": {
           "line": {
            "color": "#2a3f5f"
           }
          },
          "ternary": {
           "aaxis": {
            "gridcolor": "white",
            "linecolor": "white",
            "ticks": ""
           },
           "baxis": {
            "gridcolor": "white",
            "linecolor": "white",
            "ticks": ""
           },
           "bgcolor": "#E5ECF6",
           "caxis": {
            "gridcolor": "white",
            "linecolor": "white",
            "ticks": ""
           }
          },
          "title": {
           "x": 0.05
          },
          "xaxis": {
           "automargin": true,
           "gridcolor": "white",
           "linecolor": "white",
           "ticks": "",
           "title": {
            "standoff": 15
           },
           "zerolinecolor": "white",
           "zerolinewidth": 2
          },
          "yaxis": {
           "automargin": true,
           "gridcolor": "white",
           "linecolor": "white",
           "ticks": "",
           "title": {
            "standoff": 15
           },
           "zerolinecolor": "white",
           "zerolinewidth": 2
          }
         }
        },
        "title": {
         "text": "NVDA chart price"
        },
        "xaxis": {
         "rangeslider": {
          "visible": false
         }
        }
       }
      },
      "text/html": [
       "<div>                            <div id=\"adc8b639-2b4d-491a-ace9-ebe143865b44\" class=\"plotly-graph-div\" style=\"height:525px; width:100%;\"></div>            <script type=\"text/javascript\">                require([\"plotly\"], function(Plotly) {                    window.PLOTLYENV=window.PLOTLYENV || {};                                    if (document.getElementById(\"adc8b639-2b4d-491a-ace9-ebe143865b44\")) {                    Plotly.newPlot(                        \"adc8b639-2b4d-491a-ace9-ebe143865b44\",                        [{\"close\":[143.14999389648438,147.49000549316406,142.64999389648438,148.58999633789062,156.27999877929688,159.08999633789062,160.00999450683594,165.11000061035156,168.99000549316406,177.02000427246094,173.77000427246094,167.64999389648438,178.38999938964844,191.92999267578125,192.64999389648438,193.22999572753906,198.02000427246094,203.64999389648438,191.6199951171875,195.3699951171875,209.42999267578125,217.08999633789062,211.0,210.88999938964844,221.72999572753906,222.0500030517578,223.3699951171875,212.64999389648438,217.8800048828125,229.7100067138672,227.63999938964844,220.02000427246094,213.8800048828125,206.5500030517578,207.5399932861328,236.63999938964844,232.86000061035156,235.00999450683594,232.16000366210938,226.97999572753906,233.13999938964844,238.89999389648438,235.5399932861328,232.8800048828125,241.80999755859375,234.36000061035156,229.64999389648438,229.66000366210938,240.6300048828125,242.27999877929688,255.41000366210938,257.25,259.0,261.989990234375,264.67999267578125,271.9100036621094,267.7900085449219,265.30999755859375,264.1000061035156,269.8399963378906,273.8299865722656,277.7699890136719,279.6499938964844,274.5299987792969,268.80999755859375,270.3699951171875,275.7900085449219,271.69000244140625,264.95001220703125,264.6300048828125,267.5799865722656,270.0199890136719,276.6700134277344,279.30999755859375,271.0400085449219,271.19000244140625,270.4200134277344,262.4100036621094,269.55999755859375,272.260009765625,277.489990234375,289.1000061035156,282.1000061035156,278.0199890136719,275.6199951171875,286.79998779296875,291.510009765625,285.7099914550781,288.8500061035156,285.7799987792969,283.3999938964844,289.5299987792969,292.1300048828125,301.7799987792969,316.7799987792969,312.6400146484375,311.760009765625,306.8800048828125,305.3800048828125,379.79998779296875,389.4599914550781,401.1099853515625,378.3399963378906,397.70001220703125,393.2699890136719,391.7099914550781,386.5400085449219,374.75,385.1000061035156,387.70001220703125,394.82000732421875,410.2200012207031,429.9700012207031,426.5299987792969,426.9200134277344,438.0799865722656,430.45001220703125,430.25,422.0899963378906,406.32000732421875,418.760009765625,411.1700134277344,408.2200012207031,423.0199890136719,424.1300048828125,423.1700134277344,421.0299987792969,425.0299987792969,421.79998779296875,424.04998779296875,439.0199890136719,459.7699890136719,454.69000244140625,464.6099853515625,474.94000244140625,470.7699890136719,455.20001220703125,443.0899963378906,446.1199951171875,456.7900085449219,454.5199890136719,459.0,467.5,467.2900085449219,465.07000732421875,442.69000244140625,445.1499938964844,446.79998779296875,454.1700134277344,446.6400146484375,425.5400085449219,423.8800048828125,408.54998779296875,437.5299987792969,439.3999938964844,434.8599853515625,433.44000244140625,432.989990234375,469.6700134277344,456.67999267578125,471.1600036621094,471.6300048828125,460.17999267578125,468.3500061035156,487.8399963378906,492.6400146484375,493.54998779296875,485.0899963378906,485.4800109863281,470.6099853515625,462.4100036621094,455.7200012207031,451.7799987792969,448.70001220703125,454.8500061035156,455.80999755859375,439.0,439.6600036621094,435.20001220703125,422.3900146484375,410.1700134277344,416.1000061035156,422.2200012207031,419.1099853515625,424.67999267578125,430.8900146484375,434.989990234375,447.82000732421875,435.1700134277344,440.4100036621094,446.8800048828125,457.6199951171875,452.7300109863281,457.9800109863281,468.05999755859375,469.45001220703125,454.6099853515625,460.95001220703125,439.3800048828125,421.9599914550781,421.010009765625,413.8699951171875,429.75,436.6300048828125,417.7900085449219,403.260009765625,405.0,411.6099853515625,407.79998779296875,423.25,435.05999755859375,450.04998779296875,457.510009765625,459.54998779296875,465.739990234375,469.5,483.3500061035156,486.20001220703125,496.55999755859375,488.8800048828125,494.79998779296875,492.9800109863281,504.0899963378906,499.44000244140625,487.1600036621094,477.760009765625,482.4200134277344,478.2099914550781,481.3999938964844,467.70001220703125,467.6499938964844,455.1000061035156,465.6600036621094,455.0299987792969,465.9599914550781,475.05999755859375,466.2699890136719,476.57000732421875,480.8800048828125,483.5,488.8999938964844,500.7699890136719,496.0400085449219,481.1099853515625,489.8999938964844,488.29998779296875,492.7900085449219,494.1700134277344,495.2200012207031,495.2200012207031],\"high\":[149.9600067138672,148.52999877929688,145.63999938964844,150.10000610351562,160.55999755859375,159.6199951171875,160.27999877929688,166.3699951171875,169.22000122070312,177.27999877929688,178.72999572753906,171.97000122070312,178.55999755859375,192.4499969482422,194.9499969482422,193.6999969482422,201.66000366210938,206.27999877929688,201.39999389648438,196.8699951171875,211.9199981689453,219.49000549316406,217.4499969482422,215.6999969482422,222.58999633789062,228.77999877929688,230.1999969482422,220.77999877929688,220.47999572753906,230.49000549316406,228.5500030517578,225.5,217.39999389648438,214.94000244140625,211.0399932861328,238.8800048828125,234.74000549316406,238.8000030517578,238.25,232.55999755859375,233.8000030517578,239.0,242.47999572753906,241.25,242.0,244.5399932861328,236.27000427246094,232.97999572753906,242.19000244140625,242.86000061035156,255.8800048828125,263.989990234375,260.239990234375,263.9200134277344,275.8900146484375,274.989990234375,271.6700134277344,270.0,265.1300048828125,270.7799987792969,274.989990234375,278.3399963378906,280.0,280.0,269.9800109863281,270.79998779296875,276.2099914550781,277.8999938964844,274.67999267578125,268.8699951171875,268.8299865722656,270.05999755859375,281.1000061035156,280.0,280.29998779296875,271.8299865722656,273.6600036621094,272.4700012207031,273.29998779296875,274.95001220703125,277.5799865722656,290.5799865722656,288.3599853515625,283.6700134277344,278.5899963378906,287.54998779296875,292.20001220703125,289.7300109863281,291.1300048828125,289.5,287.79998779296875,289.69000244140625,298.70001220703125,301.989990234375,318.2799987792969,315.79998779296875,315.20001220703125,312.8800048828125,306.07000732421875,394.79998779296875,391.70001220703125,419.3800048828125,402.95001220703125,400.5,405.0,395.6499938964844,391.6000061035156,394.989990234375,388.6400146484375,397.1099853515625,395.29998779296875,411.010009765625,430.0,432.8900146484375,437.2099914550781,439.8999938964844,436.1499938964844,434.260009765625,428.0899963378906,427.6400146484375,419.3999938964844,418.45001220703125,416.0,425.5,428.9800109863281,431.7699890136719,421.7900085449219,432.1400146484375,428.1099853515625,427.5799865722656,439.3500061035156,461.54998779296875,480.8800048828125,464.9599914550781,478.9599914550781,478.17999267578125,470.8699951171875,458.6600036621094,451.0899963378906,461.8299865722656,460.5299987792969,473.95001220703125,470.2699890136719,471.29998779296875,469.0,458.3999938964844,451.17999267578125,456.4200134277344,455.3999938964844,452.4200134277344,443.1199951171875,435.739990234375,420.17999267578125,438.0,452.67999267578125,446.75,440.6199951171875,435.7799987792969,470.6499938964844,481.8699951171875,472.0,502.6600036621094,478.04998779296875,469.79998779296875,490.80999755859375,499.2699890136719,497.44000244140625,498.0,488.510009765625,485.489990234375,463.44000244140625,466.05999755859375,461.6300048828125,456.7300109863281,459.29998779296875,459.8699951171875,455.989990234375,442.4200134277344,439.6600036621094,439.0299987792969,421.0,421.1499938964844,425.3599853515625,428.20001220703125,428.7200012207031,434.4599914550781,441.44000244140625,451.75,451.29998779296875,441.42999267578125,449.0,457.8900146484375,456.04998779296875,462.5899963378906,468.5899963378906,476.0899963378906,471.1600036621094,462.25,447.5400085449219,432.19000244140625,432.9700012207031,424.70001220703125,432.4800109863281,436.9700012207031,436.5,422.55999755859375,412.05999755859375,417.6600036621094,408.7900085449219,423.80999755859375,438.8399963378906,453.0899963378906,459.3500061035156,462.17999267578125,468.6700134277344,482.29998779296875,484.7200012207031,491.1600036621094,498.3399963378906,499.6000061035156,495.25,497.1700134277344,505.4800109863281,505.1700134277344,503.3500061035156,489.2099914550781,485.29998779296875,483.2300109863281,487.6199951171875,481.1000061035156,472.0,460.7699890136719,466.0,473.8699951171875,466.2900085449219,477.4100036621094,475.30999755859375,476.6600036621094,485.94000244140625,486.70001220703125,494.0400085449219,504.3299865722656,497.0,499.989990234375,490.95001220703125,493.8299865722656,496.0,496.79998779296875,498.8399963378906,499.9700012207031],\"low\":[140.9600067138672,142.41000366210938,141.47999572753906,140.33999633789062,151.41000366210938,154.72000122070312,155.6300048828125,154.9199981689453,161.64999389648438,168.99000549316406,172.82000732421875,167.30999755859375,168.25,178.17999267578125,188.1999969482422,185.8000030517578,192.77999877929688,194.0500030517578,191.5,189.5,196.11000061035156,207.0,207.88999938964844,207.86000061035156,211.5,220.0800018310547,221.1999969482422,208.11000061035156,209.6199951171875,213.66000366210938,221.05999755859375,219.27000427246094,209.75,206.17999267578125,204.2100067138672,230.25,229.47000122070312,234.5399932861328,232.05999755859375,225.0800018310547,224.32000732421875,231.3000030517578,234.8699951171875,232.41000366210938,234.24000549316406,233.8300018310547,227.25999450683594,222.97000122070312,234.60000610351562,233.60000610351562,238.94000244140625,256.67999267578125,251.3000030517578,253.80999755859375,262.3699951171875,266.8999938964844,263.54998779296875,263.6499938964844,258.5,265.9700012207031,271.0199890136719,271.04998779296875,273.3599853515625,273.07000732421875,263.95001220703125,264.2699890136719,266.69000244140625,271.260009765625,264.4800109863281,263.2900085449219,262.20001220703125,264.3299865722656,273.57000732421875,272.32000732421875,270.0,267.2200012207031,266.7099914550781,262.25,267.04998779296875,266.25,270.7099914550781,277.79998779296875,280.8299865722656,274.7200012207031,272.3999938964844,277.30999755859375,283.5,284.5,284.6099853515625,282.4599914550781,280.4599914550781,281.5199890136719,288.32000732421875,294.29998779296875,303.20001220703125,309.1600036621094,306.79998779296875,306.30999755859375,298.05999755859375,366.3500061035156,375.5,399.489990234375,378.2200012207031,383.3999938964844,390.5799865722656,387.07000732421875,381.4800109863281,373.55999755859375,375.04998779296875,385.6700134277344,386.17999267578125,397.3999938964844,405.5199890136719,421.4700012207031,426.6099853515625,426.739990234375,420.79998779296875,422.3399963378906,420.1499938964844,401.0,404.4800109863281,405.17999267578125,406.0,415.010009765625,422.0199890136719,420.8500061035156,413.4599914550781,421.79998779296875,416.489990234375,420.6700134277344,427.7699890136719,444.9200134277344,450.6000061035156,452.6199951171875,457.3399963378906,467.4200134277344,450.6199951171875,441.0,440.3999938964844,449.2300109863281,446.29998779296875,457.5,463.80999755859375,465.05999755859375,460.2699890136719,433.8699951171875,438.0,443.92999267578125,445.6300048828125,440.55999755859375,421.3399963378906,418.3500061035156,406.3900146484375,403.1099853515625,437.1000061035156,434.05999755859375,430.010009765625,416.6000061035156,442.2200012207031,453.3299865722656,452.0799865722656,471.5899963378906,450.239990234375,448.8800048828125,463.9100036621094,484.25,489.5799865722656,481.4200134277344,478.6000061035156,465.79998779296875,451.5199890136719,452.7099914550781,443.1199951171875,445.30999755859375,445.0299987792969,451.30999755859375,438.0799865722656,420.0,430.0199890136719,422.2300109863281,409.79998779296875,412.30999755859375,411.7699890136719,416.54998779296875,416.2900085449219,421.1499938964844,433.07000732421875,438.6099853515625,432.4599914550781,432.9200134277344,438.8800048828125,440.260009765625,443.67999267578125,450.8800048828125,460.5,463.29998779296875,452.79998779296875,449.1199951171875,424.79998779296875,418.25,418.82000732421875,410.7799987792969,409.45001220703125,426.9100036621094,415.54998779296875,398.79998779296875,400.1499938964844,404.80999755859375,392.29998779296875,408.69000244140625,428.94000244140625,437.2300109863281,448.989990234375,451.5799865722656,459.67999267578125,467.5,472.8299865722656,480.989990234375,490.3999938964844,482.0,483.29998779296875,490.07000732421875,491.80999755859375,492.2200012207031,476.8999938964844,477.45001220703125,476.5199890136719,474.7300109863281,478.6000061035156,464.2200012207031,461.8699951171875,450.1000061035156,452.7099914550781,454.1199951171875,456.0400085449219,465.5,458.29998779296875,460.4599914550781,476.0799865722656,474.2200012207031,481.20001220703125,491.5,488.95001220703125,480.9800109863281,484.19000244140625,484.6700134277344,489.6000061035156,490.8500061035156,494.1199951171875,487.510009765625],\"open\":[148.50999450683594,145.6699981689453,144.91000366210938,144.74000549316406,152.83999633789062,155.07000732421875,158.39999389648438,161.0,162.77999877929688,168.99000549316406,176.6699981689453,170.36000061035156,170.11000061035156,180.63999938964844,188.27000427246094,189.1300048828125,197.00999450683594,194.6199951171875,199.5,191.6999969482422,196.91000366210938,210.0,210.0,208.05999755859375,213.82000732421875,223.8699951171875,226.05999755859375,216.89999389648438,215.3800048828125,215.77999877929688,225.49000549316406,221.3300018310547,216.30999755859375,210.0,207.07000732421875,234.39999389648438,232.25,236.6999969482422,233.72000122070312,231.9199981689453,224.8800048828125,233.1999969482422,238.91000366210938,236.0,234.8699951171875,241.75,234.08999633789062,227.52000427246094,234.9600067138672,237.61000061035156,240.27000427246094,259.82000732421875,256.1499938964844,261.79998779296875,264.25,271.1499938964844,270.30999755859375,268.3699951171875,264.4700012207031,268.25,272.2900085449219,271.3999938964844,275.0899963378906,279.6600036621094,268.2900085449219,265.8399963378906,268.2300109863281,277.239990234375,273.70001220703125,267.3399963378906,265.0400085449219,265.6499938964844,275.3299865722656,273.6099853515625,276.7099914550781,269.5199890136719,270.1300048828125,270.7799987792969,270.0199890136719,273.6300048828125,272.25,278.3999938964844,286.79998779296875,278.3999938964844,276.510009765625,278.260009765625,285.2200012207031,288.989990234375,290.04998779296875,288.9599914550781,285.2900085449219,285.0799865722656,288.4100036621094,295.8399963378906,304.1000061035156,315.3599853515625,309.010009765625,310.0,302.1000061035156,385.2300109863281,378.8999938964844,405.95001220703125,394.8800048828125,384.8900146484375,400.9700012207031,389.0899963378906,388.29998779296875,389.1499938964844,377.239990234375,390.3699951171875,392.0,401.8599853515625,408.239990234375,426.0199890136719,434.5,429.9800109863281,435.010009765625,422.5299987792969,424.6400146484375,424.6099853515625,407.989990234375,406.6000061035156,415.5799865722656,416.79998779296875,425.1700134277344,421.3500061035156,418.44000244140625,423.2200012207031,426.57000732421875,424.80999755859375,430.3299865722656,445.17999267578125,465.8299865722656,462.8900146484375,467.010009765625,474.6400146484375,465.07000732421875,457.8800048828125,447.30999755859375,449.4100036621094,460.2099914550781,465.19000244140625,466.67999267578125,467.5400085449219,464.6000061035156,458.30999755859375,438.0,449.8500061035156,451.1099853515625,448.5299987792969,442.739990234375,421.6000061035156,417.510009765625,404.8599853515625,445.6000061035156,445.20001220703125,439.70001220703125,426.3500061035156,444.94000244140625,481.3500061035156,458.6600036621094,502.1600036621094,470.1199951171875,464.82000732421875,466.6600036621094,490.44000244140625,493.79998779296875,497.6199951171875,482.2300109863281,484.4100036621094,455.25,459.4200134277344,461.4800109863281,447.3800048828125,446.0,459.5,453.4100036621094,427.4800109863281,438.3299865722656,436.0,415.8299865722656,415.7200012207031,415.9100036621094,420.010009765625,423.29998779296875,424.6000061035156,438.2699890136719,440.29998779296875,448.0799865722656,437.4200134277344,440.5,441.92999267578125,448.4200134277344,453.1000061035156,461.9599914550781,467.7699890136719,469.6000061035156,450.6300048828125,440.0,425.9100036621094,428.1099853515625,418.8999938964844,412.2900085449219,430.7699890136719,433.9800109863281,418.5299987792969,411.29998779296875,410.8699951171875,404.5,408.8399963378906,433.2799987792969,440.20001220703125,452.8500061035156,457.19000244140625,461.0,474.6700134277344,475.0,483.20001220703125,496.79998779296875,499.3500061035156,486.7900085449219,495.239990234375,493.1199951171875,501.260009765625,498.5199890136719,484.70001220703125,478.0,482.3599853515625,483.7900085449219,480.239990234375,465.25,460.7699890136719,454.6600036621094,472.1499938964844,457.0,465.95001220703125,474.9100036621094,460.4599914550781,476.2900085449219,483.8999938964844,481.94000244140625,494.0,494.239990234375,496.54998779296875,488.1099853515625,491.95001220703125,489.67999267578125,495.1099853515625,496.42999267578125,498.1300048828125],\"x\":[\"2023-01-03T00:00:00\",\"2023-01-04T00:00:00\",\"2023-01-05T00:00:00\",\"2023-01-06T00:00:00\",\"2023-01-09T00:00:00\",\"2023-01-10T00:00:00\",\"2023-01-11T00:00:00\",\"2023-01-12T00:00:00\",\"2023-01-13T00:00:00\",\"2023-01-17T00:00:00\",\"2023-01-18T00:00:00\",\"2023-01-19T00:00:00\",\"2023-01-20T00:00:00\",\"2023-01-23T00:00:00\",\"2023-01-24T00:00:00\",\"2023-01-25T00:00:00\",\"2023-01-26T00:00:00\",\"2023-01-27T00:00:00\",\"2023-01-30T00:00:00\",\"2023-01-31T00:00:00\",\"2023-02-01T00:00:00\",\"2023-02-02T00:00:00\",\"2023-02-03T00:00:00\",\"2023-02-06T00:00:00\",\"2023-02-07T00:00:00\",\"2023-02-08T00:00:00\",\"2023-02-09T00:00:00\",\"2023-02-10T00:00:00\",\"2023-02-13T00:00:00\",\"2023-02-14T00:00:00\",\"2023-02-15T00:00:00\",\"2023-02-16T00:00:00\",\"2023-02-17T00:00:00\",\"2023-02-21T00:00:00\",\"2023-02-22T00:00:00\",\"2023-02-23T00:00:00\",\"2023-02-24T00:00:00\",\"2023-02-27T00:00:00\",\"2023-02-28T00:00:00\",\"2023-03-01T00:00:00\",\"2023-03-02T00:00:00\",\"2023-03-03T00:00:00\",\"2023-03-06T00:00:00\",\"2023-03-07T00:00:00\",\"2023-03-08T00:00:00\",\"2023-03-09T00:00:00\",\"2023-03-10T00:00:00\",\"2023-03-13T00:00:00\",\"2023-03-14T00:00:00\",\"2023-03-15T00:00:00\",\"2023-03-16T00:00:00\",\"2023-03-17T00:00:00\",\"2023-03-20T00:00:00\",\"2023-03-21T00:00:00\",\"2023-03-22T00:00:00\",\"2023-03-23T00:00:00\",\"2023-03-24T00:00:00\",\"2023-03-27T00:00:00\",\"2023-03-28T00:00:00\",\"2023-03-29T00:00:00\",\"2023-03-30T00:00:00\",\"2023-03-31T00:00:00\",\"2023-04-03T00:00:00\",\"2023-04-04T00:00:00\",\"2023-04-05T00:00:00\",\"2023-04-06T00:00:00\",\"2023-04-10T00:00:00\",\"2023-04-11T00:00:00\",\"2023-04-12T00:00:00\",\"2023-04-13T00:00:00\",\"2023-04-14T00:00:00\",\"2023-04-17T00:00:00\",\"2023-04-18T00:00:00\",\"2023-04-19T00:00:00\",\"2023-04-20T00:00:00\",\"2023-04-21T00:00:00\",\"2023-04-24T00:00:00\",\"2023-04-25T00:00:00\",\"2023-04-26T00:00:00\",\"2023-04-27T00:00:00\",\"2023-04-28T00:00:00\",\"2023-05-01T00:00:00\",\"2023-05-02T00:00:00\",\"2023-05-03T00:00:00\",\"2023-05-04T00:00:00\",\"2023-05-05T00:00:00\",\"2023-05-08T00:00:00\",\"2023-05-09T00:00:00\",\"2023-05-10T00:00:00\",\"2023-05-11T00:00:00\",\"2023-05-12T00:00:00\",\"2023-05-15T00:00:00\",\"2023-05-16T00:00:00\",\"2023-05-17T00:00:00\",\"2023-05-18T00:00:00\",\"2023-05-19T00:00:00\",\"2023-05-22T00:00:00\",\"2023-05-23T00:00:00\",\"2023-05-24T00:00:00\",\"2023-05-25T00:00:00\",\"2023-05-26T00:00:00\",\"2023-05-30T00:00:00\",\"2023-05-31T00:00:00\",\"2023-06-01T00:00:00\",\"2023-06-02T00:00:00\",\"2023-06-05T00:00:00\",\"2023-06-06T00:00:00\",\"2023-06-07T00:00:00\",\"2023-06-08T00:00:00\",\"2023-06-09T00:00:00\",\"2023-06-12T00:00:00\",\"2023-06-13T00:00:00\",\"2023-06-14T00:00:00\",\"2023-06-15T00:00:00\",\"2023-06-16T00:00:00\",\"2023-06-20T00:00:00\",\"2023-06-21T00:00:00\",\"2023-06-22T00:00:00\",\"2023-06-23T00:00:00\",\"2023-06-26T00:00:00\",\"2023-06-27T00:00:00\",\"2023-06-28T00:00:00\",\"2023-06-29T00:00:00\",\"2023-06-30T00:00:00\",\"2023-07-03T00:00:00\",\"2023-07-05T00:00:00\",\"2023-07-06T00:00:00\",\"2023-07-07T00:00:00\",\"2023-07-10T00:00:00\",\"2023-07-11T00:00:00\",\"2023-07-12T00:00:00\",\"2023-07-13T00:00:00\",\"2023-07-14T00:00:00\",\"2023-07-17T00:00:00\",\"2023-07-18T00:00:00\",\"2023-07-19T00:00:00\",\"2023-07-20T00:00:00\",\"2023-07-21T00:00:00\",\"2023-07-24T00:00:00\",\"2023-07-25T00:00:00\",\"2023-07-26T00:00:00\",\"2023-07-27T00:00:00\",\"2023-07-28T00:00:00\",\"2023-07-31T00:00:00\",\"2023-08-01T00:00:00\",\"2023-08-02T00:00:00\",\"2023-08-03T00:00:00\",\"2023-08-04T00:00:00\",\"2023-08-07T00:00:00\",\"2023-08-08T00:00:00\",\"2023-08-09T00:00:00\",\"2023-08-10T00:00:00\",\"2023-08-11T00:00:00\",\"2023-08-14T00:00:00\",\"2023-08-15T00:00:00\",\"2023-08-16T00:00:00\",\"2023-08-17T00:00:00\",\"2023-08-18T00:00:00\",\"2023-08-21T00:00:00\",\"2023-08-22T00:00:00\",\"2023-08-23T00:00:00\",\"2023-08-24T00:00:00\",\"2023-08-25T00:00:00\",\"2023-08-28T00:00:00\",\"2023-08-29T00:00:00\",\"2023-08-30T00:00:00\",\"2023-08-31T00:00:00\",\"2023-09-01T00:00:00\",\"2023-09-05T00:00:00\",\"2023-09-06T00:00:00\",\"2023-09-07T00:00:00\",\"2023-09-08T00:00:00\",\"2023-09-11T00:00:00\",\"2023-09-12T00:00:00\",\"2023-09-13T00:00:00\",\"2023-09-14T00:00:00\",\"2023-09-15T00:00:00\",\"2023-09-18T00:00:00\",\"2023-09-19T00:00:00\",\"2023-09-20T00:00:00\",\"2023-09-21T00:00:00\",\"2023-09-22T00:00:00\",\"2023-09-25T00:00:00\",\"2023-09-26T00:00:00\",\"2023-09-27T00:00:00\",\"2023-09-28T00:00:00\",\"2023-09-29T00:00:00\",\"2023-10-02T00:00:00\",\"2023-10-03T00:00:00\",\"2023-10-04T00:00:00\",\"2023-10-05T00:00:00\",\"2023-10-06T00:00:00\",\"2023-10-09T00:00:00\",\"2023-10-10T00:00:00\",\"2023-10-11T00:00:00\",\"2023-10-12T00:00:00\",\"2023-10-13T00:00:00\",\"2023-10-16T00:00:00\",\"2023-10-17T00:00:00\",\"2023-10-18T00:00:00\",\"2023-10-19T00:00:00\",\"2023-10-20T00:00:00\",\"2023-10-23T00:00:00\",\"2023-10-24T00:00:00\",\"2023-10-25T00:00:00\",\"2023-10-26T00:00:00\",\"2023-10-27T00:00:00\",\"2023-10-30T00:00:00\",\"2023-10-31T00:00:00\",\"2023-11-01T00:00:00\",\"2023-11-02T00:00:00\",\"2023-11-03T00:00:00\",\"2023-11-06T00:00:00\",\"2023-11-07T00:00:00\",\"2023-11-08T00:00:00\",\"2023-11-09T00:00:00\",\"2023-11-10T00:00:00\",\"2023-11-13T00:00:00\",\"2023-11-14T00:00:00\",\"2023-11-15T00:00:00\",\"2023-11-16T00:00:00\",\"2023-11-17T00:00:00\",\"2023-11-20T00:00:00\",\"2023-11-21T00:00:00\",\"2023-11-22T00:00:00\",\"2023-11-24T00:00:00\",\"2023-11-27T00:00:00\",\"2023-11-28T00:00:00\",\"2023-11-29T00:00:00\",\"2023-11-30T00:00:00\",\"2023-12-01T00:00:00\",\"2023-12-04T00:00:00\",\"2023-12-05T00:00:00\",\"2023-12-06T00:00:00\",\"2023-12-07T00:00:00\",\"2023-12-08T00:00:00\",\"2023-12-11T00:00:00\",\"2023-12-12T00:00:00\",\"2023-12-13T00:00:00\",\"2023-12-14T00:00:00\",\"2023-12-15T00:00:00\",\"2023-12-18T00:00:00\",\"2023-12-19T00:00:00\",\"2023-12-20T00:00:00\",\"2023-12-21T00:00:00\",\"2023-12-22T00:00:00\",\"2023-12-26T00:00:00\",\"2023-12-27T00:00:00\",\"2023-12-28T00:00:00\",\"2023-12-29T00:00:00\"],\"type\":\"candlestick\"}],                        {\"template\":{\"data\":{\"bar\":[{\"error_x\":{\"color\":\"#2a3f5f\"},\"error_y\":{\"color\":\"#2a3f5f\"},\"marker\":{\"line\":{\"color\":\"#E5ECF6\",\"width\":0.5},\"pattern\":{\"fillmode\":\"overlay\",\"size\":10,\"solidity\":0.2}},\"type\":\"bar\"}],\"barpolar\":[{\"marker\":{\"line\":{\"color\":\"#E5ECF6\",\"width\":0.5},\"pattern\":{\"fillmode\":\"overlay\",\"size\":10,\"solidity\":0.2}},\"type\":\"barpolar\"}],\"carpet\":[{\"aaxis\":{\"endlinecolor\":\"#2a3f5f\",\"gridcolor\":\"white\",\"linecolor\":\"white\",\"minorgridcolor\":\"white\",\"startlinecolor\":\"#2a3f5f\"},\"baxis\":{\"endlinecolor\":\"#2a3f5f\",\"gridcolor\":\"white\",\"linecolor\":\"white\",\"minorgridcolor\":\"white\",\"startlinecolor\":\"#2a3f5f\"},\"type\":\"carpet\"}],\"choropleth\":[{\"colorbar\":{\"outlinewidth\":0,\"ticks\":\"\"},\"type\":\"choropleth\"}],\"contour\":[{\"colorbar\":{\"outlinewidth\":0,\"ticks\":\"\"},\"colorscale\":[[0.0,\"#0d0887\"],[0.1111111111111111,\"#46039f\"],[0.2222222222222222,\"#7201a8\"],[0.3333333333333333,\"#9c179e\"],[0.4444444444444444,\"#bd3786\"],[0.5555555555555556,\"#d8576b\"],[0.6666666666666666,\"#ed7953\"],[0.7777777777777778,\"#fb9f3a\"],[0.8888888888888888,\"#fdca26\"],[1.0,\"#f0f921\"]],\"type\":\"contour\"}],\"contourcarpet\":[{\"colorbar\":{\"outlinewidth\":0,\"ticks\":\"\"},\"type\":\"contourcarpet\"}],\"heatmap\":[{\"colorbar\":{\"outlinewidth\":0,\"ticks\":\"\"},\"colorscale\":[[0.0,\"#0d0887\"],[0.1111111111111111,\"#46039f\"],[0.2222222222222222,\"#7201a8\"],[0.3333333333333333,\"#9c179e\"],[0.4444444444444444,\"#bd3786\"],[0.5555555555555556,\"#d8576b\"],[0.6666666666666666,\"#ed7953\"],[0.7777777777777778,\"#fb9f3a\"],[0.8888888888888888,\"#fdca26\"],[1.0,\"#f0f921\"]],\"type\":\"heatmap\"}],\"heatmapgl\":[{\"colorbar\":{\"outlinewidth\":0,\"ticks\":\"\"},\"colorscale\":[[0.0,\"#0d0887\"],[0.1111111111111111,\"#46039f\"],[0.2222222222222222,\"#7201a8\"],[0.3333333333333333,\"#9c179e\"],[0.4444444444444444,\"#bd3786\"],[0.5555555555555556,\"#d8576b\"],[0.6666666666666666,\"#ed7953\"],[0.7777777777777778,\"#fb9f3a\"],[0.8888888888888888,\"#fdca26\"],[1.0,\"#f0f921\"]],\"type\":\"heatmapgl\"}],\"histogram\":[{\"marker\":{\"pattern\":{\"fillmode\":\"overlay\",\"size\":10,\"solidity\":0.2}},\"type\":\"histogram\"}],\"histogram2d\":[{\"colorbar\":{\"outlinewidth\":0,\"ticks\":\"\"},\"colorscale\":[[0.0,\"#0d0887\"],[0.1111111111111111,\"#46039f\"],[0.2222222222222222,\"#7201a8\"],[0.3333333333333333,\"#9c179e\"],[0.4444444444444444,\"#bd3786\"],[0.5555555555555556,\"#d8576b\"],[0.6666666666666666,\"#ed7953\"],[0.7777777777777778,\"#fb9f3a\"],[0.8888888888888888,\"#fdca26\"],[1.0,\"#f0f921\"]],\"type\":\"histogram2d\"}],\"histogram2dcontour\":[{\"colorbar\":{\"outlinewidth\":0,\"ticks\":\"\"},\"colorscale\":[[0.0,\"#0d0887\"],[0.1111111111111111,\"#46039f\"],[0.2222222222222222,\"#7201a8\"],[0.3333333333333333,\"#9c179e\"],[0.4444444444444444,\"#bd3786\"],[0.5555555555555556,\"#d8576b\"],[0.6666666666666666,\"#ed7953\"],[0.7777777777777778,\"#fb9f3a\"],[0.8888888888888888,\"#fdca26\"],[1.0,\"#f0f921\"]],\"type\":\"histogram2dcontour\"}],\"mesh3d\":[{\"colorbar\":{\"outlinewidth\":0,\"ticks\":\"\"},\"type\":\"mesh3d\"}],\"parcoords\":[{\"line\":{\"colorbar\":{\"outlinewidth\":0,\"ticks\":\"\"}},\"type\":\"parcoords\"}],\"pie\":[{\"automargin\":true,\"type\":\"pie\"}],\"scatter\":[{\"marker\":{\"colorbar\":{\"outlinewidth\":0,\"ticks\":\"\"}},\"type\":\"scatter\"}],\"scatter3d\":[{\"line\":{\"colorbar\":{\"outlinewidth\":0,\"ticks\":\"\"}},\"marker\":{\"colorbar\":{\"outlinewidth\":0,\"ticks\":\"\"}},\"type\":\"scatter3d\"}],\"scattercarpet\":[{\"marker\":{\"colorbar\":{\"outlinewidth\":0,\"ticks\":\"\"}},\"type\":\"scattercarpet\"}],\"scattergeo\":[{\"marker\":{\"colorbar\":{\"outlinewidth\":0,\"ticks\":\"\"}},\"type\":\"scattergeo\"}],\"scattergl\":[{\"marker\":{\"colorbar\":{\"outlinewidth\":0,\"ticks\":\"\"}},\"type\":\"scattergl\"}],\"scattermapbox\":[{\"marker\":{\"colorbar\":{\"outlinewidth\":0,\"ticks\":\"\"}},\"type\":\"scattermapbox\"}],\"scatterpolar\":[{\"marker\":{\"colorbar\":{\"outlinewidth\":0,\"ticks\":\"\"}},\"type\":\"scatterpolar\"}],\"scatterpolargl\":[{\"marker\":{\"colorbar\":{\"outlinewidth\":0,\"ticks\":\"\"}},\"type\":\"scatterpolargl\"}],\"scatterternary\":[{\"marker\":{\"colorbar\":{\"outlinewidth\":0,\"ticks\":\"\"}},\"type\":\"scatterternary\"}],\"surface\":[{\"colorbar\":{\"outlinewidth\":0,\"ticks\":\"\"},\"colorscale\":[[0.0,\"#0d0887\"],[0.1111111111111111,\"#46039f\"],[0.2222222222222222,\"#7201a8\"],[0.3333333333333333,\"#9c179e\"],[0.4444444444444444,\"#bd3786\"],[0.5555555555555556,\"#d8576b\"],[0.6666666666666666,\"#ed7953\"],[0.7777777777777778,\"#fb9f3a\"],[0.8888888888888888,\"#fdca26\"],[1.0,\"#f0f921\"]],\"type\":\"surface\"}],\"table\":[{\"cells\":{\"fill\":{\"color\":\"#EBF0F8\"},\"line\":{\"color\":\"white\"}},\"header\":{\"fill\":{\"color\":\"#C8D4E3\"},\"line\":{\"color\":\"white\"}},\"type\":\"table\"}]},\"layout\":{\"annotationdefaults\":{\"arrowcolor\":\"#2a3f5f\",\"arrowhead\":0,\"arrowwidth\":1},\"autotypenumbers\":\"strict\",\"coloraxis\":{\"colorbar\":{\"outlinewidth\":0,\"ticks\":\"\"}},\"colorscale\":{\"diverging\":[[0,\"#8e0152\"],[0.1,\"#c51b7d\"],[0.2,\"#de77ae\"],[0.3,\"#f1b6da\"],[0.4,\"#fde0ef\"],[0.5,\"#f7f7f7\"],[0.6,\"#e6f5d0\"],[0.7,\"#b8e186\"],[0.8,\"#7fbc41\"],[0.9,\"#4d9221\"],[1,\"#276419\"]],\"sequential\":[[0.0,\"#0d0887\"],[0.1111111111111111,\"#46039f\"],[0.2222222222222222,\"#7201a8\"],[0.3333333333333333,\"#9c179e\"],[0.4444444444444444,\"#bd3786\"],[0.5555555555555556,\"#d8576b\"],[0.6666666666666666,\"#ed7953\"],[0.7777777777777778,\"#fb9f3a\"],[0.8888888888888888,\"#fdca26\"],[1.0,\"#f0f921\"]],\"sequentialminus\":[[0.0,\"#0d0887\"],[0.1111111111111111,\"#46039f\"],[0.2222222222222222,\"#7201a8\"],[0.3333333333333333,\"#9c179e\"],[0.4444444444444444,\"#bd3786\"],[0.5555555555555556,\"#d8576b\"],[0.6666666666666666,\"#ed7953\"],[0.7777777777777778,\"#fb9f3a\"],[0.8888888888888888,\"#fdca26\"],[1.0,\"#f0f921\"]]},\"colorway\":[\"#636efa\",\"#EF553B\",\"#00cc96\",\"#ab63fa\",\"#FFA15A\",\"#19d3f3\",\"#FF6692\",\"#B6E880\",\"#FF97FF\",\"#FECB52\"],\"font\":{\"color\":\"#2a3f5f\"},\"geo\":{\"bgcolor\":\"white\",\"lakecolor\":\"white\",\"landcolor\":\"#E5ECF6\",\"showlakes\":true,\"showland\":true,\"subunitcolor\":\"white\"},\"hoverlabel\":{\"align\":\"left\"},\"hovermode\":\"closest\",\"mapbox\":{\"style\":\"light\"},\"paper_bgcolor\":\"white\",\"plot_bgcolor\":\"#E5ECF6\",\"polar\":{\"angularaxis\":{\"gridcolor\":\"white\",\"linecolor\":\"white\",\"ticks\":\"\"},\"bgcolor\":\"#E5ECF6\",\"radialaxis\":{\"gridcolor\":\"white\",\"linecolor\":\"white\",\"ticks\":\"\"}},\"scene\":{\"xaxis\":{\"backgroundcolor\":\"#E5ECF6\",\"gridcolor\":\"white\",\"gridwidth\":2,\"linecolor\":\"white\",\"showbackground\":true,\"ticks\":\"\",\"zerolinecolor\":\"white\"},\"yaxis\":{\"backgroundcolor\":\"#E5ECF6\",\"gridcolor\":\"white\",\"gridwidth\":2,\"linecolor\":\"white\",\"showbackground\":true,\"ticks\":\"\",\"zerolinecolor\":\"white\"},\"zaxis\":{\"backgroundcolor\":\"#E5ECF6\",\"gridcolor\":\"white\",\"gridwidth\":2,\"linecolor\":\"white\",\"showbackground\":true,\"ticks\":\"\",\"zerolinecolor\":\"white\"}},\"shapedefaults\":{\"line\":{\"color\":\"#2a3f5f\"}},\"ternary\":{\"aaxis\":{\"gridcolor\":\"white\",\"linecolor\":\"white\",\"ticks\":\"\"},\"baxis\":{\"gridcolor\":\"white\",\"linecolor\":\"white\",\"ticks\":\"\"},\"bgcolor\":\"#E5ECF6\",\"caxis\":{\"gridcolor\":\"white\",\"linecolor\":\"white\",\"ticks\":\"\"}},\"title\":{\"x\":0.05},\"xaxis\":{\"automargin\":true,\"gridcolor\":\"white\",\"linecolor\":\"white\",\"ticks\":\"\",\"title\":{\"standoff\":15},\"zerolinecolor\":\"white\",\"zerolinewidth\":2},\"yaxis\":{\"automargin\":true,\"gridcolor\":\"white\",\"linecolor\":\"white\",\"ticks\":\"\",\"title\":{\"standoff\":15},\"zerolinecolor\":\"white\",\"zerolinewidth\":2}}},\"xaxis\":{\"rangeslider\":{\"visible\":false}},\"title\":{\"text\":\"NVDA chart price\"}},                        {\"responsive\": true}                    ).then(function(){\n",
       "                            \n",
       "var gd = document.getElementById('adc8b639-2b4d-491a-ace9-ebe143865b44');\n",
       "var x = new MutationObserver(function (mutations, observer) {{\n",
       "        var display = window.getComputedStyle(gd).display;\n",
       "        if (!display || display === 'none') {{\n",
       "            console.log([gd, 'removed!']);\n",
       "            Plotly.purge(gd);\n",
       "            observer.disconnect();\n",
       "        }}\n",
       "}});\n",
       "\n",
       "// Listen for the removal of the full notebook cells\n",
       "var notebookContainer = gd.closest('#notebook-container');\n",
       "if (notebookContainer) {{\n",
       "    x.observe(notebookContainer, {childList: true});\n",
       "}}\n",
       "\n",
       "// Listen for the clearing of the current output cell\n",
       "var outputEl = gd.closest('.output');\n",
       "if (outputEl) {{\n",
       "    x.observe(outputEl, {childList: true});\n",
       "}}\n",
       "\n",
       "                        })                };                });            </script>        </div>"
      ]
     },
     "metadata": {},
     "output_type": "display_data"
    }
   ],
   "source": [
    "draw_graph(df, 'NVDA')"
   ]
  },
  {
   "cell_type": "markdown",
   "id": "9e8ff703",
   "metadata": {},
   "source": [
    "Then let's look at them most unprofitable companies"
   ]
  },
  {
   "cell_type": "code",
   "execution_count": 78,
   "id": "cdb88aa4",
   "metadata": {},
   "outputs": [
    {
     "data": {
      "text/html": [
       "<div>\n",
       "<style scoped>\n",
       "    .dataframe tbody tr th:only-of-type {\n",
       "        vertical-align: middle;\n",
       "    }\n",
       "\n",
       "    .dataframe tbody tr th {\n",
       "        vertical-align: top;\n",
       "    }\n",
       "\n",
       "    .dataframe thead th {\n",
       "        text-align: right;\n",
       "    }\n",
       "</style>\n",
       "<table border=\"1\" class=\"dataframe\">\n",
       "  <thead>\n",
       "    <tr style=\"text-align: right;\">\n",
       "      <th></th>\n",
       "      <th>Symbol</th>\n",
       "      <th>Returns %</th>\n",
       "      <th>Std</th>\n",
       "      <th>Range</th>\n",
       "      <th>Volume</th>\n",
       "      <th>GICS Sector</th>\n",
       "    </tr>\n",
       "  </thead>\n",
       "  <tbody>\n",
       "    <tr>\n",
       "      <th>158</th>\n",
       "      <td>ENPH</td>\n",
       "      <td>-47.0</td>\n",
       "      <td>45.70</td>\n",
       "      <td>7.44</td>\n",
       "      <td>4377044.4</td>\n",
       "      <td>Information Technology</td>\n",
       "    </tr>\n",
       "    <tr>\n",
       "      <th>188</th>\n",
       "      <td>FMC</td>\n",
       "      <td>-47.0</td>\n",
       "      <td>25.88</td>\n",
       "      <td>2.30</td>\n",
       "      <td>1339521.2</td>\n",
       "      <td>Materials</td>\n",
       "    </tr>\n",
       "    <tr>\n",
       "      <th>316</th>\n",
       "      <td>MRNA</td>\n",
       "      <td>-44.0</td>\n",
       "      <td>32.47</td>\n",
       "      <td>4.75</td>\n",
       "      <td>3890600.4</td>\n",
       "      <td>Health Care</td>\n",
       "    </tr>\n",
       "    <tr>\n",
       "      <th>131</th>\n",
       "      <td>DG</td>\n",
       "      <td>-44.0</td>\n",
       "      <td>43.41</td>\n",
       "      <td>3.73</td>\n",
       "      <td>2968040.4</td>\n",
       "      <td>Consumer Staples</td>\n",
       "    </tr>\n",
       "    <tr>\n",
       "      <th>154</th>\n",
       "      <td>EL</td>\n",
       "      <td>-43.0</td>\n",
       "      <td>48.01</td>\n",
       "      <td>4.68</td>\n",
       "      <td>2271901.6</td>\n",
       "      <td>Consumer Staples</td>\n",
       "    </tr>\n",
       "    <tr>\n",
       "      <th>364</th>\n",
       "      <td>PFE</td>\n",
       "      <td>-40.0</td>\n",
       "      <td>4.56</td>\n",
       "      <td>0.69</td>\n",
       "      <td>28236697.6</td>\n",
       "      <td>Health Care</td>\n",
       "    </tr>\n",
       "    <tr>\n",
       "      <th>21</th>\n",
       "      <td>ALB</td>\n",
       "      <td>-35.0</td>\n",
       "      <td>43.14</td>\n",
       "      <td>7.11</td>\n",
       "      <td>2249912.0</td>\n",
       "      <td>Materials</td>\n",
       "    </tr>\n",
       "    <tr>\n",
       "      <th>463</th>\n",
       "      <td>VFC</td>\n",
       "      <td>-33.0</td>\n",
       "      <td>3.64</td>\n",
       "      <td>0.81</td>\n",
       "      <td>7660792.8</td>\n",
       "      <td>Consumer Discretionary</td>\n",
       "    </tr>\n",
       "    <tr>\n",
       "      <th>357</th>\n",
       "      <td>PAYC</td>\n",
       "      <td>-32.0</td>\n",
       "      <td>48.18</td>\n",
       "      <td>7.84</td>\n",
       "      <td>668734.0</td>\n",
       "      <td>Industrials</td>\n",
       "    </tr>\n",
       "    <tr>\n",
       "      <th>237</th>\n",
       "      <td>ILMN</td>\n",
       "      <td>-31.0</td>\n",
       "      <td>40.31</td>\n",
       "      <td>6.12</td>\n",
       "      <td>1727149.6</td>\n",
       "      <td>Health Care</td>\n",
       "    </tr>\n",
       "  </tbody>\n",
       "</table>\n",
       "</div>"
      ],
      "text/plain": [
       "    Symbol  Returns %    Std  Range      Volume             GICS Sector\n",
       "158   ENPH      -47.0  45.70   7.44   4377044.4  Information Technology\n",
       "188    FMC      -47.0  25.88   2.30   1339521.2               Materials\n",
       "316   MRNA      -44.0  32.47   4.75   3890600.4             Health Care\n",
       "131     DG      -44.0  43.41   3.73   2968040.4        Consumer Staples\n",
       "154     EL      -43.0  48.01   4.68   2271901.6        Consumer Staples\n",
       "364    PFE      -40.0   4.56   0.69  28236697.6             Health Care\n",
       "21     ALB      -35.0  43.14   7.11   2249912.0               Materials\n",
       "463    VFC      -33.0   3.64   0.81   7660792.8  Consumer Discretionary\n",
       "357   PAYC      -32.0  48.18   7.84    668734.0             Industrials\n",
       "237   ILMN      -31.0  40.31   6.12   1727149.6             Health Care"
      ]
     },
     "execution_count": 78,
     "metadata": {},
     "output_type": "execute_result"
    }
   ],
   "source": [
    "df2.sort_values(by = 'Returns %', ascending=True)[:10]"
   ]
  },
  {
   "cell_type": "code",
   "execution_count": 79,
   "id": "8842dcc7",
   "metadata": {
    "scrolled": false
   },
   "outputs": [
    {
     "data": {
      "application/vnd.plotly.v1+json": {
       "config": {
        "plotlyServerURL": "https://plot.ly"
       },
       "data": [
        {
         "close": [
          253.30999755859375,
          251.63999938964844,
          240.3699951171875,
          233.64999389648438,
          227.94000244140625,
          229.8300018310547,
          238.82000732421875,
          241.72000122070312,
          245.8300018310547,
          251.05999755859375,
          250.30999755859375,
          222.97000122070312,
          222.5399932861328,
          228.44000244140625,
          219.47000122070312,
          210.32000732421875,
          208.02000427246094,
          210.08999633789062,
          212.22000122070312,
          221.3800048828125,
          227.13999938964844,
          227.6999969482422,
          222.92999267578125,
          222.99000549316406,
          228.4600067138672,
          218.8699951171875,
          209.60000610351562,
          212.07000732421875,
          212.57000732421875,
          208.35000610351562,
          217.8699951171875,
          202.8000030517578,
          204.99000549316406,
          201.64999389648438,
          203.57000732421875,
          204.7100067138672,
          198.9600067138672,
          210.77999877929688,
          210.52999877929688,
          212.9499969482422,
          211.55999755859375,
          217.16000366210938,
          225.35000610351562,
          224.2100067138672,
          218.30999755859375,
          215.85000610351562,
          210.22000122070312,
          211.52999877929688,
          213.00999450683594,
          205.75999450683594,
          201.10000610351562,
          183.63999938964844,
          192.50999450683594,
          207.6300048828125,
          202.14999389648438,
          204.66000366210938,
          195.99000549316406,
          195.8300018310547,
          193.52000427246094,
          203.9499969482422,
          205.27000427246094,
          210.27999877929688,
          202.60000610351562,
          202.5399932861328,
          193.6699981689453,
          191,
          195.8000030517578,
          196.8800048828125,
          196.02999877929688,
          209.69000244140625,
          208.89999389648438,
          224.9199981689453,
          227.8699951171875,
          224.27000427246094,
          224.7899932861328,
          223.61000061035156,
          224.60000610351562,
          220.60000610351562,
          163.8300018310547,
          164.17999267578125,
          164.1999969482422,
          160.58999633789062,
          152.8800048828125,
          155.4199981689453,
          155.4199981689453,
          159.64999389648438,
          163.2899932861328,
          157.8300018310547,
          161.4199981689453,
          160.7899932861328,
          167.5500030517578,
          168.7100067138672,
          160.9600067138672,
          163.72999572753906,
          163.72000122070312,
          162.3699951171875,
          164.64999389648438,
          162.8300018310547,
          164.0500030517578,
          164.58999633789062,
          165.1999969482422,
          174.1199951171875,
          173.8800048828125,
          181.47000122070312,
          181.86000061035156,
          182.72999572753906,
          182.61000061035156,
          182.08999633789062,
          181.39999389648438,
          174.5800018310547,
          176.88999938964844,
          179.66000366210938,
          179.1999969482422,
          180.50999450683594,
          181.80999755859375,
          171.99000549316406,
          167.99000549316406,
          162.52999877929688,
          158.69000244140625,
          159.2100067138672,
          161.02999877929688,
          161.4199981689453,
          158.77000427246094,
          167.47999572753906,
          169.5500030517578,
          165.33999633789062,
          161.3800048828125,
          166.1699981689453,
          175.47000122070312,
          173.77999877929688,
          182.8000030517578,
          182.63999938964844,
          177.94000244140625,
          189.6699981689453,
          184.0500030517578,
          185.49000549316406,
          175.9199981689453,
          177.47999572753906,
          177.80999755859375,
          179.47000122070312,
          173.36000061035156,
          166.8000030517578,
          154.3300018310547,
          151.8300018310547,
          150.32000732421875,
          140.69000244140625,
          140.36000061035156,
          140,
          135.4499969482422,
          135.77000427246094,
          138.4600067138672,
          136.4600067138672,
          135.1999969482422,
          138.58999633789062,
          134.55999755859375,
          132.8800048828125,
          131.44000244140625,
          130.33999633789062,
          130.16000366210938,
          128.32000732421875,
          130.36000061035156,
          122.33999633789062,
          124.08999633789062,
          125.30000305175781,
          129.0500030517578,
          128.11000061035156,
          126.52999877929688,
          128.72999572753906,
          127.7699966430664,
          123.02999877929688,
          122.2300033569336,
          120.2300033569336,
          122.19000244140625,
          123.3499984741211,
          119.5999984741211,
          122.30999755859375,
          120.30000305175781,
          117.16000366210938,
          122.08999633789062,
          123.97000122070312,
          124.8499984741211,
          119.91999816894531,
          121.0999984741211,
          119.1500015258789,
          120.11000061035156,
          120.0199966430664,
          120.1500015258789,
          116.83999633789062,
          114.22000122070312,
          117.18000030517578,
          116.01000213623047,
          119.16000366210938,
          119.75,
          125.75,
          128.61000061035156,
          124.58000183105469,
          123.80999755859375,
          127.11000061035156,
          129.24000549316406,
          123.83999633789062,
          115.9000015258789,
          98.88999938964844,
          96.29000091552734,
          94.83999633789062,
          94.3499984741211,
          96.18000030517578,
          82.08999633789062,
          78.66000366210938,
          79.58000183105469,
          76.7300033569336,
          78.91999816894531,
          80.80999755859375,
          78.18000030517578,
          78.83000183105469,
          76.9000015258789,
          75.55999755859375,
          77.9800033569336,
          78.55000305175781,
          91.38999938964844,
          92.80999755859375,
          90.66999816894531,
          92.86000061035156,
          98.5,
          98.31999969482422,
          100.19999694824219,
          100.22000122070312,
          97.80000305175781,
          99.0999984741211,
          100.95999908447266,
          101.0199966430664,
          106.5199966430664,
          108.87000274658203,
          110,
          106.7699966430664,
          107.16999816894531,
          103.01000213623047,
          103.55000305175781,
          99.81999969482422,
          107.61000061035156,
          120.22000122070312,
          123.91999816894531,
          124.02999877929688,
          135.32000732421875,
          128,
          133.86000061035156,
          133.99000549316406,
          137.33999633789062,
          135.6300048828125,
          134.7899932861328,
          132.13999938964844
         ],
         "high": [
          271.7200012207031,
          256.2200012207031,
          251.85000610351562,
          241.74000549316406,
          243.1699981689453,
          233.4499969482422,
          242,
          243.22000122070312,
          251.64999389648438,
          260.9800109863281,
          260,
          249.25,
          227.89999389648438,
          234.3300018310547,
          223.9499969482422,
          211.7100067138672,
          214.49000549316406,
          213.58999633789062,
          217.99000549316406,
          221.5800018310547,
          229.63999938964844,
          235.89999389648438,
          227.89999389648438,
          231.67999267578125,
          230.11000061035156,
          247,
          222.49000549316406,
          220.2899932861328,
          217.07000732421875,
          211.38999938964844,
          218.6199951171875,
          217.1199951171875,
          206.5800018310547,
          207,
          205,
          208.82000732421875,
          203.16000366210938,
          213.27999877929688,
          213.49000549316406,
          216.38999938964844,
          212.35000610351562,
          219.17999267578125,
          230.44000244140625,
          227.6699981689453,
          223.5800018310547,
          224.41000366210938,
          221.52000427246094,
          215.58999633789062,
          221.49000549316406,
          211.97000122070312,
          205.5800018310547,
          200.6999969482422,
          196.8800048828125,
          209.35000610351562,
          211.22000122070312,
          214.85000610351562,
          203.5500030517578,
          200.27000427246094,
          196.60000610351562,
          205.8000030517578,
          214.19000244140625,
          212.1300048828125,
          215.88999938964844,
          203.1999969482422,
          201.7100067138672,
          192,
          195.89999389648438,
          199.0399932861328,
          201.25999450683594,
          211.58999633789062,
          214.64999389648438,
          229.24000549316406,
          231.4199981689453,
          228.5,
          226.25999450683594,
          226.77000427246094,
          225.32000732421875,
          228.36000061035156,
          183.30999755859375,
          169.1199951171875,
          164.3000030517578,
          166.63999938964844,
          158.8800048828125,
          158.6300048828125,
          159.8800048828125,
          160.6999969482422,
          164.55999755859375,
          161.74000549316406,
          162.02999877929688,
          162.72000122070312,
          172.60000610351562,
          172.11000061035156,
          169,
          165.58999633789062,
          164.57000732421875,
          166.72000122070312,
          166.9499969482422,
          166.13999938964844,
          164.3300018310547,
          165.3699951171875,
          166.8800048828125,
          175.80999755859375,
          176.22000122070312,
          184.05999755859375,
          187.99000549316406,
          186.6999969482422,
          185.85000610351562,
          186.8000030517578,
          183.94000244140625,
          182.8000030517578,
          177.11000061035156,
          184.1999969482422,
          180.92999267578125,
          182.05999755859375,
          184.9199981689453,
          182,
          174.1699981689453,
          165.3000030517578,
          162.1699981689453,
          162.55999755859375,
          161.4199981689453,
          164.6999969482422,
          165.10000610351562,
          168.77000427246094,
          173.72000122070312,
          169.97999572753906,
          164.3300018310547,
          169.5,
          176.24000549316406,
          177.02000427246094,
          183.8699951171875,
          186.36000061035156,
          183.57000732421875,
          191.30999755859375,
          192.22000122070312,
          189.5,
          180.5399932861328,
          179.7100067138672,
          179.8699951171875,
          182.25999450683594,
          176,
          175.58999633789062,
          154.91000366210938,
          156.6699981689453,
          153.55999755859375,
          145.5,
          144.25,
          144.39999389648438,
          140.1199951171875,
          135.9499969482422,
          139.49000549316406,
          141.19000244140625,
          136.05999755859375,
          138.6199951171875,
          138.1199951171875,
          136.9499969482422,
          133.19000244140625,
          132.08999633789062,
          132.19000244140625,
          130.99000549316406,
          131.39999389648438,
          131.08999633789062,
          125.02999877929688,
          126.48999786376953,
          129.7899932861328,
          130.3000030517578,
          129.3800048828125,
          132.3300018310547,
          130.5,
          127.69000244140625,
          122.33999633789062,
          122.29000091552734,
          124.13999938964844,
          124.38999938964844,
          123.68000030517578,
          123.4000015258789,
          122.79000091552734,
          119.30000305175781,
          124.19000244140625,
          127.47000122070312,
          125.87999725341797,
          126.5,
          123.73999786376953,
          120.31999969482422,
          122.75,
          121.77999877929688,
          124.68000030517578,
          120.66000366210938,
          116.12999725341797,
          120.05999755859375,
          117.75,
          119.66999816894531,
          120.2300033569336,
          127.91999816894531,
          131.91000366210938,
          127.80999755859375,
          125.80000305175781,
          128.22999572753906,
          132.16000366210938,
          128.17999267578125,
          122.66999816894531,
          103.9800033569336,
          100.16999816894531,
          97.44999694824219,
          95.3499984741211,
          99.33000183105469,
          84.8499984741211,
          84.55999755859375,
          80.79000091552734,
          79.58999633789062,
          82.44000244140625,
          83.54000091552734,
          82.22000122070312,
          79.29000091552734,
          79.2300033569336,
          78.8499984741211,
          78.0199966430664,
          79.13999938964844,
          91.66999816894531,
          98.41999816894531,
          93.97000122070312,
          92.95999908447266,
          98.77999877929688,
          98.83000183105469,
          101.86000061035156,
          101,
          99.91000366210938,
          100.98999786376953,
          103.06999969482422,
          102.08000183105469,
          106.73999786376953,
          110.33000183105469,
          111.75,
          111.19000244140625,
          108.87999725341797,
          108.45999908447266,
          105.23999786376953,
          102.63999938964844,
          108.27999877929688,
          123.83999633789062,
          126.19999694824219,
          126,
          136.1999969482422,
          136.0500030517578,
          134.60000610351562,
          137.0800018310547,
          139.64999389648438,
          138.35000610351562,
          137.19000244140625,
          135.9499969482422
         ],
         "low": [
          250.50999450683594,
          246.75999450683594,
          239.41000366210938,
          230.10000610351562,
          227.13999938964844,
          224.4499969482422,
          229.00999450683594,
          230.5500030517578,
          238.4199981689453,
          245.1699981689453,
          245.39999389648438,
          222.91000366210938,
          219.8300018310547,
          217.97000122070312,
          215.27999877929688,
          201.67999267578125,
          203.61000061035156,
          204.6699981689453,
          206.25,
          212.14999389648438,
          216.91000366210938,
          222.1999969482422,
          219.42999267578125,
          220.57000732421875,
          219.55999755859375,
          214.7899932861328,
          202.75999450683594,
          206.86000061035156,
          208.5,
          199.02999877929688,
          207.1699981689453,
          202.6699981689453,
          202.0399932861328,
          200.5,
          198.5,
          198.1300048828125,
          196.25,
          203.36000061035156,
          207.14999389648438,
          210,
          207.44000244140625,
          210.77000427246094,
          217.61000061035156,
          219.4600067138672,
          213.66000366210938,
          214.64999389648438,
          207.5399932861328,
          203.11000061035156,
          209.2100067138672,
          198.69000244140625,
          198.27999877929688,
          181.5500030517578,
          185.1999969482422,
          195.2899932861328,
          201.75,
          201.8300018310547,
          192.36000061035156,
          191.60000610351562,
          190.6199951171875,
          191.35000610351562,
          203.80999755859375,
          205.80999755859375,
          201.6300048828125,
          198.64999389648438,
          187.72999572753906,
          187.14999389648438,
          188.50999450683594,
          193.1199951171875,
          195.80999755859375,
          198.52000427246094,
          204.60000610351562,
          214.77999877929688,
          222.22999572753906,
          222.27999877929688,
          219.3000030517578,
          219.89999389648438,
          214.52999877929688,
          220.27000427246094,
          160.61000061035156,
          162.3699951171875,
          156.30999755859375,
          159.6999969482422,
          152.14999389648438,
          152.6300048828125,
          154.6300048828125,
          154.82000732421875,
          158.4499969482422,
          156.30999755859375,
          157.58999633789062,
          159.05999755859375,
          163.83999633789062,
          165.58999633789062,
          160.8000030517578,
          159.08999633789062,
          159.60000610351562,
          161.52000427246094,
          162.66000366210938,
          161.5399932861328,
          158.80999755859375,
          161.5500030517578,
          161.85000610351562,
          167.3000030517578,
          169.3000030517578,
          172.3000030517578,
          179.72999572753906,
          180.25,
          179.72999572753906,
          181.6699981689453,
          179.52999877929688,
          174.47999572753906,
          169.6300048828125,
          175.8000030517578,
          174.64999389648438,
          175.4600067138672,
          176.5800018310547,
          168.3000030517578,
          167.27999877929688,
          156.00999450683594,
          155.8699951171875,
          158.22999572753906,
          157.16000366210938,
          158.64999389648438,
          157.42999267578125,
          159.6999969482422,
          168.22999572753906,
          164.14999389648438,
          160.05999755859375,
          162.2899932861328,
          163.44000244140625,
          172.7100067138672,
          177.80999755859375,
          181.02999877929688,
          176.89999389648438,
          175.5,
          183.02999877929688,
          184.2899932861328,
          175.64999389648438,
          174.8300018310547,
          175.02999877929688,
          178.00999450683594,
          168.3300018310547,
          166.25,
          145.6699981689453,
          150.35000610351562,
          149.9199981689453,
          139.88999938964844,
          139.27999877929688,
          138.9600067138672,
          132.47999572753906,
          133.1199951171875,
          134.77000427246094,
          135.69000244140625,
          133.3000030517578,
          131.6699981689453,
          134.4499969482422,
          132.17999267578125,
          130.39999389648438,
          128.55999755859375,
          129.22000122070312,
          127.33999633789062,
          127.16999816894531,
          121.76000213623047,
          120.9000015258789,
          123.9000015258789,
          124.45999908447266,
          127.0199966430664,
          126.04000091552734,
          127.9800033569336,
          127.05999755859375,
          122.05000305175781,
          118.13999938964844,
          119.51000213623047,
          120.30000305175781,
          119.45999908447266,
          118.58999633789062,
          119.88999938964844,
          119.44000244140625,
          116.86000061035156,
          119.4000015258789,
          121.05000305175781,
          122.16999816894531,
          119.41000366210938,
          118.80000305175781,
          117.58999633789062,
          118.3499984741211,
          116.3499984741211,
          118.93000030517578,
          116.25,
          111.44000244140625,
          112.9000015258789,
          112.41999816894531,
          112.5,
          116.2699966430664,
          119.20999908447266,
          126.19999694824219,
          122.8499984741211,
          121.87999725341797,
          121.01000213623047,
          124.5199966430664,
          122.88999938964844,
          115.55999755859375,
          97.2699966430664,
          95.62000274658203,
          94.23999786376953,
          90.5999984741211,
          93.04000091552734,
          79.55000305175781,
          76.05999755859375,
          78.19000244140625,
          74.69999694824219,
          76.16999816894531,
          79,
          76.25,
          76.5199966430664,
          76.80000305175781,
          75.36000061035156,
          73.48999786376953,
          75.98999786376953,
          83,
          91.9800033569336,
          88.80000305175781,
          88.55000305175781,
          91.63999938964844,
          96.68000030517578,
          98.41000366210938,
          97.56999969482422,
          96.7300033569336,
          95.6500015258789,
          99.5999984741211,
          98.5999984741211,
          98.87999725341797,
          106.5,
          106.97000122070312,
          106.5,
          106.30000305175781,
          101.63999938964844,
          100.13999938964844,
          96.69000244140625,
          95.19999694824219,
          113.5199966430664,
          120.72000122070312,
          120.77999877929688,
          125.5,
          127.87000274658203,
          129.38999938964844,
          132.0399932861328,
          133.9600067138672,
          134.83999633789062,
          133.4499969482422,
          131.88999938964844
         ],
         "open": [
          269.1700134277344,
          252.4499969482422,
          248.5500030517578,
          240.82000732421875,
          236.36000061035156,
          227.36000061035156,
          229.22000122070312,
          240.86000061035156,
          238.4199981689453,
          249.0800018310547,
          255,
          245.89999389648438,
          224.75,
          223.5800018310547,
          222.5,
          207.1699981689453,
          213.89999389648438,
          206.64999389648438,
          208.42999267578125,
          212.1699981689453,
          221.25999450683594,
          232.6999969482422,
          220,
          224.1300048828125,
          225.8800048828125,
          246.89999389648438,
          221.7100067138672,
          208.91000366210938,
          212.8800048828125,
          208,
          208.8800048828125,
          212.5,
          202.64999389648438,
          203.69000244140625,
          202.47000122070312,
          207,
          199.4600067138672,
          205.47000122070312,
          209.82000732421875,
          212.2100067138672,
          209.33999633789062,
          213.36000061035156,
          218.57000732421875,
          225.1699981689453,
          222.72000122070312,
          219.17999267578125,
          217.07000732421875,
          209.1699981689453,
          216.58999633789062,
          209.97999572753906,
          204.9199981689453,
          200.6999969482422,
          189.58999633789062,
          196.92999267578125,
          209.64999389648438,
          207.1999969482422,
          202.35000610351562,
          199.36000061035156,
          196,
          196.75,
          209.44000244140625,
          206.02000427246094,
          213.97999572753906,
          202.88999938964844,
          200,
          191.42999267578125,
          189.08999633789062,
          195.89999389648438,
          199.89999389648438,
          200.00999450683594,
          209.77000427246094,
          215,
          225.42999267578125,
          225.05999755859375,
          220.5,
          223.75,
          223.61000061035156,
          222.41000366210938,
          178.6300048828125,
          166.52999877929688,
          163.32000732421875,
          164,
          158.72999572753906,
          153.41000366210938,
          158.8699951171875,
          157.58999633789062,
          161.6999969482422,
          161.00999450683594,
          158.97999572753906,
          159.39999389648438,
          163.86000061035156,
          167.7100067138672,
          167.35000610351562,
          161.3000030517578,
          163.27000427246094,
          165.35000610351562,
          162.8000030517578,
          162.3800048828125,
          160.25,
          165.36000061035156,
          165.66000366210938,
          167.72000122070312,
          173.85000610351562,
          174.25,
          187.8699951171875,
          183.63999938964844,
          180.55999755859375,
          184.0500030517578,
          182.10000610351562,
          182.77000427246094,
          172.8300018310547,
          179.99000549316406,
          179,
          177.35000610351562,
          183.2899932861328,
          181.89999389648438,
          171.8000030517578,
          164.83999633789062,
          159.72000122070312,
          159.17999267578125,
          160,
          160,
          162.30999755859375,
          162.33999633789062,
          169.58999633789062,
          169.32000732421875,
          163,
          162.52999877929688,
          166.1300048828125,
          175.47999572753906,
          178,
          186,
          183.2899932861328,
          178.11000061035156,
          189.6699981689453,
          186,
          178.6199951171875,
          178,
          178.97999572753906,
          178.47000122070312,
          170,
          175.14999389648438,
          150,
          154.25,
          150.4499969482422,
          145,
          140,
          140.75999450683594,
          140,
          133.77999877929688,
          136.6300048828125,
          139.0800018310547,
          134.39999389648438,
          134.00999450683594,
          138.1199951171875,
          132.75999450683594,
          132.30999755859375,
          129.25999450683594,
          130.6300048828125,
          130.8000030517578,
          128.7100067138672,
          130.97999572753906,
          121.94000244140625,
          125.69000244140625,
          125.41000366210938,
          129.52999877929688,
          128.0800018310547,
          128.99000549316406,
          127.30000305175781,
          127.20999908447266,
          121,
          122.11000061035156,
          122.30000305175781,
          120.41999816894531,
          123.30000305175781,
          121.25,
          121.5,
          119.1500015258789,
          119.5,
          122.27999877929688,
          124.22000122070312,
          126.37000274658203,
          119.18000030517578,
          119.73999786376953,
          120.12000274658203,
          120.9000015258789,
          121.69999694824219,
          119.19999694824219,
          115,
          114.76000213623047,
          116.98999786376953,
          113.9800033569336,
          117.30000305175781,
          119.83000183105469,
          127.36000061035156,
          127.45999908447266,
          123.87000274658203,
          121.30000305175781,
          125.23999786376953,
          128,
          121.76000213623047,
          99.55999755859375,
          98,
          96.33999633789062,
          94.05000305175781,
          94.61000061035156,
          82.19000244140625,
          82.0999984741211,
          79.19000244140625,
          79.20999908447266,
          76.88999938964844,
          81.61000061035156,
          81.44999694824219,
          78.08000183105469,
          78.83000183105469,
          77.47000122070312,
          75.0199966430664,
          77.19000244140625,
          83,
          92.9000015258789,
          92.23999786376953,
          91.80000305175781,
          93.55000305175781,
          98.12000274658203,
          99.31999969482422,
          99.8499984741211,
          99,
          97.11000061035156,
          101.47000122070312,
          102.08000183105469,
          100.16999816894531,
          106.5,
          107.86000061035156,
          111,
          107.9800033569336,
          107.37999725341797,
          100.61000061035156,
          102.61000061035156,
          95.80000305175781,
          113.81999969482422,
          125.81999969482422,
          121.31999969482422,
          126.55999755859375,
          134.60000610351562,
          130.8699951171875,
          135.8699951171875,
          134.55999755859375,
          138.02999877929688,
          134.9600067138672,
          134.22000122070312
         ],
         "type": "candlestick",
         "x": [
          "2023-01-03T00:00:00",
          "2023-01-04T00:00:00",
          "2023-01-05T00:00:00",
          "2023-01-06T00:00:00",
          "2023-01-09T00:00:00",
          "2023-01-10T00:00:00",
          "2023-01-11T00:00:00",
          "2023-01-12T00:00:00",
          "2023-01-13T00:00:00",
          "2023-01-17T00:00:00",
          "2023-01-18T00:00:00",
          "2023-01-19T00:00:00",
          "2023-01-20T00:00:00",
          "2023-01-23T00:00:00",
          "2023-01-24T00:00:00",
          "2023-01-25T00:00:00",
          "2023-01-26T00:00:00",
          "2023-01-27T00:00:00",
          "2023-01-30T00:00:00",
          "2023-01-31T00:00:00",
          "2023-02-01T00:00:00",
          "2023-02-02T00:00:00",
          "2023-02-03T00:00:00",
          "2023-02-06T00:00:00",
          "2023-02-07T00:00:00",
          "2023-02-08T00:00:00",
          "2023-02-09T00:00:00",
          "2023-02-10T00:00:00",
          "2023-02-13T00:00:00",
          "2023-02-14T00:00:00",
          "2023-02-15T00:00:00",
          "2023-02-16T00:00:00",
          "2023-02-17T00:00:00",
          "2023-02-21T00:00:00",
          "2023-02-22T00:00:00",
          "2023-02-23T00:00:00",
          "2023-02-24T00:00:00",
          "2023-02-27T00:00:00",
          "2023-02-28T00:00:00",
          "2023-03-01T00:00:00",
          "2023-03-02T00:00:00",
          "2023-03-03T00:00:00",
          "2023-03-06T00:00:00",
          "2023-03-07T00:00:00",
          "2023-03-08T00:00:00",
          "2023-03-09T00:00:00",
          "2023-03-10T00:00:00",
          "2023-03-13T00:00:00",
          "2023-03-14T00:00:00",
          "2023-03-15T00:00:00",
          "2023-03-16T00:00:00",
          "2023-03-17T00:00:00",
          "2023-03-20T00:00:00",
          "2023-03-21T00:00:00",
          "2023-03-22T00:00:00",
          "2023-03-23T00:00:00",
          "2023-03-24T00:00:00",
          "2023-03-27T00:00:00",
          "2023-03-28T00:00:00",
          "2023-03-29T00:00:00",
          "2023-03-30T00:00:00",
          "2023-03-31T00:00:00",
          "2023-04-03T00:00:00",
          "2023-04-04T00:00:00",
          "2023-04-05T00:00:00",
          "2023-04-06T00:00:00",
          "2023-04-10T00:00:00",
          "2023-04-11T00:00:00",
          "2023-04-12T00:00:00",
          "2023-04-13T00:00:00",
          "2023-04-14T00:00:00",
          "2023-04-17T00:00:00",
          "2023-04-18T00:00:00",
          "2023-04-19T00:00:00",
          "2023-04-20T00:00:00",
          "2023-04-21T00:00:00",
          "2023-04-24T00:00:00",
          "2023-04-25T00:00:00",
          "2023-04-26T00:00:00",
          "2023-04-27T00:00:00",
          "2023-04-28T00:00:00",
          "2023-05-01T00:00:00",
          "2023-05-02T00:00:00",
          "2023-05-03T00:00:00",
          "2023-05-04T00:00:00",
          "2023-05-05T00:00:00",
          "2023-05-08T00:00:00",
          "2023-05-09T00:00:00",
          "2023-05-10T00:00:00",
          "2023-05-11T00:00:00",
          "2023-05-12T00:00:00",
          "2023-05-15T00:00:00",
          "2023-05-16T00:00:00",
          "2023-05-17T00:00:00",
          "2023-05-18T00:00:00",
          "2023-05-19T00:00:00",
          "2023-05-22T00:00:00",
          "2023-05-23T00:00:00",
          "2023-05-24T00:00:00",
          "2023-05-25T00:00:00",
          "2023-05-26T00:00:00",
          "2023-05-30T00:00:00",
          "2023-05-31T00:00:00",
          "2023-06-01T00:00:00",
          "2023-06-02T00:00:00",
          "2023-06-05T00:00:00",
          "2023-06-06T00:00:00",
          "2023-06-07T00:00:00",
          "2023-06-08T00:00:00",
          "2023-06-09T00:00:00",
          "2023-06-12T00:00:00",
          "2023-06-13T00:00:00",
          "2023-06-14T00:00:00",
          "2023-06-15T00:00:00",
          "2023-06-16T00:00:00",
          "2023-06-20T00:00:00",
          "2023-06-21T00:00:00",
          "2023-06-22T00:00:00",
          "2023-06-23T00:00:00",
          "2023-06-26T00:00:00",
          "2023-06-27T00:00:00",
          "2023-06-28T00:00:00",
          "2023-06-29T00:00:00",
          "2023-06-30T00:00:00",
          "2023-07-03T00:00:00",
          "2023-07-05T00:00:00",
          "2023-07-06T00:00:00",
          "2023-07-07T00:00:00",
          "2023-07-10T00:00:00",
          "2023-07-11T00:00:00",
          "2023-07-12T00:00:00",
          "2023-07-13T00:00:00",
          "2023-07-14T00:00:00",
          "2023-07-17T00:00:00",
          "2023-07-18T00:00:00",
          "2023-07-19T00:00:00",
          "2023-07-20T00:00:00",
          "2023-07-21T00:00:00",
          "2023-07-24T00:00:00",
          "2023-07-25T00:00:00",
          "2023-07-26T00:00:00",
          "2023-07-27T00:00:00",
          "2023-07-28T00:00:00",
          "2023-07-31T00:00:00",
          "2023-08-01T00:00:00",
          "2023-08-02T00:00:00",
          "2023-08-03T00:00:00",
          "2023-08-04T00:00:00",
          "2023-08-07T00:00:00",
          "2023-08-08T00:00:00",
          "2023-08-09T00:00:00",
          "2023-08-10T00:00:00",
          "2023-08-11T00:00:00",
          "2023-08-14T00:00:00",
          "2023-08-15T00:00:00",
          "2023-08-16T00:00:00",
          "2023-08-17T00:00:00",
          "2023-08-18T00:00:00",
          "2023-08-21T00:00:00",
          "2023-08-22T00:00:00",
          "2023-08-23T00:00:00",
          "2023-08-24T00:00:00",
          "2023-08-25T00:00:00",
          "2023-08-28T00:00:00",
          "2023-08-29T00:00:00",
          "2023-08-30T00:00:00",
          "2023-08-31T00:00:00",
          "2023-09-01T00:00:00",
          "2023-09-05T00:00:00",
          "2023-09-06T00:00:00",
          "2023-09-07T00:00:00",
          "2023-09-08T00:00:00",
          "2023-09-11T00:00:00",
          "2023-09-12T00:00:00",
          "2023-09-13T00:00:00",
          "2023-09-14T00:00:00",
          "2023-09-15T00:00:00",
          "2023-09-18T00:00:00",
          "2023-09-19T00:00:00",
          "2023-09-20T00:00:00",
          "2023-09-21T00:00:00",
          "2023-09-22T00:00:00",
          "2023-09-25T00:00:00",
          "2023-09-26T00:00:00",
          "2023-09-27T00:00:00",
          "2023-09-28T00:00:00",
          "2023-09-29T00:00:00",
          "2023-10-02T00:00:00",
          "2023-10-03T00:00:00",
          "2023-10-04T00:00:00",
          "2023-10-05T00:00:00",
          "2023-10-06T00:00:00",
          "2023-10-09T00:00:00",
          "2023-10-10T00:00:00",
          "2023-10-11T00:00:00",
          "2023-10-12T00:00:00",
          "2023-10-13T00:00:00",
          "2023-10-16T00:00:00",
          "2023-10-17T00:00:00",
          "2023-10-18T00:00:00",
          "2023-10-19T00:00:00",
          "2023-10-20T00:00:00",
          "2023-10-23T00:00:00",
          "2023-10-24T00:00:00",
          "2023-10-25T00:00:00",
          "2023-10-26T00:00:00",
          "2023-10-27T00:00:00",
          "2023-10-30T00:00:00",
          "2023-10-31T00:00:00",
          "2023-11-01T00:00:00",
          "2023-11-02T00:00:00",
          "2023-11-03T00:00:00",
          "2023-11-06T00:00:00",
          "2023-11-07T00:00:00",
          "2023-11-08T00:00:00",
          "2023-11-09T00:00:00",
          "2023-11-10T00:00:00",
          "2023-11-13T00:00:00",
          "2023-11-14T00:00:00",
          "2023-11-15T00:00:00",
          "2023-11-16T00:00:00",
          "2023-11-17T00:00:00",
          "2023-11-20T00:00:00",
          "2023-11-21T00:00:00",
          "2023-11-22T00:00:00",
          "2023-11-24T00:00:00",
          "2023-11-27T00:00:00",
          "2023-11-28T00:00:00",
          "2023-11-29T00:00:00",
          "2023-11-30T00:00:00",
          "2023-12-01T00:00:00",
          "2023-12-04T00:00:00",
          "2023-12-05T00:00:00",
          "2023-12-06T00:00:00",
          "2023-12-07T00:00:00",
          "2023-12-08T00:00:00",
          "2023-12-11T00:00:00",
          "2023-12-12T00:00:00",
          "2023-12-13T00:00:00",
          "2023-12-14T00:00:00",
          "2023-12-15T00:00:00",
          "2023-12-18T00:00:00",
          "2023-12-19T00:00:00",
          "2023-12-20T00:00:00",
          "2023-12-21T00:00:00",
          "2023-12-22T00:00:00",
          "2023-12-26T00:00:00",
          "2023-12-27T00:00:00",
          "2023-12-28T00:00:00",
          "2023-12-29T00:00:00"
         ]
        }
       ],
       "layout": {
        "template": {
         "data": {
          "bar": [
           {
            "error_x": {
             "color": "#2a3f5f"
            },
            "error_y": {
             "color": "#2a3f5f"
            },
            "marker": {
             "line": {
              "color": "#E5ECF6",
              "width": 0.5
             },
             "pattern": {
              "fillmode": "overlay",
              "size": 10,
              "solidity": 0.2
             }
            },
            "type": "bar"
           }
          ],
          "barpolar": [
           {
            "marker": {
             "line": {
              "color": "#E5ECF6",
              "width": 0.5
             },
             "pattern": {
              "fillmode": "overlay",
              "size": 10,
              "solidity": 0.2
             }
            },
            "type": "barpolar"
           }
          ],
          "carpet": [
           {
            "aaxis": {
             "endlinecolor": "#2a3f5f",
             "gridcolor": "white",
             "linecolor": "white",
             "minorgridcolor": "white",
             "startlinecolor": "#2a3f5f"
            },
            "baxis": {
             "endlinecolor": "#2a3f5f",
             "gridcolor": "white",
             "linecolor": "white",
             "minorgridcolor": "white",
             "startlinecolor": "#2a3f5f"
            },
            "type": "carpet"
           }
          ],
          "choropleth": [
           {
            "colorbar": {
             "outlinewidth": 0,
             "ticks": ""
            },
            "type": "choropleth"
           }
          ],
          "contour": [
           {
            "colorbar": {
             "outlinewidth": 0,
             "ticks": ""
            },
            "colorscale": [
             [
              0,
              "#0d0887"
             ],
             [
              0.1111111111111111,
              "#46039f"
             ],
             [
              0.2222222222222222,
              "#7201a8"
             ],
             [
              0.3333333333333333,
              "#9c179e"
             ],
             [
              0.4444444444444444,
              "#bd3786"
             ],
             [
              0.5555555555555556,
              "#d8576b"
             ],
             [
              0.6666666666666666,
              "#ed7953"
             ],
             [
              0.7777777777777778,
              "#fb9f3a"
             ],
             [
              0.8888888888888888,
              "#fdca26"
             ],
             [
              1,
              "#f0f921"
             ]
            ],
            "type": "contour"
           }
          ],
          "contourcarpet": [
           {
            "colorbar": {
             "outlinewidth": 0,
             "ticks": ""
            },
            "type": "contourcarpet"
           }
          ],
          "heatmap": [
           {
            "colorbar": {
             "outlinewidth": 0,
             "ticks": ""
            },
            "colorscale": [
             [
              0,
              "#0d0887"
             ],
             [
              0.1111111111111111,
              "#46039f"
             ],
             [
              0.2222222222222222,
              "#7201a8"
             ],
             [
              0.3333333333333333,
              "#9c179e"
             ],
             [
              0.4444444444444444,
              "#bd3786"
             ],
             [
              0.5555555555555556,
              "#d8576b"
             ],
             [
              0.6666666666666666,
              "#ed7953"
             ],
             [
              0.7777777777777778,
              "#fb9f3a"
             ],
             [
              0.8888888888888888,
              "#fdca26"
             ],
             [
              1,
              "#f0f921"
             ]
            ],
            "type": "heatmap"
           }
          ],
          "heatmapgl": [
           {
            "colorbar": {
             "outlinewidth": 0,
             "ticks": ""
            },
            "colorscale": [
             [
              0,
              "#0d0887"
             ],
             [
              0.1111111111111111,
              "#46039f"
             ],
             [
              0.2222222222222222,
              "#7201a8"
             ],
             [
              0.3333333333333333,
              "#9c179e"
             ],
             [
              0.4444444444444444,
              "#bd3786"
             ],
             [
              0.5555555555555556,
              "#d8576b"
             ],
             [
              0.6666666666666666,
              "#ed7953"
             ],
             [
              0.7777777777777778,
              "#fb9f3a"
             ],
             [
              0.8888888888888888,
              "#fdca26"
             ],
             [
              1,
              "#f0f921"
             ]
            ],
            "type": "heatmapgl"
           }
          ],
          "histogram": [
           {
            "marker": {
             "pattern": {
              "fillmode": "overlay",
              "size": 10,
              "solidity": 0.2
             }
            },
            "type": "histogram"
           }
          ],
          "histogram2d": [
           {
            "colorbar": {
             "outlinewidth": 0,
             "ticks": ""
            },
            "colorscale": [
             [
              0,
              "#0d0887"
             ],
             [
              0.1111111111111111,
              "#46039f"
             ],
             [
              0.2222222222222222,
              "#7201a8"
             ],
             [
              0.3333333333333333,
              "#9c179e"
             ],
             [
              0.4444444444444444,
              "#bd3786"
             ],
             [
              0.5555555555555556,
              "#d8576b"
             ],
             [
              0.6666666666666666,
              "#ed7953"
             ],
             [
              0.7777777777777778,
              "#fb9f3a"
             ],
             [
              0.8888888888888888,
              "#fdca26"
             ],
             [
              1,
              "#f0f921"
             ]
            ],
            "type": "histogram2d"
           }
          ],
          "histogram2dcontour": [
           {
            "colorbar": {
             "outlinewidth": 0,
             "ticks": ""
            },
            "colorscale": [
             [
              0,
              "#0d0887"
             ],
             [
              0.1111111111111111,
              "#46039f"
             ],
             [
              0.2222222222222222,
              "#7201a8"
             ],
             [
              0.3333333333333333,
              "#9c179e"
             ],
             [
              0.4444444444444444,
              "#bd3786"
             ],
             [
              0.5555555555555556,
              "#d8576b"
             ],
             [
              0.6666666666666666,
              "#ed7953"
             ],
             [
              0.7777777777777778,
              "#fb9f3a"
             ],
             [
              0.8888888888888888,
              "#fdca26"
             ],
             [
              1,
              "#f0f921"
             ]
            ],
            "type": "histogram2dcontour"
           }
          ],
          "mesh3d": [
           {
            "colorbar": {
             "outlinewidth": 0,
             "ticks": ""
            },
            "type": "mesh3d"
           }
          ],
          "parcoords": [
           {
            "line": {
             "colorbar": {
              "outlinewidth": 0,
              "ticks": ""
             }
            },
            "type": "parcoords"
           }
          ],
          "pie": [
           {
            "automargin": true,
            "type": "pie"
           }
          ],
          "scatter": [
           {
            "marker": {
             "colorbar": {
              "outlinewidth": 0,
              "ticks": ""
             }
            },
            "type": "scatter"
           }
          ],
          "scatter3d": [
           {
            "line": {
             "colorbar": {
              "outlinewidth": 0,
              "ticks": ""
             }
            },
            "marker": {
             "colorbar": {
              "outlinewidth": 0,
              "ticks": ""
             }
            },
            "type": "scatter3d"
           }
          ],
          "scattercarpet": [
           {
            "marker": {
             "colorbar": {
              "outlinewidth": 0,
              "ticks": ""
             }
            },
            "type": "scattercarpet"
           }
          ],
          "scattergeo": [
           {
            "marker": {
             "colorbar": {
              "outlinewidth": 0,
              "ticks": ""
             }
            },
            "type": "scattergeo"
           }
          ],
          "scattergl": [
           {
            "marker": {
             "colorbar": {
              "outlinewidth": 0,
              "ticks": ""
             }
            },
            "type": "scattergl"
           }
          ],
          "scattermapbox": [
           {
            "marker": {
             "colorbar": {
              "outlinewidth": 0,
              "ticks": ""
             }
            },
            "type": "scattermapbox"
           }
          ],
          "scatterpolar": [
           {
            "marker": {
             "colorbar": {
              "outlinewidth": 0,
              "ticks": ""
             }
            },
            "type": "scatterpolar"
           }
          ],
          "scatterpolargl": [
           {
            "marker": {
             "colorbar": {
              "outlinewidth": 0,
              "ticks": ""
             }
            },
            "type": "scatterpolargl"
           }
          ],
          "scatterternary": [
           {
            "marker": {
             "colorbar": {
              "outlinewidth": 0,
              "ticks": ""
             }
            },
            "type": "scatterternary"
           }
          ],
          "surface": [
           {
            "colorbar": {
             "outlinewidth": 0,
             "ticks": ""
            },
            "colorscale": [
             [
              0,
              "#0d0887"
             ],
             [
              0.1111111111111111,
              "#46039f"
             ],
             [
              0.2222222222222222,
              "#7201a8"
             ],
             [
              0.3333333333333333,
              "#9c179e"
             ],
             [
              0.4444444444444444,
              "#bd3786"
             ],
             [
              0.5555555555555556,
              "#d8576b"
             ],
             [
              0.6666666666666666,
              "#ed7953"
             ],
             [
              0.7777777777777778,
              "#fb9f3a"
             ],
             [
              0.8888888888888888,
              "#fdca26"
             ],
             [
              1,
              "#f0f921"
             ]
            ],
            "type": "surface"
           }
          ],
          "table": [
           {
            "cells": {
             "fill": {
              "color": "#EBF0F8"
             },
             "line": {
              "color": "white"
             }
            },
            "header": {
             "fill": {
              "color": "#C8D4E3"
             },
             "line": {
              "color": "white"
             }
            },
            "type": "table"
           }
          ]
         },
         "layout": {
          "annotationdefaults": {
           "arrowcolor": "#2a3f5f",
           "arrowhead": 0,
           "arrowwidth": 1
          },
          "autotypenumbers": "strict",
          "coloraxis": {
           "colorbar": {
            "outlinewidth": 0,
            "ticks": ""
           }
          },
          "colorscale": {
           "diverging": [
            [
             0,
             "#8e0152"
            ],
            [
             0.1,
             "#c51b7d"
            ],
            [
             0.2,
             "#de77ae"
            ],
            [
             0.3,
             "#f1b6da"
            ],
            [
             0.4,
             "#fde0ef"
            ],
            [
             0.5,
             "#f7f7f7"
            ],
            [
             0.6,
             "#e6f5d0"
            ],
            [
             0.7,
             "#b8e186"
            ],
            [
             0.8,
             "#7fbc41"
            ],
            [
             0.9,
             "#4d9221"
            ],
            [
             1,
             "#276419"
            ]
           ],
           "sequential": [
            [
             0,
             "#0d0887"
            ],
            [
             0.1111111111111111,
             "#46039f"
            ],
            [
             0.2222222222222222,
             "#7201a8"
            ],
            [
             0.3333333333333333,
             "#9c179e"
            ],
            [
             0.4444444444444444,
             "#bd3786"
            ],
            [
             0.5555555555555556,
             "#d8576b"
            ],
            [
             0.6666666666666666,
             "#ed7953"
            ],
            [
             0.7777777777777778,
             "#fb9f3a"
            ],
            [
             0.8888888888888888,
             "#fdca26"
            ],
            [
             1,
             "#f0f921"
            ]
           ],
           "sequentialminus": [
            [
             0,
             "#0d0887"
            ],
            [
             0.1111111111111111,
             "#46039f"
            ],
            [
             0.2222222222222222,
             "#7201a8"
            ],
            [
             0.3333333333333333,
             "#9c179e"
            ],
            [
             0.4444444444444444,
             "#bd3786"
            ],
            [
             0.5555555555555556,
             "#d8576b"
            ],
            [
             0.6666666666666666,
             "#ed7953"
            ],
            [
             0.7777777777777778,
             "#fb9f3a"
            ],
            [
             0.8888888888888888,
             "#fdca26"
            ],
            [
             1,
             "#f0f921"
            ]
           ]
          },
          "colorway": [
           "#636efa",
           "#EF553B",
           "#00cc96",
           "#ab63fa",
           "#FFA15A",
           "#19d3f3",
           "#FF6692",
           "#B6E880",
           "#FF97FF",
           "#FECB52"
          ],
          "font": {
           "color": "#2a3f5f"
          },
          "geo": {
           "bgcolor": "white",
           "lakecolor": "white",
           "landcolor": "#E5ECF6",
           "showlakes": true,
           "showland": true,
           "subunitcolor": "white"
          },
          "hoverlabel": {
           "align": "left"
          },
          "hovermode": "closest",
          "mapbox": {
           "style": "light"
          },
          "paper_bgcolor": "white",
          "plot_bgcolor": "#E5ECF6",
          "polar": {
           "angularaxis": {
            "gridcolor": "white",
            "linecolor": "white",
            "ticks": ""
           },
           "bgcolor": "#E5ECF6",
           "radialaxis": {
            "gridcolor": "white",
            "linecolor": "white",
            "ticks": ""
           }
          },
          "scene": {
           "xaxis": {
            "backgroundcolor": "#E5ECF6",
            "gridcolor": "white",
            "gridwidth": 2,
            "linecolor": "white",
            "showbackground": true,
            "ticks": "",
            "zerolinecolor": "white"
           },
           "yaxis": {
            "backgroundcolor": "#E5ECF6",
            "gridcolor": "white",
            "gridwidth": 2,
            "linecolor": "white",
            "showbackground": true,
            "ticks": "",
            "zerolinecolor": "white"
           },
           "zaxis": {
            "backgroundcolor": "#E5ECF6",
            "gridcolor": "white",
            "gridwidth": 2,
            "linecolor": "white",
            "showbackground": true,
            "ticks": "",
            "zerolinecolor": "white"
           }
          },
          "shapedefaults": {
           "line": {
            "color": "#2a3f5f"
           }
          },
          "ternary": {
           "aaxis": {
            "gridcolor": "white",
            "linecolor": "white",
            "ticks": ""
           },
           "baxis": {
            "gridcolor": "white",
            "linecolor": "white",
            "ticks": ""
           },
           "bgcolor": "#E5ECF6",
           "caxis": {
            "gridcolor": "white",
            "linecolor": "white",
            "ticks": ""
           }
          },
          "title": {
           "x": 0.05
          },
          "xaxis": {
           "automargin": true,
           "gridcolor": "white",
           "linecolor": "white",
           "ticks": "",
           "title": {
            "standoff": 15
           },
           "zerolinecolor": "white",
           "zerolinewidth": 2
          },
          "yaxis": {
           "automargin": true,
           "gridcolor": "white",
           "linecolor": "white",
           "ticks": "",
           "title": {
            "standoff": 15
           },
           "zerolinecolor": "white",
           "zerolinewidth": 2
          }
         }
        },
        "title": {
         "text": "ENPH chart price"
        },
        "xaxis": {
         "rangeslider": {
          "visible": false
         }
        }
       }
      },
      "text/html": [
       "<div>                            <div id=\"2fe6cacd-00d3-45a9-b16d-b7a2f37574ba\" class=\"plotly-graph-div\" style=\"height:525px; width:100%;\"></div>            <script type=\"text/javascript\">                require([\"plotly\"], function(Plotly) {                    window.PLOTLYENV=window.PLOTLYENV || {};                                    if (document.getElementById(\"2fe6cacd-00d3-45a9-b16d-b7a2f37574ba\")) {                    Plotly.newPlot(                        \"2fe6cacd-00d3-45a9-b16d-b7a2f37574ba\",                        [{\"close\":[253.30999755859375,251.63999938964844,240.3699951171875,233.64999389648438,227.94000244140625,229.8300018310547,238.82000732421875,241.72000122070312,245.8300018310547,251.05999755859375,250.30999755859375,222.97000122070312,222.5399932861328,228.44000244140625,219.47000122070312,210.32000732421875,208.02000427246094,210.08999633789062,212.22000122070312,221.3800048828125,227.13999938964844,227.6999969482422,222.92999267578125,222.99000549316406,228.4600067138672,218.8699951171875,209.60000610351562,212.07000732421875,212.57000732421875,208.35000610351562,217.8699951171875,202.8000030517578,204.99000549316406,201.64999389648438,203.57000732421875,204.7100067138672,198.9600067138672,210.77999877929688,210.52999877929688,212.9499969482422,211.55999755859375,217.16000366210938,225.35000610351562,224.2100067138672,218.30999755859375,215.85000610351562,210.22000122070312,211.52999877929688,213.00999450683594,205.75999450683594,201.10000610351562,183.63999938964844,192.50999450683594,207.6300048828125,202.14999389648438,204.66000366210938,195.99000549316406,195.8300018310547,193.52000427246094,203.9499969482422,205.27000427246094,210.27999877929688,202.60000610351562,202.5399932861328,193.6699981689453,191.0,195.8000030517578,196.8800048828125,196.02999877929688,209.69000244140625,208.89999389648438,224.9199981689453,227.8699951171875,224.27000427246094,224.7899932861328,223.61000061035156,224.60000610351562,220.60000610351562,163.8300018310547,164.17999267578125,164.1999969482422,160.58999633789062,152.8800048828125,155.4199981689453,155.4199981689453,159.64999389648438,163.2899932861328,157.8300018310547,161.4199981689453,160.7899932861328,167.5500030517578,168.7100067138672,160.9600067138672,163.72999572753906,163.72000122070312,162.3699951171875,164.64999389648438,162.8300018310547,164.0500030517578,164.58999633789062,165.1999969482422,174.1199951171875,173.8800048828125,181.47000122070312,181.86000061035156,182.72999572753906,182.61000061035156,182.08999633789062,181.39999389648438,174.5800018310547,176.88999938964844,179.66000366210938,179.1999969482422,180.50999450683594,181.80999755859375,171.99000549316406,167.99000549316406,162.52999877929688,158.69000244140625,159.2100067138672,161.02999877929688,161.4199981689453,158.77000427246094,167.47999572753906,169.5500030517578,165.33999633789062,161.3800048828125,166.1699981689453,175.47000122070312,173.77999877929688,182.8000030517578,182.63999938964844,177.94000244140625,189.6699981689453,184.0500030517578,185.49000549316406,175.9199981689453,177.47999572753906,177.80999755859375,179.47000122070312,173.36000061035156,166.8000030517578,154.3300018310547,151.8300018310547,150.32000732421875,140.69000244140625,140.36000061035156,140.0,135.4499969482422,135.77000427246094,138.4600067138672,136.4600067138672,135.1999969482422,138.58999633789062,134.55999755859375,132.8800048828125,131.44000244140625,130.33999633789062,130.16000366210938,128.32000732421875,130.36000061035156,122.33999633789062,124.08999633789062,125.30000305175781,129.0500030517578,128.11000061035156,126.52999877929688,128.72999572753906,127.7699966430664,123.02999877929688,122.2300033569336,120.2300033569336,122.19000244140625,123.3499984741211,119.5999984741211,122.30999755859375,120.30000305175781,117.16000366210938,122.08999633789062,123.97000122070312,124.8499984741211,119.91999816894531,121.0999984741211,119.1500015258789,120.11000061035156,120.0199966430664,120.1500015258789,116.83999633789062,114.22000122070312,117.18000030517578,116.01000213623047,119.16000366210938,119.75,125.75,128.61000061035156,124.58000183105469,123.80999755859375,127.11000061035156,129.24000549316406,123.83999633789062,115.9000015258789,98.88999938964844,96.29000091552734,94.83999633789062,94.3499984741211,96.18000030517578,82.08999633789062,78.66000366210938,79.58000183105469,76.7300033569336,78.91999816894531,80.80999755859375,78.18000030517578,78.83000183105469,76.9000015258789,75.55999755859375,77.9800033569336,78.55000305175781,91.38999938964844,92.80999755859375,90.66999816894531,92.86000061035156,98.5,98.31999969482422,100.19999694824219,100.22000122070312,97.80000305175781,99.0999984741211,100.95999908447266,101.0199966430664,106.5199966430664,108.87000274658203,110.0,106.7699966430664,107.16999816894531,103.01000213623047,103.55000305175781,99.81999969482422,107.61000061035156,120.22000122070312,123.91999816894531,124.02999877929688,135.32000732421875,128.0,133.86000061035156,133.99000549316406,137.33999633789062,135.6300048828125,134.7899932861328,132.13999938964844],\"high\":[271.7200012207031,256.2200012207031,251.85000610351562,241.74000549316406,243.1699981689453,233.4499969482422,242.0,243.22000122070312,251.64999389648438,260.9800109863281,260.0,249.25,227.89999389648438,234.3300018310547,223.9499969482422,211.7100067138672,214.49000549316406,213.58999633789062,217.99000549316406,221.5800018310547,229.63999938964844,235.89999389648438,227.89999389648438,231.67999267578125,230.11000061035156,247.0,222.49000549316406,220.2899932861328,217.07000732421875,211.38999938964844,218.6199951171875,217.1199951171875,206.5800018310547,207.0,205.0,208.82000732421875,203.16000366210938,213.27999877929688,213.49000549316406,216.38999938964844,212.35000610351562,219.17999267578125,230.44000244140625,227.6699981689453,223.5800018310547,224.41000366210938,221.52000427246094,215.58999633789062,221.49000549316406,211.97000122070312,205.5800018310547,200.6999969482422,196.8800048828125,209.35000610351562,211.22000122070312,214.85000610351562,203.5500030517578,200.27000427246094,196.60000610351562,205.8000030517578,214.19000244140625,212.1300048828125,215.88999938964844,203.1999969482422,201.7100067138672,192.0,195.89999389648438,199.0399932861328,201.25999450683594,211.58999633789062,214.64999389648438,229.24000549316406,231.4199981689453,228.5,226.25999450683594,226.77000427246094,225.32000732421875,228.36000061035156,183.30999755859375,169.1199951171875,164.3000030517578,166.63999938964844,158.8800048828125,158.6300048828125,159.8800048828125,160.6999969482422,164.55999755859375,161.74000549316406,162.02999877929688,162.72000122070312,172.60000610351562,172.11000061035156,169.0,165.58999633789062,164.57000732421875,166.72000122070312,166.9499969482422,166.13999938964844,164.3300018310547,165.3699951171875,166.8800048828125,175.80999755859375,176.22000122070312,184.05999755859375,187.99000549316406,186.6999969482422,185.85000610351562,186.8000030517578,183.94000244140625,182.8000030517578,177.11000061035156,184.1999969482422,180.92999267578125,182.05999755859375,184.9199981689453,182.0,174.1699981689453,165.3000030517578,162.1699981689453,162.55999755859375,161.4199981689453,164.6999969482422,165.10000610351562,168.77000427246094,173.72000122070312,169.97999572753906,164.3300018310547,169.5,176.24000549316406,177.02000427246094,183.8699951171875,186.36000061035156,183.57000732421875,191.30999755859375,192.22000122070312,189.5,180.5399932861328,179.7100067138672,179.8699951171875,182.25999450683594,176.0,175.58999633789062,154.91000366210938,156.6699981689453,153.55999755859375,145.5,144.25,144.39999389648438,140.1199951171875,135.9499969482422,139.49000549316406,141.19000244140625,136.05999755859375,138.6199951171875,138.1199951171875,136.9499969482422,133.19000244140625,132.08999633789062,132.19000244140625,130.99000549316406,131.39999389648438,131.08999633789062,125.02999877929688,126.48999786376953,129.7899932861328,130.3000030517578,129.3800048828125,132.3300018310547,130.5,127.69000244140625,122.33999633789062,122.29000091552734,124.13999938964844,124.38999938964844,123.68000030517578,123.4000015258789,122.79000091552734,119.30000305175781,124.19000244140625,127.47000122070312,125.87999725341797,126.5,123.73999786376953,120.31999969482422,122.75,121.77999877929688,124.68000030517578,120.66000366210938,116.12999725341797,120.05999755859375,117.75,119.66999816894531,120.2300033569336,127.91999816894531,131.91000366210938,127.80999755859375,125.80000305175781,128.22999572753906,132.16000366210938,128.17999267578125,122.66999816894531,103.9800033569336,100.16999816894531,97.44999694824219,95.3499984741211,99.33000183105469,84.8499984741211,84.55999755859375,80.79000091552734,79.58999633789062,82.44000244140625,83.54000091552734,82.22000122070312,79.29000091552734,79.2300033569336,78.8499984741211,78.0199966430664,79.13999938964844,91.66999816894531,98.41999816894531,93.97000122070312,92.95999908447266,98.77999877929688,98.83000183105469,101.86000061035156,101.0,99.91000366210938,100.98999786376953,103.06999969482422,102.08000183105469,106.73999786376953,110.33000183105469,111.75,111.19000244140625,108.87999725341797,108.45999908447266,105.23999786376953,102.63999938964844,108.27999877929688,123.83999633789062,126.19999694824219,126.0,136.1999969482422,136.0500030517578,134.60000610351562,137.0800018310547,139.64999389648438,138.35000610351562,137.19000244140625,135.9499969482422],\"low\":[250.50999450683594,246.75999450683594,239.41000366210938,230.10000610351562,227.13999938964844,224.4499969482422,229.00999450683594,230.5500030517578,238.4199981689453,245.1699981689453,245.39999389648438,222.91000366210938,219.8300018310547,217.97000122070312,215.27999877929688,201.67999267578125,203.61000061035156,204.6699981689453,206.25,212.14999389648438,216.91000366210938,222.1999969482422,219.42999267578125,220.57000732421875,219.55999755859375,214.7899932861328,202.75999450683594,206.86000061035156,208.5,199.02999877929688,207.1699981689453,202.6699981689453,202.0399932861328,200.5,198.5,198.1300048828125,196.25,203.36000061035156,207.14999389648438,210.0,207.44000244140625,210.77000427246094,217.61000061035156,219.4600067138672,213.66000366210938,214.64999389648438,207.5399932861328,203.11000061035156,209.2100067138672,198.69000244140625,198.27999877929688,181.5500030517578,185.1999969482422,195.2899932861328,201.75,201.8300018310547,192.36000061035156,191.60000610351562,190.6199951171875,191.35000610351562,203.80999755859375,205.80999755859375,201.6300048828125,198.64999389648438,187.72999572753906,187.14999389648438,188.50999450683594,193.1199951171875,195.80999755859375,198.52000427246094,204.60000610351562,214.77999877929688,222.22999572753906,222.27999877929688,219.3000030517578,219.89999389648438,214.52999877929688,220.27000427246094,160.61000061035156,162.3699951171875,156.30999755859375,159.6999969482422,152.14999389648438,152.6300048828125,154.6300048828125,154.82000732421875,158.4499969482422,156.30999755859375,157.58999633789062,159.05999755859375,163.83999633789062,165.58999633789062,160.8000030517578,159.08999633789062,159.60000610351562,161.52000427246094,162.66000366210938,161.5399932861328,158.80999755859375,161.5500030517578,161.85000610351562,167.3000030517578,169.3000030517578,172.3000030517578,179.72999572753906,180.25,179.72999572753906,181.6699981689453,179.52999877929688,174.47999572753906,169.6300048828125,175.8000030517578,174.64999389648438,175.4600067138672,176.5800018310547,168.3000030517578,167.27999877929688,156.00999450683594,155.8699951171875,158.22999572753906,157.16000366210938,158.64999389648438,157.42999267578125,159.6999969482422,168.22999572753906,164.14999389648438,160.05999755859375,162.2899932861328,163.44000244140625,172.7100067138672,177.80999755859375,181.02999877929688,176.89999389648438,175.5,183.02999877929688,184.2899932861328,175.64999389648438,174.8300018310547,175.02999877929688,178.00999450683594,168.3300018310547,166.25,145.6699981689453,150.35000610351562,149.9199981689453,139.88999938964844,139.27999877929688,138.9600067138672,132.47999572753906,133.1199951171875,134.77000427246094,135.69000244140625,133.3000030517578,131.6699981689453,134.4499969482422,132.17999267578125,130.39999389648438,128.55999755859375,129.22000122070312,127.33999633789062,127.16999816894531,121.76000213623047,120.9000015258789,123.9000015258789,124.45999908447266,127.0199966430664,126.04000091552734,127.9800033569336,127.05999755859375,122.05000305175781,118.13999938964844,119.51000213623047,120.30000305175781,119.45999908447266,118.58999633789062,119.88999938964844,119.44000244140625,116.86000061035156,119.4000015258789,121.05000305175781,122.16999816894531,119.41000366210938,118.80000305175781,117.58999633789062,118.3499984741211,116.3499984741211,118.93000030517578,116.25,111.44000244140625,112.9000015258789,112.41999816894531,112.5,116.2699966430664,119.20999908447266,126.19999694824219,122.8499984741211,121.87999725341797,121.01000213623047,124.5199966430664,122.88999938964844,115.55999755859375,97.2699966430664,95.62000274658203,94.23999786376953,90.5999984741211,93.04000091552734,79.55000305175781,76.05999755859375,78.19000244140625,74.69999694824219,76.16999816894531,79.0,76.25,76.5199966430664,76.80000305175781,75.36000061035156,73.48999786376953,75.98999786376953,83.0,91.9800033569336,88.80000305175781,88.55000305175781,91.63999938964844,96.68000030517578,98.41000366210938,97.56999969482422,96.7300033569336,95.6500015258789,99.5999984741211,98.5999984741211,98.87999725341797,106.5,106.97000122070312,106.5,106.30000305175781,101.63999938964844,100.13999938964844,96.69000244140625,95.19999694824219,113.5199966430664,120.72000122070312,120.77999877929688,125.5,127.87000274658203,129.38999938964844,132.0399932861328,133.9600067138672,134.83999633789062,133.4499969482422,131.88999938964844],\"open\":[269.1700134277344,252.4499969482422,248.5500030517578,240.82000732421875,236.36000061035156,227.36000061035156,229.22000122070312,240.86000061035156,238.4199981689453,249.0800018310547,255.0,245.89999389648438,224.75,223.5800018310547,222.5,207.1699981689453,213.89999389648438,206.64999389648438,208.42999267578125,212.1699981689453,221.25999450683594,232.6999969482422,220.0,224.1300048828125,225.8800048828125,246.89999389648438,221.7100067138672,208.91000366210938,212.8800048828125,208.0,208.8800048828125,212.5,202.64999389648438,203.69000244140625,202.47000122070312,207.0,199.4600067138672,205.47000122070312,209.82000732421875,212.2100067138672,209.33999633789062,213.36000061035156,218.57000732421875,225.1699981689453,222.72000122070312,219.17999267578125,217.07000732421875,209.1699981689453,216.58999633789062,209.97999572753906,204.9199981689453,200.6999969482422,189.58999633789062,196.92999267578125,209.64999389648438,207.1999969482422,202.35000610351562,199.36000061035156,196.0,196.75,209.44000244140625,206.02000427246094,213.97999572753906,202.88999938964844,200.0,191.42999267578125,189.08999633789062,195.89999389648438,199.89999389648438,200.00999450683594,209.77000427246094,215.0,225.42999267578125,225.05999755859375,220.5,223.75,223.61000061035156,222.41000366210938,178.6300048828125,166.52999877929688,163.32000732421875,164.0,158.72999572753906,153.41000366210938,158.8699951171875,157.58999633789062,161.6999969482422,161.00999450683594,158.97999572753906,159.39999389648438,163.86000061035156,167.7100067138672,167.35000610351562,161.3000030517578,163.27000427246094,165.35000610351562,162.8000030517578,162.3800048828125,160.25,165.36000061035156,165.66000366210938,167.72000122070312,173.85000610351562,174.25,187.8699951171875,183.63999938964844,180.55999755859375,184.0500030517578,182.10000610351562,182.77000427246094,172.8300018310547,179.99000549316406,179.0,177.35000610351562,183.2899932861328,181.89999389648438,171.8000030517578,164.83999633789062,159.72000122070312,159.17999267578125,160.0,160.0,162.30999755859375,162.33999633789062,169.58999633789062,169.32000732421875,163.0,162.52999877929688,166.1300048828125,175.47999572753906,178.0,186.0,183.2899932861328,178.11000061035156,189.6699981689453,186.0,178.6199951171875,178.0,178.97999572753906,178.47000122070312,170.0,175.14999389648438,150.0,154.25,150.4499969482422,145.0,140.0,140.75999450683594,140.0,133.77999877929688,136.6300048828125,139.0800018310547,134.39999389648438,134.00999450683594,138.1199951171875,132.75999450683594,132.30999755859375,129.25999450683594,130.6300048828125,130.8000030517578,128.7100067138672,130.97999572753906,121.94000244140625,125.69000244140625,125.41000366210938,129.52999877929688,128.0800018310547,128.99000549316406,127.30000305175781,127.20999908447266,121.0,122.11000061035156,122.30000305175781,120.41999816894531,123.30000305175781,121.25,121.5,119.1500015258789,119.5,122.27999877929688,124.22000122070312,126.37000274658203,119.18000030517578,119.73999786376953,120.12000274658203,120.9000015258789,121.69999694824219,119.19999694824219,115.0,114.76000213623047,116.98999786376953,113.9800033569336,117.30000305175781,119.83000183105469,127.36000061035156,127.45999908447266,123.87000274658203,121.30000305175781,125.23999786376953,128.0,121.76000213623047,99.55999755859375,98.0,96.33999633789062,94.05000305175781,94.61000061035156,82.19000244140625,82.0999984741211,79.19000244140625,79.20999908447266,76.88999938964844,81.61000061035156,81.44999694824219,78.08000183105469,78.83000183105469,77.47000122070312,75.0199966430664,77.19000244140625,83.0,92.9000015258789,92.23999786376953,91.80000305175781,93.55000305175781,98.12000274658203,99.31999969482422,99.8499984741211,99.0,97.11000061035156,101.47000122070312,102.08000183105469,100.16999816894531,106.5,107.86000061035156,111.0,107.9800033569336,107.37999725341797,100.61000061035156,102.61000061035156,95.80000305175781,113.81999969482422,125.81999969482422,121.31999969482422,126.55999755859375,134.60000610351562,130.8699951171875,135.8699951171875,134.55999755859375,138.02999877929688,134.9600067138672,134.22000122070312],\"x\":[\"2023-01-03T00:00:00\",\"2023-01-04T00:00:00\",\"2023-01-05T00:00:00\",\"2023-01-06T00:00:00\",\"2023-01-09T00:00:00\",\"2023-01-10T00:00:00\",\"2023-01-11T00:00:00\",\"2023-01-12T00:00:00\",\"2023-01-13T00:00:00\",\"2023-01-17T00:00:00\",\"2023-01-18T00:00:00\",\"2023-01-19T00:00:00\",\"2023-01-20T00:00:00\",\"2023-01-23T00:00:00\",\"2023-01-24T00:00:00\",\"2023-01-25T00:00:00\",\"2023-01-26T00:00:00\",\"2023-01-27T00:00:00\",\"2023-01-30T00:00:00\",\"2023-01-31T00:00:00\",\"2023-02-01T00:00:00\",\"2023-02-02T00:00:00\",\"2023-02-03T00:00:00\",\"2023-02-06T00:00:00\",\"2023-02-07T00:00:00\",\"2023-02-08T00:00:00\",\"2023-02-09T00:00:00\",\"2023-02-10T00:00:00\",\"2023-02-13T00:00:00\",\"2023-02-14T00:00:00\",\"2023-02-15T00:00:00\",\"2023-02-16T00:00:00\",\"2023-02-17T00:00:00\",\"2023-02-21T00:00:00\",\"2023-02-22T00:00:00\",\"2023-02-23T00:00:00\",\"2023-02-24T00:00:00\",\"2023-02-27T00:00:00\",\"2023-02-28T00:00:00\",\"2023-03-01T00:00:00\",\"2023-03-02T00:00:00\",\"2023-03-03T00:00:00\",\"2023-03-06T00:00:00\",\"2023-03-07T00:00:00\",\"2023-03-08T00:00:00\",\"2023-03-09T00:00:00\",\"2023-03-10T00:00:00\",\"2023-03-13T00:00:00\",\"2023-03-14T00:00:00\",\"2023-03-15T00:00:00\",\"2023-03-16T00:00:00\",\"2023-03-17T00:00:00\",\"2023-03-20T00:00:00\",\"2023-03-21T00:00:00\",\"2023-03-22T00:00:00\",\"2023-03-23T00:00:00\",\"2023-03-24T00:00:00\",\"2023-03-27T00:00:00\",\"2023-03-28T00:00:00\",\"2023-03-29T00:00:00\",\"2023-03-30T00:00:00\",\"2023-03-31T00:00:00\",\"2023-04-03T00:00:00\",\"2023-04-04T00:00:00\",\"2023-04-05T00:00:00\",\"2023-04-06T00:00:00\",\"2023-04-10T00:00:00\",\"2023-04-11T00:00:00\",\"2023-04-12T00:00:00\",\"2023-04-13T00:00:00\",\"2023-04-14T00:00:00\",\"2023-04-17T00:00:00\",\"2023-04-18T00:00:00\",\"2023-04-19T00:00:00\",\"2023-04-20T00:00:00\",\"2023-04-21T00:00:00\",\"2023-04-24T00:00:00\",\"2023-04-25T00:00:00\",\"2023-04-26T00:00:00\",\"2023-04-27T00:00:00\",\"2023-04-28T00:00:00\",\"2023-05-01T00:00:00\",\"2023-05-02T00:00:00\",\"2023-05-03T00:00:00\",\"2023-05-04T00:00:00\",\"2023-05-05T00:00:00\",\"2023-05-08T00:00:00\",\"2023-05-09T00:00:00\",\"2023-05-10T00:00:00\",\"2023-05-11T00:00:00\",\"2023-05-12T00:00:00\",\"2023-05-15T00:00:00\",\"2023-05-16T00:00:00\",\"2023-05-17T00:00:00\",\"2023-05-18T00:00:00\",\"2023-05-19T00:00:00\",\"2023-05-22T00:00:00\",\"2023-05-23T00:00:00\",\"2023-05-24T00:00:00\",\"2023-05-25T00:00:00\",\"2023-05-26T00:00:00\",\"2023-05-30T00:00:00\",\"2023-05-31T00:00:00\",\"2023-06-01T00:00:00\",\"2023-06-02T00:00:00\",\"2023-06-05T00:00:00\",\"2023-06-06T00:00:00\",\"2023-06-07T00:00:00\",\"2023-06-08T00:00:00\",\"2023-06-09T00:00:00\",\"2023-06-12T00:00:00\",\"2023-06-13T00:00:00\",\"2023-06-14T00:00:00\",\"2023-06-15T00:00:00\",\"2023-06-16T00:00:00\",\"2023-06-20T00:00:00\",\"2023-06-21T00:00:00\",\"2023-06-22T00:00:00\",\"2023-06-23T00:00:00\",\"2023-06-26T00:00:00\",\"2023-06-27T00:00:00\",\"2023-06-28T00:00:00\",\"2023-06-29T00:00:00\",\"2023-06-30T00:00:00\",\"2023-07-03T00:00:00\",\"2023-07-05T00:00:00\",\"2023-07-06T00:00:00\",\"2023-07-07T00:00:00\",\"2023-07-10T00:00:00\",\"2023-07-11T00:00:00\",\"2023-07-12T00:00:00\",\"2023-07-13T00:00:00\",\"2023-07-14T00:00:00\",\"2023-07-17T00:00:00\",\"2023-07-18T00:00:00\",\"2023-07-19T00:00:00\",\"2023-07-20T00:00:00\",\"2023-07-21T00:00:00\",\"2023-07-24T00:00:00\",\"2023-07-25T00:00:00\",\"2023-07-26T00:00:00\",\"2023-07-27T00:00:00\",\"2023-07-28T00:00:00\",\"2023-07-31T00:00:00\",\"2023-08-01T00:00:00\",\"2023-08-02T00:00:00\",\"2023-08-03T00:00:00\",\"2023-08-04T00:00:00\",\"2023-08-07T00:00:00\",\"2023-08-08T00:00:00\",\"2023-08-09T00:00:00\",\"2023-08-10T00:00:00\",\"2023-08-11T00:00:00\",\"2023-08-14T00:00:00\",\"2023-08-15T00:00:00\",\"2023-08-16T00:00:00\",\"2023-08-17T00:00:00\",\"2023-08-18T00:00:00\",\"2023-08-21T00:00:00\",\"2023-08-22T00:00:00\",\"2023-08-23T00:00:00\",\"2023-08-24T00:00:00\",\"2023-08-25T00:00:00\",\"2023-08-28T00:00:00\",\"2023-08-29T00:00:00\",\"2023-08-30T00:00:00\",\"2023-08-31T00:00:00\",\"2023-09-01T00:00:00\",\"2023-09-05T00:00:00\",\"2023-09-06T00:00:00\",\"2023-09-07T00:00:00\",\"2023-09-08T00:00:00\",\"2023-09-11T00:00:00\",\"2023-09-12T00:00:00\",\"2023-09-13T00:00:00\",\"2023-09-14T00:00:00\",\"2023-09-15T00:00:00\",\"2023-09-18T00:00:00\",\"2023-09-19T00:00:00\",\"2023-09-20T00:00:00\",\"2023-09-21T00:00:00\",\"2023-09-22T00:00:00\",\"2023-09-25T00:00:00\",\"2023-09-26T00:00:00\",\"2023-09-27T00:00:00\",\"2023-09-28T00:00:00\",\"2023-09-29T00:00:00\",\"2023-10-02T00:00:00\",\"2023-10-03T00:00:00\",\"2023-10-04T00:00:00\",\"2023-10-05T00:00:00\",\"2023-10-06T00:00:00\",\"2023-10-09T00:00:00\",\"2023-10-10T00:00:00\",\"2023-10-11T00:00:00\",\"2023-10-12T00:00:00\",\"2023-10-13T00:00:00\",\"2023-10-16T00:00:00\",\"2023-10-17T00:00:00\",\"2023-10-18T00:00:00\",\"2023-10-19T00:00:00\",\"2023-10-20T00:00:00\",\"2023-10-23T00:00:00\",\"2023-10-24T00:00:00\",\"2023-10-25T00:00:00\",\"2023-10-26T00:00:00\",\"2023-10-27T00:00:00\",\"2023-10-30T00:00:00\",\"2023-10-31T00:00:00\",\"2023-11-01T00:00:00\",\"2023-11-02T00:00:00\",\"2023-11-03T00:00:00\",\"2023-11-06T00:00:00\",\"2023-11-07T00:00:00\",\"2023-11-08T00:00:00\",\"2023-11-09T00:00:00\",\"2023-11-10T00:00:00\",\"2023-11-13T00:00:00\",\"2023-11-14T00:00:00\",\"2023-11-15T00:00:00\",\"2023-11-16T00:00:00\",\"2023-11-17T00:00:00\",\"2023-11-20T00:00:00\",\"2023-11-21T00:00:00\",\"2023-11-22T00:00:00\",\"2023-11-24T00:00:00\",\"2023-11-27T00:00:00\",\"2023-11-28T00:00:00\",\"2023-11-29T00:00:00\",\"2023-11-30T00:00:00\",\"2023-12-01T00:00:00\",\"2023-12-04T00:00:00\",\"2023-12-05T00:00:00\",\"2023-12-06T00:00:00\",\"2023-12-07T00:00:00\",\"2023-12-08T00:00:00\",\"2023-12-11T00:00:00\",\"2023-12-12T00:00:00\",\"2023-12-13T00:00:00\",\"2023-12-14T00:00:00\",\"2023-12-15T00:00:00\",\"2023-12-18T00:00:00\",\"2023-12-19T00:00:00\",\"2023-12-20T00:00:00\",\"2023-12-21T00:00:00\",\"2023-12-22T00:00:00\",\"2023-12-26T00:00:00\",\"2023-12-27T00:00:00\",\"2023-12-28T00:00:00\",\"2023-12-29T00:00:00\"],\"type\":\"candlestick\"}],                        {\"template\":{\"data\":{\"bar\":[{\"error_x\":{\"color\":\"#2a3f5f\"},\"error_y\":{\"color\":\"#2a3f5f\"},\"marker\":{\"line\":{\"color\":\"#E5ECF6\",\"width\":0.5},\"pattern\":{\"fillmode\":\"overlay\",\"size\":10,\"solidity\":0.2}},\"type\":\"bar\"}],\"barpolar\":[{\"marker\":{\"line\":{\"color\":\"#E5ECF6\",\"width\":0.5},\"pattern\":{\"fillmode\":\"overlay\",\"size\":10,\"solidity\":0.2}},\"type\":\"barpolar\"}],\"carpet\":[{\"aaxis\":{\"endlinecolor\":\"#2a3f5f\",\"gridcolor\":\"white\",\"linecolor\":\"white\",\"minorgridcolor\":\"white\",\"startlinecolor\":\"#2a3f5f\"},\"baxis\":{\"endlinecolor\":\"#2a3f5f\",\"gridcolor\":\"white\",\"linecolor\":\"white\",\"minorgridcolor\":\"white\",\"startlinecolor\":\"#2a3f5f\"},\"type\":\"carpet\"}],\"choropleth\":[{\"colorbar\":{\"outlinewidth\":0,\"ticks\":\"\"},\"type\":\"choropleth\"}],\"contour\":[{\"colorbar\":{\"outlinewidth\":0,\"ticks\":\"\"},\"colorscale\":[[0.0,\"#0d0887\"],[0.1111111111111111,\"#46039f\"],[0.2222222222222222,\"#7201a8\"],[0.3333333333333333,\"#9c179e\"],[0.4444444444444444,\"#bd3786\"],[0.5555555555555556,\"#d8576b\"],[0.6666666666666666,\"#ed7953\"],[0.7777777777777778,\"#fb9f3a\"],[0.8888888888888888,\"#fdca26\"],[1.0,\"#f0f921\"]],\"type\":\"contour\"}],\"contourcarpet\":[{\"colorbar\":{\"outlinewidth\":0,\"ticks\":\"\"},\"type\":\"contourcarpet\"}],\"heatmap\":[{\"colorbar\":{\"outlinewidth\":0,\"ticks\":\"\"},\"colorscale\":[[0.0,\"#0d0887\"],[0.1111111111111111,\"#46039f\"],[0.2222222222222222,\"#7201a8\"],[0.3333333333333333,\"#9c179e\"],[0.4444444444444444,\"#bd3786\"],[0.5555555555555556,\"#d8576b\"],[0.6666666666666666,\"#ed7953\"],[0.7777777777777778,\"#fb9f3a\"],[0.8888888888888888,\"#fdca26\"],[1.0,\"#f0f921\"]],\"type\":\"heatmap\"}],\"heatmapgl\":[{\"colorbar\":{\"outlinewidth\":0,\"ticks\":\"\"},\"colorscale\":[[0.0,\"#0d0887\"],[0.1111111111111111,\"#46039f\"],[0.2222222222222222,\"#7201a8\"],[0.3333333333333333,\"#9c179e\"],[0.4444444444444444,\"#bd3786\"],[0.5555555555555556,\"#d8576b\"],[0.6666666666666666,\"#ed7953\"],[0.7777777777777778,\"#fb9f3a\"],[0.8888888888888888,\"#fdca26\"],[1.0,\"#f0f921\"]],\"type\":\"heatmapgl\"}],\"histogram\":[{\"marker\":{\"pattern\":{\"fillmode\":\"overlay\",\"size\":10,\"solidity\":0.2}},\"type\":\"histogram\"}],\"histogram2d\":[{\"colorbar\":{\"outlinewidth\":0,\"ticks\":\"\"},\"colorscale\":[[0.0,\"#0d0887\"],[0.1111111111111111,\"#46039f\"],[0.2222222222222222,\"#7201a8\"],[0.3333333333333333,\"#9c179e\"],[0.4444444444444444,\"#bd3786\"],[0.5555555555555556,\"#d8576b\"],[0.6666666666666666,\"#ed7953\"],[0.7777777777777778,\"#fb9f3a\"],[0.8888888888888888,\"#fdca26\"],[1.0,\"#f0f921\"]],\"type\":\"histogram2d\"}],\"histogram2dcontour\":[{\"colorbar\":{\"outlinewidth\":0,\"ticks\":\"\"},\"colorscale\":[[0.0,\"#0d0887\"],[0.1111111111111111,\"#46039f\"],[0.2222222222222222,\"#7201a8\"],[0.3333333333333333,\"#9c179e\"],[0.4444444444444444,\"#bd3786\"],[0.5555555555555556,\"#d8576b\"],[0.6666666666666666,\"#ed7953\"],[0.7777777777777778,\"#fb9f3a\"],[0.8888888888888888,\"#fdca26\"],[1.0,\"#f0f921\"]],\"type\":\"histogram2dcontour\"}],\"mesh3d\":[{\"colorbar\":{\"outlinewidth\":0,\"ticks\":\"\"},\"type\":\"mesh3d\"}],\"parcoords\":[{\"line\":{\"colorbar\":{\"outlinewidth\":0,\"ticks\":\"\"}},\"type\":\"parcoords\"}],\"pie\":[{\"automargin\":true,\"type\":\"pie\"}],\"scatter\":[{\"marker\":{\"colorbar\":{\"outlinewidth\":0,\"ticks\":\"\"}},\"type\":\"scatter\"}],\"scatter3d\":[{\"line\":{\"colorbar\":{\"outlinewidth\":0,\"ticks\":\"\"}},\"marker\":{\"colorbar\":{\"outlinewidth\":0,\"ticks\":\"\"}},\"type\":\"scatter3d\"}],\"scattercarpet\":[{\"marker\":{\"colorbar\":{\"outlinewidth\":0,\"ticks\":\"\"}},\"type\":\"scattercarpet\"}],\"scattergeo\":[{\"marker\":{\"colorbar\":{\"outlinewidth\":0,\"ticks\":\"\"}},\"type\":\"scattergeo\"}],\"scattergl\":[{\"marker\":{\"colorbar\":{\"outlinewidth\":0,\"ticks\":\"\"}},\"type\":\"scattergl\"}],\"scattermapbox\":[{\"marker\":{\"colorbar\":{\"outlinewidth\":0,\"ticks\":\"\"}},\"type\":\"scattermapbox\"}],\"scatterpolar\":[{\"marker\":{\"colorbar\":{\"outlinewidth\":0,\"ticks\":\"\"}},\"type\":\"scatterpolar\"}],\"scatterpolargl\":[{\"marker\":{\"colorbar\":{\"outlinewidth\":0,\"ticks\":\"\"}},\"type\":\"scatterpolargl\"}],\"scatterternary\":[{\"marker\":{\"colorbar\":{\"outlinewidth\":0,\"ticks\":\"\"}},\"type\":\"scatterternary\"}],\"surface\":[{\"colorbar\":{\"outlinewidth\":0,\"ticks\":\"\"},\"colorscale\":[[0.0,\"#0d0887\"],[0.1111111111111111,\"#46039f\"],[0.2222222222222222,\"#7201a8\"],[0.3333333333333333,\"#9c179e\"],[0.4444444444444444,\"#bd3786\"],[0.5555555555555556,\"#d8576b\"],[0.6666666666666666,\"#ed7953\"],[0.7777777777777778,\"#fb9f3a\"],[0.8888888888888888,\"#fdca26\"],[1.0,\"#f0f921\"]],\"type\":\"surface\"}],\"table\":[{\"cells\":{\"fill\":{\"color\":\"#EBF0F8\"},\"line\":{\"color\":\"white\"}},\"header\":{\"fill\":{\"color\":\"#C8D4E3\"},\"line\":{\"color\":\"white\"}},\"type\":\"table\"}]},\"layout\":{\"annotationdefaults\":{\"arrowcolor\":\"#2a3f5f\",\"arrowhead\":0,\"arrowwidth\":1},\"autotypenumbers\":\"strict\",\"coloraxis\":{\"colorbar\":{\"outlinewidth\":0,\"ticks\":\"\"}},\"colorscale\":{\"diverging\":[[0,\"#8e0152\"],[0.1,\"#c51b7d\"],[0.2,\"#de77ae\"],[0.3,\"#f1b6da\"],[0.4,\"#fde0ef\"],[0.5,\"#f7f7f7\"],[0.6,\"#e6f5d0\"],[0.7,\"#b8e186\"],[0.8,\"#7fbc41\"],[0.9,\"#4d9221\"],[1,\"#276419\"]],\"sequential\":[[0.0,\"#0d0887\"],[0.1111111111111111,\"#46039f\"],[0.2222222222222222,\"#7201a8\"],[0.3333333333333333,\"#9c179e\"],[0.4444444444444444,\"#bd3786\"],[0.5555555555555556,\"#d8576b\"],[0.6666666666666666,\"#ed7953\"],[0.7777777777777778,\"#fb9f3a\"],[0.8888888888888888,\"#fdca26\"],[1.0,\"#f0f921\"]],\"sequentialminus\":[[0.0,\"#0d0887\"],[0.1111111111111111,\"#46039f\"],[0.2222222222222222,\"#7201a8\"],[0.3333333333333333,\"#9c179e\"],[0.4444444444444444,\"#bd3786\"],[0.5555555555555556,\"#d8576b\"],[0.6666666666666666,\"#ed7953\"],[0.7777777777777778,\"#fb9f3a\"],[0.8888888888888888,\"#fdca26\"],[1.0,\"#f0f921\"]]},\"colorway\":[\"#636efa\",\"#EF553B\",\"#00cc96\",\"#ab63fa\",\"#FFA15A\",\"#19d3f3\",\"#FF6692\",\"#B6E880\",\"#FF97FF\",\"#FECB52\"],\"font\":{\"color\":\"#2a3f5f\"},\"geo\":{\"bgcolor\":\"white\",\"lakecolor\":\"white\",\"landcolor\":\"#E5ECF6\",\"showlakes\":true,\"showland\":true,\"subunitcolor\":\"white\"},\"hoverlabel\":{\"align\":\"left\"},\"hovermode\":\"closest\",\"mapbox\":{\"style\":\"light\"},\"paper_bgcolor\":\"white\",\"plot_bgcolor\":\"#E5ECF6\",\"polar\":{\"angularaxis\":{\"gridcolor\":\"white\",\"linecolor\":\"white\",\"ticks\":\"\"},\"bgcolor\":\"#E5ECF6\",\"radialaxis\":{\"gridcolor\":\"white\",\"linecolor\":\"white\",\"ticks\":\"\"}},\"scene\":{\"xaxis\":{\"backgroundcolor\":\"#E5ECF6\",\"gridcolor\":\"white\",\"gridwidth\":2,\"linecolor\":\"white\",\"showbackground\":true,\"ticks\":\"\",\"zerolinecolor\":\"white\"},\"yaxis\":{\"backgroundcolor\":\"#E5ECF6\",\"gridcolor\":\"white\",\"gridwidth\":2,\"linecolor\":\"white\",\"showbackground\":true,\"ticks\":\"\",\"zerolinecolor\":\"white\"},\"zaxis\":{\"backgroundcolor\":\"#E5ECF6\",\"gridcolor\":\"white\",\"gridwidth\":2,\"linecolor\":\"white\",\"showbackground\":true,\"ticks\":\"\",\"zerolinecolor\":\"white\"}},\"shapedefaults\":{\"line\":{\"color\":\"#2a3f5f\"}},\"ternary\":{\"aaxis\":{\"gridcolor\":\"white\",\"linecolor\":\"white\",\"ticks\":\"\"},\"baxis\":{\"gridcolor\":\"white\",\"linecolor\":\"white\",\"ticks\":\"\"},\"bgcolor\":\"#E5ECF6\",\"caxis\":{\"gridcolor\":\"white\",\"linecolor\":\"white\",\"ticks\":\"\"}},\"title\":{\"x\":0.05},\"xaxis\":{\"automargin\":true,\"gridcolor\":\"white\",\"linecolor\":\"white\",\"ticks\":\"\",\"title\":{\"standoff\":15},\"zerolinecolor\":\"white\",\"zerolinewidth\":2},\"yaxis\":{\"automargin\":true,\"gridcolor\":\"white\",\"linecolor\":\"white\",\"ticks\":\"\",\"title\":{\"standoff\":15},\"zerolinecolor\":\"white\",\"zerolinewidth\":2}}},\"xaxis\":{\"rangeslider\":{\"visible\":false}},\"title\":{\"text\":\"ENPH chart price\"}},                        {\"responsive\": true}                    ).then(function(){\n",
       "                            \n",
       "var gd = document.getElementById('2fe6cacd-00d3-45a9-b16d-b7a2f37574ba');\n",
       "var x = new MutationObserver(function (mutations, observer) {{\n",
       "        var display = window.getComputedStyle(gd).display;\n",
       "        if (!display || display === 'none') {{\n",
       "            console.log([gd, 'removed!']);\n",
       "            Plotly.purge(gd);\n",
       "            observer.disconnect();\n",
       "        }}\n",
       "}});\n",
       "\n",
       "// Listen for the removal of the full notebook cells\n",
       "var notebookContainer = gd.closest('#notebook-container');\n",
       "if (notebookContainer) {{\n",
       "    x.observe(notebookContainer, {childList: true});\n",
       "}}\n",
       "\n",
       "// Listen for the clearing of the current output cell\n",
       "var outputEl = gd.closest('.output');\n",
       "if (outputEl) {{\n",
       "    x.observe(outputEl, {childList: true});\n",
       "}}\n",
       "\n",
       "                        })                };                });            </script>        </div>"
      ]
     },
     "metadata": {},
     "output_type": "display_data"
    }
   ],
   "source": [
    "draw_graph(df, 'ENPH')"
   ]
  },
  {
   "cell_type": "markdown",
   "id": "6f0104dd",
   "metadata": {},
   "source": [
    "Next, let's examine the data for outliers. Box plot provide a visual representation of the central tendency, dispersion of the data, presence of outliers, and distribution structure for each numerical feature in the data"
   ]
  },
  {
   "cell_type": "code",
   "execution_count": 80,
   "id": "48f022cb",
   "metadata": {
    "scrolled": false
   },
   "outputs": [
    {
     "data": {
      "image/png": "[encoded data removed]",
      "text/plain": [
       "<Figure size 720x504 with 4 Axes>"
      ]
     },
     "metadata": {},
     "output_type": "display_data"
    }
   ],
   "source": [
    "numerical = ['Returns %', 'Std', 'Range', 'Volume']\n",
    "fig, axes = plt.subplots(nrows=2, ncols=2, figsize=(10, 7))\n",
    "for idx, feat in enumerate(numerical):\n",
    "    ax = axes[int(idx / 2), idx % 2]\n",
    "    sns.boxplot(x = feat,data=df2, ax=ax)\n",
    "    ax.set_xlabel(\"\")\n",
    "    ax.set_ylabel(feat)\n",
    "    fig.tight_layout()"
   ]
  },
  {
   "cell_type": "markdown",
   "id": "eafeca74",
   "metadata": {},
   "source": [
    "### Feaure Scaling"
   ]
  },
  {
   "cell_type": "markdown",
   "id": "a65c28a5",
   "metadata": {},
   "source": [
    "Feature scaling is an important step when using clustering algorithms, since they are sensitive to outliers, this process helps improve the performance of the algorithms and ensure that all features are weighted equally.\n",
    "\n",
    "I am using **Min Max Scaler**. This method scales the data so that it falls into the interval [0, 1]"
   ]
  },
  {
   "cell_type": "code",
   "execution_count": 81,
   "id": "267fc0fb",
   "metadata": {},
   "outputs": [
    {
     "data": {
      "text/html": [
       "<div>\n",
       "<style scoped>\n",
       "    .dataframe tbody tr th:only-of-type {\n",
       "        vertical-align: middle;\n",
       "    }\n",
       "\n",
       "    .dataframe tbody tr th {\n",
       "        vertical-align: top;\n",
       "    }\n",
       "\n",
       "    .dataframe thead th {\n",
       "        text-align: right;\n",
       "    }\n",
       "</style>\n",
       "<table border=\"1\" class=\"dataframe\">\n",
       "  <thead>\n",
       "    <tr style=\"text-align: right;\">\n",
       "      <th></th>\n",
       "      <th>Returns %</th>\n",
       "      <th>Std</th>\n",
       "      <th>Range</th>\n",
       "      <th>Volume</th>\n",
       "    </tr>\n",
       "  </thead>\n",
       "  <tbody>\n",
       "    <tr>\n",
       "      <th>count</th>\n",
       "      <td>501.000000</td>\n",
       "      <td>501.000000</td>\n",
       "      <td>501.000000</td>\n",
       "      <td>501.000000</td>\n",
       "    </tr>\n",
       "    <tr>\n",
       "      <th>mean</th>\n",
       "      <td>0.222685</td>\n",
       "      <td>0.032139</td>\n",
       "      <td>0.029582</td>\n",
       "      <td>0.035056</td>\n",
       "    </tr>\n",
       "    <tr>\n",
       "      <th>std</th>\n",
       "      <td>0.111817</td>\n",
       "      <td>0.066711</td>\n",
       "      <td>0.058032</td>\n",
       "      <td>0.071426</td>\n",
       "    </tr>\n",
       "    <tr>\n",
       "      <th>min</th>\n",
       "      <td>0.000000</td>\n",
       "      <td>0.000000</td>\n",
       "      <td>0.000000</td>\n",
       "      <td>0.000000</td>\n",
       "    </tr>\n",
       "    <tr>\n",
       "      <th>25%</th>\n",
       "      <td>0.155477</td>\n",
       "      <td>0.007728</td>\n",
       "      <td>0.008583</td>\n",
       "      <td>0.008262</td>\n",
       "    </tr>\n",
       "    <tr>\n",
       "      <th>50%</th>\n",
       "      <td>0.201413</td>\n",
       "      <td>0.015124</td>\n",
       "      <td>0.017247</td>\n",
       "      <td>0.015675</td>\n",
       "    </tr>\n",
       "    <tr>\n",
       "      <th>75%</th>\n",
       "      <td>0.265018</td>\n",
       "      <td>0.031265</td>\n",
       "      <td>0.031470</td>\n",
       "      <td>0.033128</td>\n",
       "    </tr>\n",
       "    <tr>\n",
       "      <th>max</th>\n",
       "      <td>1.000000</td>\n",
       "      <td>1.000000</td>\n",
       "      <td>1.000000</td>\n",
       "      <td>1.000000</td>\n",
       "    </tr>\n",
       "  </tbody>\n",
       "</table>\n",
       "</div>"
      ],
      "text/plain": [
       "        Returns %         Std       Range      Volume\n",
       "count  501.000000  501.000000  501.000000  501.000000\n",
       "mean     0.222685    0.032139    0.029582    0.035056\n",
       "std      0.111817    0.066711    0.058032    0.071426\n",
       "min      0.000000    0.000000    0.000000    0.000000\n",
       "25%      0.155477    0.007728    0.008583    0.008262\n",
       "50%      0.201413    0.015124    0.017247    0.015675\n",
       "75%      0.265018    0.031265    0.031470    0.033128\n",
       "max      1.000000    1.000000    1.000000    1.000000"
      ]
     },
     "execution_count": 81,
     "metadata": {},
     "output_type": "execute_result"
    }
   ],
   "source": [
    "scaler = MinMaxScaler()\n",
    "columns_to_scale = ['Returns %', 'Std', 'Range', 'Volume']\n",
    "\n",
    "df_scaled = df2.copy()\n",
    "df_scaled[columns_to_scale] = scaler.fit_transform(df2[columns_to_scale])\n",
    "\n",
    "df_scaled.describe()"
   ]
  },
  {
   "cell_type": "code",
   "execution_count": 82,
   "id": "3b1dc801",
   "metadata": {},
   "outputs": [
    {
     "data": {
      "text/html": [
       "<div>\n",
       "<style scoped>\n",
       "    .dataframe tbody tr th:only-of-type {\n",
       "        vertical-align: middle;\n",
       "    }\n",
       "\n",
       "    .dataframe tbody tr th {\n",
       "        vertical-align: top;\n",
       "    }\n",
       "\n",
       "    .dataframe thead th {\n",
       "        text-align: right;\n",
       "    }\n",
       "</style>\n",
       "<table border=\"1\" class=\"dataframe\">\n",
       "  <thead>\n",
       "    <tr style=\"text-align: right;\">\n",
       "      <th></th>\n",
       "      <th>Symbol</th>\n",
       "      <th>Returns %</th>\n",
       "      <th>Std</th>\n",
       "      <th>Range</th>\n",
       "      <th>Volume</th>\n",
       "      <th>GICS Sector</th>\n",
       "    </tr>\n",
       "  </thead>\n",
       "  <tbody>\n",
       "    <tr>\n",
       "      <th>0</th>\n",
       "      <td>A</td>\n",
       "      <td>0.137809</td>\n",
       "      <td>0.026276</td>\n",
       "      <td>0.021497</td>\n",
       "      <td>0.013272</td>\n",
       "      <td>Health Care</td>\n",
       "    </tr>\n",
       "    <tr>\n",
       "      <th>1</th>\n",
       "      <td>AAL</td>\n",
       "      <td>0.169611</td>\n",
       "      <td>0.002543</td>\n",
       "      <td>0.002043</td>\n",
       "      <td>0.201878</td>\n",
       "      <td>Industrials</td>\n",
       "    </tr>\n",
       "    <tr>\n",
       "      <th>2</th>\n",
       "      <td>AAPL</td>\n",
       "      <td>0.353357</td>\n",
       "      <td>0.033163</td>\n",
       "      <td>0.022151</td>\n",
       "      <td>0.431133</td>\n",
       "      <td>Information Technology</td>\n",
       "    </tr>\n",
       "    <tr>\n",
       "      <th>3</th>\n",
       "      <td>ABBV</td>\n",
       "      <td>0.159011</td>\n",
       "      <td>0.012815</td>\n",
       "      <td>0.018800</td>\n",
       "      <td>0.039918</td>\n",
       "      <td>Health Care</td>\n",
       "    </tr>\n",
       "    <tr>\n",
       "      <th>4</th>\n",
       "      <td>ABNB</td>\n",
       "      <td>0.353357</td>\n",
       "      <td>0.025180</td>\n",
       "      <td>0.031470</td>\n",
       "      <td>0.044827</td>\n",
       "      <td>Consumer Discretionary</td>\n",
       "    </tr>\n",
       "    <tr>\n",
       "      <th>...</th>\n",
       "      <td>...</td>\n",
       "      <td>...</td>\n",
       "      <td>...</td>\n",
       "      <td>...</td>\n",
       "      <td>...</td>\n",
       "      <td>...</td>\n",
       "    </tr>\n",
       "    <tr>\n",
       "      <th>496</th>\n",
       "      <td>YUM</td>\n",
       "      <td>0.176678</td>\n",
       "      <td>0.008746</td>\n",
       "      <td>0.014141</td>\n",
       "      <td>0.011327</td>\n",
       "      <td>Consumer Discretionary</td>\n",
       "    </tr>\n",
       "    <tr>\n",
       "      <th>497</th>\n",
       "      <td>ZBH</td>\n",
       "      <td>0.148410</td>\n",
       "      <td>0.020172</td>\n",
       "      <td>0.016593</td>\n",
       "      <td>0.011157</td>\n",
       "      <td>Health Care</td>\n",
       "    </tr>\n",
       "    <tr>\n",
       "      <th>498</th>\n",
       "      <td>ZBRA</td>\n",
       "      <td>0.180212</td>\n",
       "      <td>0.065524</td>\n",
       "      <td>0.060814</td>\n",
       "      <td>0.002782</td>\n",
       "      <td>Information Technology</td>\n",
       "    </tr>\n",
       "    <tr>\n",
       "      <th>499</th>\n",
       "      <td>ZION</td>\n",
       "      <td>0.137809</td>\n",
       "      <td>0.014478</td>\n",
       "      <td>0.011852</td>\n",
       "      <td>0.028330</td>\n",
       "      <td>Financials</td>\n",
       "    </tr>\n",
       "    <tr>\n",
       "      <th>500</th>\n",
       "      <td>ZTS</td>\n",
       "      <td>0.286219</td>\n",
       "      <td>0.020133</td>\n",
       "      <td>0.028118</td>\n",
       "      <td>0.013976</td>\n",
       "      <td>Health Care</td>\n",
       "    </tr>\n",
       "  </tbody>\n",
       "</table>\n",
       "<p>501 rows × 6 columns</p>\n",
       "</div>"
      ],
      "text/plain": [
       "    Symbol  Returns %       Std     Range    Volume             GICS Sector\n",
       "0        A   0.137809  0.026276  0.021497  0.013272             Health Care\n",
       "1      AAL   0.169611  0.002543  0.002043  0.201878             Industrials\n",
       "2     AAPL   0.353357  0.033163  0.022151  0.431133  Information Technology\n",
       "3     ABBV   0.159011  0.012815  0.018800  0.039918             Health Care\n",
       "4     ABNB   0.353357  0.025180  0.031470  0.044827  Consumer Discretionary\n",
       "..     ...        ...       ...       ...       ...                     ...\n",
       "496    YUM   0.176678  0.008746  0.014141  0.011327  Consumer Discretionary\n",
       "497    ZBH   0.148410  0.020172  0.016593  0.011157             Health Care\n",
       "498   ZBRA   0.180212  0.065524  0.060814  0.002782  Information Technology\n",
       "499   ZION   0.137809  0.014478  0.011852  0.028330              Financials\n",
       "500    ZTS   0.286219  0.020133  0.028118  0.013976             Health Care\n",
       "\n",
       "[501 rows x 6 columns]"
      ]
     },
     "execution_count": 82,
     "metadata": {},
     "output_type": "execute_result"
    }
   ],
   "source": [
    "df_scaled"
   ]
  },
  {
   "cell_type": "markdown",
   "id": "78fb6a22",
   "metadata": {},
   "source": [
    "### Models"
   ]
  },
  {
   "cell_type": "markdown",
   "id": "6d73b616",
   "metadata": {},
   "source": [
    "#### KMeans "
   ]
  },
  {
   "cell_type": "markdown",
   "id": "7a4aee02",
   "metadata": {},
   "source": [
    "Finally I decided to use the following features for clustering: Returns, Std, Range\n",
    "\n",
    "First, I determined the optimal number of clusters for the KMeans algorith by using KElbowVisualizer and k from 2 to 12. As for the metric, I have used Distortion Score, which computes the sum of squared distances from each point to its assigned center \n"
   ]
  },
  {
   "cell_type": "code",
   "execution_count": 83,
   "id": "9973edb4",
   "metadata": {},
   "outputs": [
    {
     "data": {
      "image/png": "[encoded data removed]",
      "text/plain": [
       "<Figure size 576x396 with 2 Axes>"
      ]
     },
     "metadata": {},
     "output_type": "display_data"
    }
   ],
   "source": [
    "X = df_scaled[['Returns %', 'Std', 'Range']]\n",
    "\n",
    "kmeans = KMeans(init = 'k-means++')\n",
    "\n",
    "visualizer = KElbowVisualizer(kmeans, k = (2, 12), timings=True)\n",
    "visualizer.fit(X)\n",
    "visualizer.show();"
   ]
  },
  {
   "cell_type": "code",
   "execution_count": 84,
   "id": "6d5738ed",
   "metadata": {
    "scrolled": false
   },
   "outputs": [],
   "source": [
    "km = KMeans(n_clusters = 4)\n",
    "y_predicted_kmeans = km.fit_predict(X)"
   ]
  },
  {
   "cell_type": "code",
   "execution_count": 85,
   "id": "45a5da83",
   "metadata": {},
   "outputs": [
    {
     "data": {
      "text/html": [
       "<div>\n",
       "<style scoped>\n",
       "    .dataframe tbody tr th:only-of-type {\n",
       "        vertical-align: middle;\n",
       "    }\n",
       "\n",
       "    .dataframe tbody tr th {\n",
       "        vertical-align: top;\n",
       "    }\n",
       "\n",
       "    .dataframe thead th {\n",
       "        text-align: right;\n",
       "    }\n",
       "</style>\n",
       "<table border=\"1\" class=\"dataframe\">\n",
       "  <thead>\n",
       "    <tr style=\"text-align: right;\">\n",
       "      <th></th>\n",
       "      <th>Symbol</th>\n",
       "      <th>Returns %</th>\n",
       "      <th>Std</th>\n",
       "      <th>Range</th>\n",
       "      <th>Volume</th>\n",
       "      <th>GICS Sector</th>\n",
       "      <th>Cluster_Kmeans</th>\n",
       "    </tr>\n",
       "  </thead>\n",
       "  <tbody>\n",
       "    <tr>\n",
       "      <th>0</th>\n",
       "      <td>A</td>\n",
       "      <td>-8.0</td>\n",
       "      <td>13.98</td>\n",
       "      <td>2.80</td>\n",
       "      <td>1845002.0</td>\n",
       "      <td>Health Care</td>\n",
       "      <td>0</td>\n",
       "    </tr>\n",
       "    <tr>\n",
       "      <th>1</th>\n",
       "      <td>AAL</td>\n",
       "      <td>1.0</td>\n",
       "      <td>1.85</td>\n",
       "      <td>0.42</td>\n",
       "      <td>27740516.8</td>\n",
       "      <td>Industrials</td>\n",
       "      <td>0</td>\n",
       "    </tr>\n",
       "    <tr>\n",
       "      <th>2</th>\n",
       "      <td>AAPL</td>\n",
       "      <td>53.0</td>\n",
       "      <td>17.50</td>\n",
       "      <td>2.88</td>\n",
       "      <td>59217028.8</td>\n",
       "      <td>Information Technology</td>\n",
       "      <td>2</td>\n",
       "    </tr>\n",
       "    <tr>\n",
       "      <th>3</th>\n",
       "      <td>ABBV</td>\n",
       "      <td>-2.0</td>\n",
       "      <td>7.10</td>\n",
       "      <td>2.47</td>\n",
       "      <td>5503482.0</td>\n",
       "      <td>Health Care</td>\n",
       "      <td>0</td>\n",
       "    </tr>\n",
       "    <tr>\n",
       "      <th>4</th>\n",
       "      <td>ABNB</td>\n",
       "      <td>53.0</td>\n",
       "      <td>13.42</td>\n",
       "      <td>4.02</td>\n",
       "      <td>6177357.2</td>\n",
       "      <td>Consumer Discretionary</td>\n",
       "      <td>2</td>\n",
       "    </tr>\n",
       "  </tbody>\n",
       "</table>\n",
       "</div>"
      ],
      "text/plain": [
       "  Symbol  Returns %    Std  Range      Volume             GICS Sector  \\\n",
       "0      A       -8.0  13.98   2.80   1845002.0             Health Care   \n",
       "1    AAL        1.0   1.85   0.42  27740516.8             Industrials   \n",
       "2   AAPL       53.0  17.50   2.88  59217028.8  Information Technology   \n",
       "3   ABBV       -2.0   7.10   2.47   5503482.0             Health Care   \n",
       "4   ABNB       53.0  13.42   4.02   6177357.2  Consumer Discretionary   \n",
       "\n",
       "   Cluster_Kmeans  \n",
       "0               0  \n",
       "1               0  \n",
       "2               2  \n",
       "3               0  \n",
       "4               2  "
      ]
     },
     "execution_count": 85,
     "metadata": {},
     "output_type": "execute_result"
    }
   ],
   "source": [
    "df2['Cluster_Kmeans'] = y_predicted_kmeans\n",
    "df2.head()"
   ]
  },
  {
   "cell_type": "code",
   "execution_count": 86,
   "id": "da698a7b",
   "metadata": {},
   "outputs": [],
   "source": [
    "cluster_colors = sns.color_palette('viridis', n_colors=len(df2['Cluster_Kmeans'].unique()))"
   ]
  },
  {
   "cell_type": "code",
   "execution_count": 87,
   "id": "6bbb60ea",
   "metadata": {},
   "outputs": [
    {
     "data": {
      "image/png": "[encoded data removed]",
      "text/plain": [
       "<Figure size 288x288 with 1 Axes>"
      ]
     },
     "metadata": {},
     "output_type": "display_data"
    }
   ],
   "source": [
    "cluster_counts_kmeans = df2['Cluster_Kmeans'].value_counts()\n",
    "\n",
    "plt.figure(figsize=(4, 4))\n",
    "plt.pie(cluster_counts_kmeans, labels=cluster_counts_kmeans.index, autopct='%1.1f%%', startangle=140)\n",
    "plt.title('Distribution of Data Points Across Clusters')\n",
    "plt.show()"
   ]
  },
  {
   "cell_type": "markdown",
   "id": "358867a2",
   "metadata": {},
   "source": [
    "Here we can visualize the clusters"
   ]
  },
  {
   "cell_type": "code",
   "execution_count": 88,
   "id": "39cfa4ea",
   "metadata": {
    "scrolled": false
   },
   "outputs": [
    {
     "data": {
      "image/png": "[encoded data removed]",
      "text/plain": [
       "<Figure size 720x432 with 1 Axes>"
      ]
     },
     "metadata": {},
     "output_type": "display_data"
    }
   ],
   "source": [
    "plt.figure(figsize=(10, 6))\n",
    "sns.scatterplot(data=df2, x='Returns %', y='Std', hue='Cluster_Kmeans', palette= cluster_colors)\n",
    "plt.show()"
   ]
  },
  {
   "cell_type": "markdown",
   "id": "ae9920c0",
   "metadata": {},
   "source": [
    "Visually comparing these statistics across clusters can provide insight into the characteristics of each cluster"
   ]
  },
  {
   "cell_type": "code",
   "execution_count": 89,
   "id": "67c9d50d",
   "metadata": {},
   "outputs": [
    {
     "data": {
      "image/png": "[encoded data removed]",
      "text/plain": [
       "<Figure size 1008x432 with 2 Axes>"
      ]
     },
     "metadata": {},
     "output_type": "display_data"
    }
   ],
   "source": [
    "fig, axes = plt.subplots(nrows=1, ncols=2, figsize=(14, 6))\n",
    "\n",
    "sns.barplot(x='Cluster_Kmeans', y='Std', data=df2, palette='viridis', ax=axes[0])\n",
    "axes[0].set_xlabel('Cluster')\n",
    "axes[0].set_ylabel('Standard Deviation')\n",
    "axes[0].set_title('Standard Deviation by Cluster')\n",
    "\n",
    "sns.barplot(x='Cluster_Kmeans', y='Returns %', data=df2, palette='viridis', ax=axes[1])\n",
    "axes[1].set_xlabel('Cluster')\n",
    "axes[1].set_ylabel('Average Returns %')\n",
    "axes[1].set_title('Average Returns by Cluster')\n",
    "\n",
    "plt.tight_layout()\n",
    "\n",
    "plt.show()"
   ]
  },
  {
   "cell_type": "code",
   "execution_count": 90,
   "id": "135dfd83",
   "metadata": {
    "scrolled": false
   },
   "outputs": [
    {
     "data": {
      "image/png": "[encoded data removed]",
      "text/plain": [
       "<Figure size 864x576 with 1 Axes>"
      ]
     },
     "metadata": {},
     "output_type": "display_data"
    }
   ],
   "source": [
    "plt.figure(figsize=(12, 8))\n",
    "sns.countplot(x='GICS Sector', hue='Cluster_Kmeans', data=df2, palette= cluster_colors)\n",
    "\n",
    "plt.xlabel('GICS Sector')\n",
    "plt.ylabel('Count')\n",
    "plt.title('Distribution of Clusters Within GICS Sectors')\n",
    "\n",
    "plt.legend(title='Cluster', loc='upper right')\n",
    "\n",
    "plt.xticks(rotation=45, ha='right')\n",
    "\n",
    "plt.show()"
   ]
  },
  {
   "cell_type": "markdown",
   "id": "6d091cb5",
   "metadata": {},
   "source": [
    "####  Agglomerative"
   ]
  },
  {
   "cell_type": "markdown",
   "id": "ba4476e8",
   "metadata": {},
   "source": [
    "Then let's use Agglomerative clustering technique, and for optimal number i used **silhouette score**. The silhouette score calculates the mean Silhouette Coefficient of all samples"
   ]
  },
  {
   "cell_type": "code",
   "execution_count": 91,
   "id": "5dacf26f",
   "metadata": {},
   "outputs": [
    {
     "name": "stdout",
     "output_type": "stream",
     "text": [
      "Optimal number of clusters: 2\n"
     ]
    },
    {
     "data": {
      "image/png": "[encoded data removed]",
      "text/plain": [
       "<Figure size 576x396 with 1 Axes>"
      ]
     },
     "metadata": {},
     "output_type": "display_data"
    }
   ],
   "source": [
    "silhouette_scores = []\n",
    "cluster_range = range(2, 11)\n",
    "for n_clusters in cluster_range:\n",
    "    model = AgglomerativeClustering(n_clusters = n_clusters, affinity='euclidean', linkage = 'ward')\n",
    "    cluster_labels = model.fit_predict(X)\n",
    "    silhouette_avg = silhouette_score(X, cluster_labels)\n",
    "    silhouette_scores.append(silhouette_avg)\n",
    "optimal_n_clusters = cluster_range[np.argmax(silhouette_scores)]\n",
    "print(f\"Optimal number of clusters: {optimal_n_clusters}\")\n",
    "plt.plot(cluster_range, silhouette_scores, marker='o')\n",
    "plt.xlabel('Number of Clusters')\n",
    "plt.ylabel('Silhouette Score')\n",
    "plt.title('Silhouette Score for Hierarchical Clustering')\n",
    "plt.show()"
   ]
  },
  {
   "cell_type": "code",
   "execution_count": 92,
   "id": "d1be5ecf",
   "metadata": {},
   "outputs": [
    {
     "data": {
      "text/html": [
       "<div>\n",
       "<style scoped>\n",
       "    .dataframe tbody tr th:only-of-type {\n",
       "        vertical-align: middle;\n",
       "    }\n",
       "\n",
       "    .dataframe tbody tr th {\n",
       "        vertical-align: top;\n",
       "    }\n",
       "\n",
       "    .dataframe thead th {\n",
       "        text-align: right;\n",
       "    }\n",
       "</style>\n",
       "<table border=\"1\" class=\"dataframe\">\n",
       "  <thead>\n",
       "    <tr style=\"text-align: right;\">\n",
       "      <th></th>\n",
       "      <th>Symbol</th>\n",
       "      <th>Returns %</th>\n",
       "      <th>Std</th>\n",
       "      <th>Range</th>\n",
       "      <th>Volume</th>\n",
       "      <th>GICS Sector</th>\n",
       "      <th>Cluster_Kmeans</th>\n",
       "      <th>Cluster_Agglomerate</th>\n",
       "    </tr>\n",
       "  </thead>\n",
       "  <tbody>\n",
       "    <tr>\n",
       "      <th>0</th>\n",
       "      <td>A</td>\n",
       "      <td>-8.0</td>\n",
       "      <td>13.98</td>\n",
       "      <td>2.80</td>\n",
       "      <td>1845002.0</td>\n",
       "      <td>Health Care</td>\n",
       "      <td>0</td>\n",
       "      <td>1</td>\n",
       "    </tr>\n",
       "    <tr>\n",
       "      <th>1</th>\n",
       "      <td>AAL</td>\n",
       "      <td>1.0</td>\n",
       "      <td>1.85</td>\n",
       "      <td>0.42</td>\n",
       "      <td>27740516.8</td>\n",
       "      <td>Industrials</td>\n",
       "      <td>0</td>\n",
       "      <td>1</td>\n",
       "    </tr>\n",
       "    <tr>\n",
       "      <th>2</th>\n",
       "      <td>AAPL</td>\n",
       "      <td>53.0</td>\n",
       "      <td>17.50</td>\n",
       "      <td>2.88</td>\n",
       "      <td>59217028.8</td>\n",
       "      <td>Information Technology</td>\n",
       "      <td>2</td>\n",
       "      <td>0</td>\n",
       "    </tr>\n",
       "    <tr>\n",
       "      <th>3</th>\n",
       "      <td>ABBV</td>\n",
       "      <td>-2.0</td>\n",
       "      <td>7.10</td>\n",
       "      <td>2.47</td>\n",
       "      <td>5503482.0</td>\n",
       "      <td>Health Care</td>\n",
       "      <td>0</td>\n",
       "      <td>1</td>\n",
       "    </tr>\n",
       "    <tr>\n",
       "      <th>4</th>\n",
       "      <td>ABNB</td>\n",
       "      <td>53.0</td>\n",
       "      <td>13.42</td>\n",
       "      <td>4.02</td>\n",
       "      <td>6177357.2</td>\n",
       "      <td>Consumer Discretionary</td>\n",
       "      <td>2</td>\n",
       "      <td>0</td>\n",
       "    </tr>\n",
       "  </tbody>\n",
       "</table>\n",
       "</div>"
      ],
      "text/plain": [
       "  Symbol  Returns %    Std  Range      Volume             GICS Sector  \\\n",
       "0      A       -8.0  13.98   2.80   1845002.0             Health Care   \n",
       "1    AAL        1.0   1.85   0.42  27740516.8             Industrials   \n",
       "2   AAPL       53.0  17.50   2.88  59217028.8  Information Technology   \n",
       "3   ABBV       -2.0   7.10   2.47   5503482.0             Health Care   \n",
       "4   ABNB       53.0  13.42   4.02   6177357.2  Consumer Discretionary   \n",
       "\n",
       "   Cluster_Kmeans  Cluster_Agglomerate  \n",
       "0               0                    1  \n",
       "1               0                    1  \n",
       "2               2                    0  \n",
       "3               0                    1  \n",
       "4               2                    0  "
      ]
     },
     "execution_count": 92,
     "metadata": {},
     "output_type": "execute_result"
    }
   ],
   "source": [
    "agglomerative = AgglomerativeClustering(n_clusters=2, affinity='euclidean', linkage = 'ward')\n",
    "y_predicted_agglomerative = agglomerative.fit_predict(X)\n",
    "df2['Cluster_Agglomerate'] = y_predicted_agglomerative\n",
    "df2.head()"
   ]
  },
  {
   "cell_type": "code",
   "execution_count": 93,
   "id": "27ff63dc",
   "metadata": {},
   "outputs": [
    {
     "data": {
      "image/png": "[encoded data removed]",
      "text/plain": [
       "<Figure size 720x432 with 1 Axes>"
      ]
     },
     "metadata": {},
     "output_type": "display_data"
    }
   ],
   "source": [
    "plt.figure(figsize=(10, 6))\n",
    "sns.scatterplot(data=df2, x='Returns %', y='Std', hue='Cluster_Agglomerate', palette='viridis')\n",
    "plt.show()"
   ]
  },
  {
   "cell_type": "code",
   "execution_count": 95,
   "id": "794cbb61",
   "metadata": {},
   "outputs": [
    {
     "data": {
      "image/png": "[encoded data removed]",
      "text/plain": [
       "<Figure size 720x432 with 1 Axes>"
      ]
     },
     "metadata": {},
     "output_type": "display_data"
    }
   ],
   "source": [
    "plt.figure(figsize=(10, 6))\n",
    "sns.scatterplot(data=df2, x='Returns %', y='Std', hue='Cluster_Kmeans', palette= cluster_colors)\n",
    "plt.show()"
   ]
  },
  {
   "cell_type": "markdown",
   "id": "c1a3230f",
   "metadata": {},
   "source": [
    "### Conclusion"
   ]
  },
  {
   "cell_type": "markdown",
   "id": "f8fbaee2",
   "metadata": {},
   "source": [
    "Finally, we can conclude that the **KMeans** worked better than Agglomerative Clustering, since the clusters are better distinguished visually, and accordingly, this allows you to more diversify your portfolio by buying shares in equal quantities from the clusters, and protect yourself from the risks of losing money funds."
   ]
  },
  {
   "cell_type": "markdown",
   "id": "575c5b57",
   "metadata": {},
   "source": [
    "### Suggestion for next steps"
   ]
  },
  {
   "cell_type": "markdown",
   "id": "f9b92ec1",
   "metadata": {},
   "source": [
    "In addition to clustering based on risk and return. You can cluster companies according to their main financial indicators: Net profit, Equity, Long-term Debt, Revenue, Return on Equity and so on"
   ]
  }
 ],
 "metadata": {
  "kernelspec": {
   "display_name": "Python 3 (ipykernel)",
   "language": "python",
   "name": "python3"
  },
  "language_info": {
   "codemirror_mode": {
    "name": "ipython",
    "version": 3
   },
   "file_extension": ".py",
   "mimetype": "text/x-python",
   "name": "python",
   "nbconvert_exporter": "python",
   "pygments_lexer": "ipython3",
   "version": "3.9.12"
  }
 },
 "nbformat": 4,
 "nbformat_minor": 5
}
